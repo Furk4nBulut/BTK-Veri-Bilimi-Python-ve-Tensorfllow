{
 "cells": [
  {
   "cell_type": "markdown",
   "id": "af59e4ce",
   "metadata": {},
   "source": [
    "# Pandas"
   ]
  },
  {
   "cell_type": "code",
   "execution_count": 2,
   "id": "e03d93aa",
   "metadata": {},
   "outputs": [],
   "source": [
    "import numpy as np\n",
    "import pandas as pd"
   ]
  },
  {
   "cell_type": "markdown",
   "id": "69015917",
   "metadata": {},
   "source": [
    "## Series"
   ]
  },
  {
   "cell_type": "code",
   "execution_count": 3,
   "id": "bbc50f68",
   "metadata": {},
   "outputs": [],
   "source": [
    "myDictionary = {\"Furkan\":20,\"Atil\":40,\"Ahmet\":23}"
   ]
  },
  {
   "cell_type": "code",
   "execution_count": 4,
   "id": "7429cae9",
   "metadata": {},
   "outputs": [
    {
     "data": {
      "text/plain": [
       "Furkan    20\n",
       "Atil      40\n",
       "Ahmet     23\n",
       "dtype: int64"
      ]
     },
     "execution_count": 4,
     "metadata": {},
     "output_type": "execute_result"
    }
   ],
   "source": [
    "pd.Series(myDictionary)"
   ]
  },
  {
   "cell_type": "code",
   "execution_count": 5,
   "id": "86a421a8",
   "metadata": {},
   "outputs": [],
   "source": [
    "ages = [10,20,30]\n",
    "names =[\"Furkan\",\"Ahmet\",\"Bulut\"]"
   ]
  },
  {
   "cell_type": "code",
   "execution_count": 6,
   "id": "2a0cfa9b",
   "metadata": {},
   "outputs": [
    {
     "data": {
      "text/plain": [
       "0    10\n",
       "1    20\n",
       "2    30\n",
       "dtype: int64"
      ]
     },
     "execution_count": 6,
     "metadata": {},
     "output_type": "execute_result"
    }
   ],
   "source": [
    "pd.Series(ages)"
   ]
  },
  {
   "cell_type": "code",
   "execution_count": 7,
   "id": "2a259043",
   "metadata": {},
   "outputs": [
    {
     "data": {
      "text/plain": [
       "Furkan    10\n",
       "Ahmet     20\n",
       "Bulut     30\n",
       "dtype: int64"
      ]
     },
     "execution_count": 7,
     "metadata": {},
     "output_type": "execute_result"
    }
   ],
   "source": [
    "pd.Series(ages,names)"
   ]
  },
  {
   "cell_type": "code",
   "execution_count": 8,
   "id": "16c532bd",
   "metadata": {},
   "outputs": [
    {
     "data": {
      "text/plain": [
       "10    Furkan\n",
       "20     Ahmet\n",
       "30     Bulut\n",
       "dtype: object"
      ]
     },
     "execution_count": 8,
     "metadata": {},
     "output_type": "execute_result"
    }
   ],
   "source": [
    "pd.Series(names,ages)"
   ]
  },
  {
   "cell_type": "code",
   "execution_count": 10,
   "id": "61149bc0",
   "metadata": {},
   "outputs": [
    {
     "data": {
      "text/plain": [
       "Furkan    10\n",
       "Ahmet     20\n",
       "Bulut     30\n",
       "dtype: int64"
      ]
     },
     "execution_count": 10,
     "metadata": {},
     "output_type": "execute_result"
    }
   ],
   "source": [
    "pd.Series(data=ages,index=names)"
   ]
  },
  {
   "cell_type": "code",
   "execution_count": 16,
   "id": "fc4f78e4",
   "metadata": {},
   "outputs": [],
   "source": [
    "numpyArray = np.array([50,40,30])"
   ]
  },
  {
   "cell_type": "code",
   "execution_count": 17,
   "id": "806af508",
   "metadata": {},
   "outputs": [
    {
     "data": {
      "text/plain": [
       "array([50, 40, 30])"
      ]
     },
     "execution_count": 17,
     "metadata": {},
     "output_type": "execute_result"
    }
   ],
   "source": [
    "numpyArray"
   ]
  },
  {
   "cell_type": "code",
   "execution_count": 18,
   "id": "cdd40aa9",
   "metadata": {},
   "outputs": [
    {
     "data": {
      "text/plain": [
       "0    50\n",
       "1    40\n",
       "2    30\n",
       "dtype: int32"
      ]
     },
     "execution_count": 18,
     "metadata": {},
     "output_type": "execute_result"
    }
   ],
   "source": [
    "pd.Series(numpyArray)"
   ]
  },
  {
   "cell_type": "code",
   "execution_count": 19,
   "id": "f22dba39",
   "metadata": {},
   "outputs": [
    {
     "data": {
      "text/plain": [
       "Furkan    50\n",
       "Ahmet     40\n",
       "Bulut     30\n",
       "dtype: int32"
      ]
     },
     "execution_count": 19,
     "metadata": {},
     "output_type": "execute_result"
    }
   ],
   "source": [
    "pd.Series(numpyArray,names)"
   ]
  },
  {
   "cell_type": "code",
   "execution_count": 21,
   "id": "4c67e05a",
   "metadata": {},
   "outputs": [
    {
     "data": {
      "text/plain": [
       "1    Furkan\n",
       "2     Ahmet\n",
       "3     Bulut\n",
       "dtype: object"
      ]
     },
     "execution_count": 21,
     "metadata": {},
     "output_type": "execute_result"
    }
   ],
   "source": [
    "pd.Series([\"Furkan\",\"Ahmet\",\"Bulut\"],[1,2,3])"
   ]
  },
  {
   "cell_type": "code",
   "execution_count": 28,
   "id": "942a4f67",
   "metadata": {},
   "outputs": [],
   "source": [
    "raceResult1 = pd.Series([10,5,1],[\"Furkan\",\"Ahmet\",\"Bulut\"])"
   ]
  },
  {
   "cell_type": "code",
   "execution_count": 29,
   "id": "0eba7ccd",
   "metadata": {},
   "outputs": [
    {
     "data": {
      "text/plain": [
       "Furkan    10\n",
       "Ahmet      5\n",
       "Bulut      1\n",
       "dtype: int64"
      ]
     },
     "execution_count": 29,
     "metadata": {},
     "output_type": "execute_result"
    }
   ],
   "source": [
    "raceResult1"
   ]
  },
  {
   "cell_type": "code",
   "execution_count": 30,
   "id": "8bd1cfa3",
   "metadata": {},
   "outputs": [],
   "source": [
    "raceResult2 = pd.Series([20,10,8],[\"Furkan\",\"Ahmet\",\"Bulut\"])"
   ]
  },
  {
   "cell_type": "code",
   "execution_count": 31,
   "id": "caf3190e",
   "metadata": {},
   "outputs": [
    {
     "data": {
      "text/plain": [
       "Furkan    20\n",
       "Ahmet     10\n",
       "Bulut      8\n",
       "dtype: int64"
      ]
     },
     "execution_count": 31,
     "metadata": {},
     "output_type": "execute_result"
    }
   ],
   "source": [
    "raceResult2"
   ]
  },
  {
   "cell_type": "code",
   "execution_count": 32,
   "id": "975e0a47",
   "metadata": {},
   "outputs": [],
   "source": [
    "result = raceResult1 + raceResult2"
   ]
  },
  {
   "cell_type": "code",
   "execution_count": 33,
   "id": "57320030",
   "metadata": {},
   "outputs": [
    {
     "data": {
      "text/plain": [
       "Furkan    30\n",
       "Ahmet     15\n",
       "Bulut      9\n",
       "dtype: int64"
      ]
     },
     "execution_count": 33,
     "metadata": {},
     "output_type": "execute_result"
    }
   ],
   "source": [
    "result"
   ]
  },
  {
   "cell_type": "code",
   "execution_count": 34,
   "id": "a82275a8",
   "metadata": {},
   "outputs": [],
   "source": [
    "differentSeries = pd.Series([20,30,40,50],[\"a\",\"b\",\"c\",\"d\"])"
   ]
  },
  {
   "cell_type": "code",
   "execution_count": 38,
   "id": "569ec527",
   "metadata": {},
   "outputs": [],
   "source": [
    "differentSeries2 = pd.Series([10,5,3,1],[\"a\",\"c\",\"f\",\"g\"])"
   ]
  },
  {
   "cell_type": "code",
   "execution_count": 39,
   "id": "cb0700c6",
   "metadata": {},
   "outputs": [
    {
     "data": {
      "text/plain": [
       "a    20\n",
       "b    30\n",
       "c    40\n",
       "d    50\n",
       "dtype: int64"
      ]
     },
     "execution_count": 39,
     "metadata": {},
     "output_type": "execute_result"
    }
   ],
   "source": [
    "differentSeries"
   ]
  },
  {
   "cell_type": "code",
   "execution_count": 40,
   "id": "9c113d14",
   "metadata": {},
   "outputs": [
    {
     "data": {
      "text/plain": [
       "a    10\n",
       "c     5\n",
       "f     3\n",
       "g     1\n",
       "dtype: int64"
      ]
     },
     "execution_count": 40,
     "metadata": {},
     "output_type": "execute_result"
    }
   ],
   "source": [
    "differentSeries2"
   ]
  },
  {
   "cell_type": "code",
   "execution_count": 41,
   "id": "c042d93d",
   "metadata": {},
   "outputs": [
    {
     "data": {
      "text/plain": [
       "a    30.0\n",
       "b     NaN\n",
       "c    45.0\n",
       "d     NaN\n",
       "f     NaN\n",
       "g     NaN\n",
       "dtype: float64"
      ]
     },
     "execution_count": 41,
     "metadata": {},
     "output_type": "execute_result"
    }
   ],
   "source": [
    "differentSeries + differentSeries2"
   ]
  },
  {
   "cell_type": "markdown",
   "id": "e651bab0",
   "metadata": {},
   "source": [
    "## DataFrame"
   ]
  },
  {
   "cell_type": "code",
   "execution_count": 46,
   "id": "415f85ab",
   "metadata": {},
   "outputs": [],
   "source": [
    "data = np.random.randn(4,3)"
   ]
  },
  {
   "cell_type": "code",
   "execution_count": 47,
   "id": "030a0668",
   "metadata": {},
   "outputs": [
    {
     "data": {
      "text/plain": [
       "array([[ 0.07687228,  1.3401347 , -0.90940769],\n",
       "       [ 0.01128908, -0.77068601,  1.47718109],\n",
       "       [ 2.31067157,  0.6610011 ,  1.08350702],\n",
       "       [ 1.76141166, -0.60369206,  0.12894714]])"
      ]
     },
     "execution_count": 47,
     "metadata": {},
     "output_type": "execute_result"
    }
   ],
   "source": [
    "data"
   ]
  },
  {
   "cell_type": "code",
   "execution_count": 48,
   "id": "c9263a16",
   "metadata": {},
   "outputs": [],
   "source": [
    "dataFrame = pd.DataFrame(data)"
   ]
  },
  {
   "cell_type": "code",
   "execution_count": 49,
   "id": "4bb7089d",
   "metadata": {},
   "outputs": [
    {
     "data": {
      "text/html": [
       "<div>\n",
       "<style scoped>\n",
       "    .dataframe tbody tr th:only-of-type {\n",
       "        vertical-align: middle;\n",
       "    }\n",
       "\n",
       "    .dataframe tbody tr th {\n",
       "        vertical-align: top;\n",
       "    }\n",
       "\n",
       "    .dataframe thead th {\n",
       "        text-align: right;\n",
       "    }\n",
       "</style>\n",
       "<table border=\"1\" class=\"dataframe\">\n",
       "  <thead>\n",
       "    <tr style=\"text-align: right;\">\n",
       "      <th></th>\n",
       "      <th>0</th>\n",
       "      <th>1</th>\n",
       "      <th>2</th>\n",
       "    </tr>\n",
       "  </thead>\n",
       "  <tbody>\n",
       "    <tr>\n",
       "      <th>0</th>\n",
       "      <td>0.076872</td>\n",
       "      <td>1.340135</td>\n",
       "      <td>-0.909408</td>\n",
       "    </tr>\n",
       "    <tr>\n",
       "      <th>1</th>\n",
       "      <td>0.011289</td>\n",
       "      <td>-0.770686</td>\n",
       "      <td>1.477181</td>\n",
       "    </tr>\n",
       "    <tr>\n",
       "      <th>2</th>\n",
       "      <td>2.310672</td>\n",
       "      <td>0.661001</td>\n",
       "      <td>1.083507</td>\n",
       "    </tr>\n",
       "    <tr>\n",
       "      <th>3</th>\n",
       "      <td>1.761412</td>\n",
       "      <td>-0.603692</td>\n",
       "      <td>0.128947</td>\n",
       "    </tr>\n",
       "  </tbody>\n",
       "</table>\n",
       "</div>"
      ],
      "text/plain": [
       "          0         1         2\n",
       "0  0.076872  1.340135 -0.909408\n",
       "1  0.011289 -0.770686  1.477181\n",
       "2  2.310672  0.661001  1.083507\n",
       "3  1.761412 -0.603692  0.128947"
      ]
     },
     "execution_count": 49,
     "metadata": {},
     "output_type": "execute_result"
    }
   ],
   "source": [
    "dataFrame"
   ]
  },
  {
   "cell_type": "code",
   "execution_count": 51,
   "id": "5bd26a5b",
   "metadata": {},
   "outputs": [
    {
     "data": {
      "text/plain": [
       "0    0.076872\n",
       "1    0.011289\n",
       "2    2.310672\n",
       "3    1.761412\n",
       "Name: 0, dtype: float64"
      ]
     },
     "execution_count": 51,
     "metadata": {},
     "output_type": "execute_result"
    }
   ],
   "source": [
    "dataFrame[0]"
   ]
  },
  {
   "cell_type": "code",
   "execution_count": 52,
   "id": "00edfee7",
   "metadata": {},
   "outputs": [
    {
     "data": {
      "text/plain": [
       "pandas.core.series.Series"
      ]
     },
     "execution_count": 52,
     "metadata": {},
     "output_type": "execute_result"
    }
   ],
   "source": [
    "type(dataFrame[0])"
   ]
  },
  {
   "cell_type": "code",
   "execution_count": 55,
   "id": "6e0302d6",
   "metadata": {},
   "outputs": [],
   "source": [
    "newDataFrame = pd.DataFrame(data,index=[\"Furkan\",\"Ahmet\",\"Adem\",\"Hatice\"],columns =[\"Maas\",\"Yas\",\"Calisma Saati\"])"
   ]
  },
  {
   "cell_type": "code",
   "execution_count": 56,
   "id": "d79bbc45",
   "metadata": {},
   "outputs": [
    {
     "data": {
      "text/html": [
       "<div>\n",
       "<style scoped>\n",
       "    .dataframe tbody tr th:only-of-type {\n",
       "        vertical-align: middle;\n",
       "    }\n",
       "\n",
       "    .dataframe tbody tr th {\n",
       "        vertical-align: top;\n",
       "    }\n",
       "\n",
       "    .dataframe thead th {\n",
       "        text-align: right;\n",
       "    }\n",
       "</style>\n",
       "<table border=\"1\" class=\"dataframe\">\n",
       "  <thead>\n",
       "    <tr style=\"text-align: right;\">\n",
       "      <th></th>\n",
       "      <th>Maas</th>\n",
       "      <th>Yas</th>\n",
       "      <th>Calisma Saati</th>\n",
       "    </tr>\n",
       "  </thead>\n",
       "  <tbody>\n",
       "    <tr>\n",
       "      <th>Furkan</th>\n",
       "      <td>0.076872</td>\n",
       "      <td>1.340135</td>\n",
       "      <td>-0.909408</td>\n",
       "    </tr>\n",
       "    <tr>\n",
       "      <th>Ahmet</th>\n",
       "      <td>0.011289</td>\n",
       "      <td>-0.770686</td>\n",
       "      <td>1.477181</td>\n",
       "    </tr>\n",
       "    <tr>\n",
       "      <th>Adem</th>\n",
       "      <td>2.310672</td>\n",
       "      <td>0.661001</td>\n",
       "      <td>1.083507</td>\n",
       "    </tr>\n",
       "    <tr>\n",
       "      <th>Hatice</th>\n",
       "      <td>1.761412</td>\n",
       "      <td>-0.603692</td>\n",
       "      <td>0.128947</td>\n",
       "    </tr>\n",
       "  </tbody>\n",
       "</table>\n",
       "</div>"
      ],
      "text/plain": [
       "            Maas       Yas  Calisma Saati\n",
       "Furkan  0.076872  1.340135      -0.909408\n",
       "Ahmet   0.011289 -0.770686       1.477181\n",
       "Adem    2.310672  0.661001       1.083507\n",
       "Hatice  1.761412 -0.603692       0.128947"
      ]
     },
     "execution_count": 56,
     "metadata": {},
     "output_type": "execute_result"
    }
   ],
   "source": [
    "newDataFrame"
   ]
  },
  {
   "cell_type": "code",
   "execution_count": 60,
   "id": "526afc9a",
   "metadata": {},
   "outputs": [
    {
     "data": {
      "text/plain": [
       "Furkan    1.340135\n",
       "Ahmet    -0.770686\n",
       "Adem      0.661001\n",
       "Hatice   -0.603692\n",
       "Name: Yas, dtype: float64"
      ]
     },
     "execution_count": 60,
     "metadata": {},
     "output_type": "execute_result"
    }
   ],
   "source": [
    "newDataFrame[\"Yas\"]"
   ]
  },
  {
   "cell_type": "code",
   "execution_count": 65,
   "id": "1188f801",
   "metadata": {},
   "outputs": [
    {
     "data": {
      "text/html": [
       "<div>\n",
       "<style scoped>\n",
       "    .dataframe tbody tr th:only-of-type {\n",
       "        vertical-align: middle;\n",
       "    }\n",
       "\n",
       "    .dataframe tbody tr th {\n",
       "        vertical-align: top;\n",
       "    }\n",
       "\n",
       "    .dataframe thead th {\n",
       "        text-align: right;\n",
       "    }\n",
       "</style>\n",
       "<table border=\"1\" class=\"dataframe\">\n",
       "  <thead>\n",
       "    <tr style=\"text-align: right;\">\n",
       "      <th></th>\n",
       "      <th>Yas</th>\n",
       "      <th>Maas</th>\n",
       "    </tr>\n",
       "  </thead>\n",
       "  <tbody>\n",
       "    <tr>\n",
       "      <th>Furkan</th>\n",
       "      <td>1.340135</td>\n",
       "      <td>0.076872</td>\n",
       "    </tr>\n",
       "    <tr>\n",
       "      <th>Ahmet</th>\n",
       "      <td>-0.770686</td>\n",
       "      <td>0.011289</td>\n",
       "    </tr>\n",
       "    <tr>\n",
       "      <th>Adem</th>\n",
       "      <td>0.661001</td>\n",
       "      <td>2.310672</td>\n",
       "    </tr>\n",
       "    <tr>\n",
       "      <th>Hatice</th>\n",
       "      <td>-0.603692</td>\n",
       "      <td>1.761412</td>\n",
       "    </tr>\n",
       "  </tbody>\n",
       "</table>\n",
       "</div>"
      ],
      "text/plain": [
       "             Yas      Maas\n",
       "Furkan  1.340135  0.076872\n",
       "Ahmet  -0.770686  0.011289\n",
       "Adem    0.661001  2.310672\n",
       "Hatice -0.603692  1.761412"
      ]
     },
     "execution_count": 65,
     "metadata": {},
     "output_type": "execute_result"
    }
   ],
   "source": [
    "newDataFrame[[\"Yas\",\"Maas\"]]"
   ]
  },
  {
   "cell_type": "code",
   "execution_count": 66,
   "id": "4c0ece12",
   "metadata": {},
   "outputs": [
    {
     "data": {
      "text/plain": [
       "Maas             0.076872\n",
       "Yas              1.340135\n",
       "Calisma Saati   -0.909408\n",
       "Name: Furkan, dtype: float64"
      ]
     },
     "execution_count": 66,
     "metadata": {},
     "output_type": "execute_result"
    }
   ],
   "source": [
    "newDataFrame.loc[\"Furkan\"]"
   ]
  },
  {
   "cell_type": "code",
   "execution_count": 68,
   "id": "beb3004f",
   "metadata": {},
   "outputs": [
    {
     "data": {
      "text/html": [
       "<div>\n",
       "<style scoped>\n",
       "    .dataframe tbody tr th:only-of-type {\n",
       "        vertical-align: middle;\n",
       "    }\n",
       "\n",
       "    .dataframe tbody tr th {\n",
       "        vertical-align: top;\n",
       "    }\n",
       "\n",
       "    .dataframe thead th {\n",
       "        text-align: right;\n",
       "    }\n",
       "</style>\n",
       "<table border=\"1\" class=\"dataframe\">\n",
       "  <thead>\n",
       "    <tr style=\"text-align: right;\">\n",
       "      <th></th>\n",
       "      <th>Maas</th>\n",
       "      <th>Yas</th>\n",
       "      <th>Calisma Saati</th>\n",
       "    </tr>\n",
       "  </thead>\n",
       "  <tbody>\n",
       "    <tr>\n",
       "      <th>Furkan</th>\n",
       "      <td>0.076872</td>\n",
       "      <td>1.340135</td>\n",
       "      <td>-0.909408</td>\n",
       "    </tr>\n",
       "    <tr>\n",
       "      <th>Ahmet</th>\n",
       "      <td>0.011289</td>\n",
       "      <td>-0.770686</td>\n",
       "      <td>1.477181</td>\n",
       "    </tr>\n",
       "  </tbody>\n",
       "</table>\n",
       "</div>"
      ],
      "text/plain": [
       "            Maas       Yas  Calisma Saati\n",
       "Furkan  0.076872  1.340135      -0.909408\n",
       "Ahmet   0.011289 -0.770686       1.477181"
      ]
     },
     "execution_count": 68,
     "metadata": {},
     "output_type": "execute_result"
    }
   ],
   "source": [
    "newDataFrame.loc[[\"Furkan\",\"Ahmet\"]]"
   ]
  },
  {
   "cell_type": "code",
   "execution_count": 69,
   "id": "31796505",
   "metadata": {},
   "outputs": [
    {
     "data": {
      "text/plain": [
       "Maas             0.076872\n",
       "Yas              1.340135\n",
       "Calisma Saati   -0.909408\n",
       "Name: Furkan, dtype: float64"
      ]
     },
     "execution_count": 69,
     "metadata": {},
     "output_type": "execute_result"
    }
   ],
   "source": [
    "newDataFrame.iloc[0]"
   ]
  },
  {
   "cell_type": "markdown",
   "id": "91b242e5",
   "metadata": {},
   "source": [
    "### DataFrame İndex"
   ]
  },
  {
   "cell_type": "code",
   "execution_count": 78,
   "id": "38ed670a",
   "metadata": {},
   "outputs": [],
   "source": [
    "newDataFrame[\"Emeklilik Yasi\"] = newDataFrame[\"Yas\"] + newDataFrame[\"Yas\"]"
   ]
  },
  {
   "cell_type": "code",
   "execution_count": 79,
   "id": "e5425d1b",
   "metadata": {},
   "outputs": [
    {
     "data": {
      "text/html": [
       "<div>\n",
       "<style scoped>\n",
       "    .dataframe tbody tr th:only-of-type {\n",
       "        vertical-align: middle;\n",
       "    }\n",
       "\n",
       "    .dataframe tbody tr th {\n",
       "        vertical-align: top;\n",
       "    }\n",
       "\n",
       "    .dataframe thead th {\n",
       "        text-align: right;\n",
       "    }\n",
       "</style>\n",
       "<table border=\"1\" class=\"dataframe\">\n",
       "  <thead>\n",
       "    <tr style=\"text-align: right;\">\n",
       "      <th></th>\n",
       "      <th>Maas</th>\n",
       "      <th>Yas</th>\n",
       "      <th>Calisma Saati</th>\n",
       "      <th>Emeklilik Yasi</th>\n",
       "    </tr>\n",
       "  </thead>\n",
       "  <tbody>\n",
       "    <tr>\n",
       "      <th>Furkan</th>\n",
       "      <td>0.076872</td>\n",
       "      <td>1.340135</td>\n",
       "      <td>-0.909408</td>\n",
       "      <td>2.680269</td>\n",
       "    </tr>\n",
       "    <tr>\n",
       "      <th>Ahmet</th>\n",
       "      <td>0.011289</td>\n",
       "      <td>-0.770686</td>\n",
       "      <td>1.477181</td>\n",
       "      <td>-1.541372</td>\n",
       "    </tr>\n",
       "    <tr>\n",
       "      <th>Adem</th>\n",
       "      <td>2.310672</td>\n",
       "      <td>0.661001</td>\n",
       "      <td>1.083507</td>\n",
       "      <td>1.322002</td>\n",
       "    </tr>\n",
       "    <tr>\n",
       "      <th>Hatice</th>\n",
       "      <td>1.761412</td>\n",
       "      <td>-0.603692</td>\n",
       "      <td>0.128947</td>\n",
       "      <td>-1.207384</td>\n",
       "    </tr>\n",
       "  </tbody>\n",
       "</table>\n",
       "</div>"
      ],
      "text/plain": [
       "            Maas       Yas  Calisma Saati  Emeklilik Yasi\n",
       "Furkan  0.076872  1.340135      -0.909408        2.680269\n",
       "Ahmet   0.011289 -0.770686       1.477181       -1.541372\n",
       "Adem    2.310672  0.661001       1.083507        1.322002\n",
       "Hatice  1.761412 -0.603692       0.128947       -1.207384"
      ]
     },
     "execution_count": 79,
     "metadata": {},
     "output_type": "execute_result"
    }
   ],
   "source": [
    "newDataFrame"
   ]
  },
  {
   "cell_type": "code",
   "execution_count": 83,
   "id": "1e51e343",
   "metadata": {},
   "outputs": [
    {
     "data": {
      "text/html": [
       "<div>\n",
       "<style scoped>\n",
       "    .dataframe tbody tr th:only-of-type {\n",
       "        vertical-align: middle;\n",
       "    }\n",
       "\n",
       "    .dataframe tbody tr th {\n",
       "        vertical-align: top;\n",
       "    }\n",
       "\n",
       "    .dataframe thead th {\n",
       "        text-align: right;\n",
       "    }\n",
       "</style>\n",
       "<table border=\"1\" class=\"dataframe\">\n",
       "  <thead>\n",
       "    <tr style=\"text-align: right;\">\n",
       "      <th></th>\n",
       "      <th>Maas</th>\n",
       "      <th>Yas</th>\n",
       "      <th>Calisma Saati</th>\n",
       "    </tr>\n",
       "  </thead>\n",
       "  <tbody>\n",
       "    <tr>\n",
       "      <th>Furkan</th>\n",
       "      <td>0.076872</td>\n",
       "      <td>1.340135</td>\n",
       "      <td>-0.909408</td>\n",
       "    </tr>\n",
       "    <tr>\n",
       "      <th>Ahmet</th>\n",
       "      <td>0.011289</td>\n",
       "      <td>-0.770686</td>\n",
       "      <td>1.477181</td>\n",
       "    </tr>\n",
       "    <tr>\n",
       "      <th>Adem</th>\n",
       "      <td>2.310672</td>\n",
       "      <td>0.661001</td>\n",
       "      <td>1.083507</td>\n",
       "    </tr>\n",
       "    <tr>\n",
       "      <th>Hatice</th>\n",
       "      <td>1.761412</td>\n",
       "      <td>-0.603692</td>\n",
       "      <td>0.128947</td>\n",
       "    </tr>\n",
       "  </tbody>\n",
       "</table>\n",
       "</div>"
      ],
      "text/plain": [
       "            Maas       Yas  Calisma Saati\n",
       "Furkan  0.076872  1.340135      -0.909408\n",
       "Ahmet   0.011289 -0.770686       1.477181\n",
       "Adem    2.310672  0.661001       1.083507\n",
       "Hatice  1.761412 -0.603692       0.128947"
      ]
     },
     "execution_count": 83,
     "metadata": {},
     "output_type": "execute_result"
    }
   ],
   "source": [
    "newDataFrame.drop(\"Emeklilik Yasi\",axis=1)"
   ]
  },
  {
   "cell_type": "code",
   "execution_count": 84,
   "id": "c231b0e5",
   "metadata": {},
   "outputs": [
    {
     "data": {
      "text/html": [
       "<div>\n",
       "<style scoped>\n",
       "    .dataframe tbody tr th:only-of-type {\n",
       "        vertical-align: middle;\n",
       "    }\n",
       "\n",
       "    .dataframe tbody tr th {\n",
       "        vertical-align: top;\n",
       "    }\n",
       "\n",
       "    .dataframe thead th {\n",
       "        text-align: right;\n",
       "    }\n",
       "</style>\n",
       "<table border=\"1\" class=\"dataframe\">\n",
       "  <thead>\n",
       "    <tr style=\"text-align: right;\">\n",
       "      <th></th>\n",
       "      <th>Maas</th>\n",
       "      <th>Yas</th>\n",
       "      <th>Calisma Saati</th>\n",
       "      <th>Emeklilik Yasi</th>\n",
       "    </tr>\n",
       "  </thead>\n",
       "  <tbody>\n",
       "    <tr>\n",
       "      <th>Furkan</th>\n",
       "      <td>0.076872</td>\n",
       "      <td>1.340135</td>\n",
       "      <td>-0.909408</td>\n",
       "      <td>2.680269</td>\n",
       "    </tr>\n",
       "    <tr>\n",
       "      <th>Ahmet</th>\n",
       "      <td>0.011289</td>\n",
       "      <td>-0.770686</td>\n",
       "      <td>1.477181</td>\n",
       "      <td>-1.541372</td>\n",
       "    </tr>\n",
       "    <tr>\n",
       "      <th>Adem</th>\n",
       "      <td>2.310672</td>\n",
       "      <td>0.661001</td>\n",
       "      <td>1.083507</td>\n",
       "      <td>1.322002</td>\n",
       "    </tr>\n",
       "  </tbody>\n",
       "</table>\n",
       "</div>"
      ],
      "text/plain": [
       "            Maas       Yas  Calisma Saati  Emeklilik Yasi\n",
       "Furkan  0.076872  1.340135      -0.909408        2.680269\n",
       "Ahmet   0.011289 -0.770686       1.477181       -1.541372\n",
       "Adem    2.310672  0.661001       1.083507        1.322002"
      ]
     },
     "execution_count": 84,
     "metadata": {},
     "output_type": "execute_result"
    }
   ],
   "source": [
    "newDataFrame.drop(\"Hatice\",axis=0)"
   ]
  },
  {
   "cell_type": "code",
   "execution_count": 85,
   "id": "2143636f",
   "metadata": {},
   "outputs": [
    {
     "data": {
      "text/html": [
       "<div>\n",
       "<style scoped>\n",
       "    .dataframe tbody tr th:only-of-type {\n",
       "        vertical-align: middle;\n",
       "    }\n",
       "\n",
       "    .dataframe tbody tr th {\n",
       "        vertical-align: top;\n",
       "    }\n",
       "\n",
       "    .dataframe thead th {\n",
       "        text-align: right;\n",
       "    }\n",
       "</style>\n",
       "<table border=\"1\" class=\"dataframe\">\n",
       "  <thead>\n",
       "    <tr style=\"text-align: right;\">\n",
       "      <th></th>\n",
       "      <th>Maas</th>\n",
       "      <th>Yas</th>\n",
       "      <th>Calisma Saati</th>\n",
       "      <th>Emeklilik Yasi</th>\n",
       "    </tr>\n",
       "  </thead>\n",
       "  <tbody>\n",
       "    <tr>\n",
       "      <th>Furkan</th>\n",
       "      <td>0.076872</td>\n",
       "      <td>1.340135</td>\n",
       "      <td>-0.909408</td>\n",
       "      <td>2.680269</td>\n",
       "    </tr>\n",
       "    <tr>\n",
       "      <th>Ahmet</th>\n",
       "      <td>0.011289</td>\n",
       "      <td>-0.770686</td>\n",
       "      <td>1.477181</td>\n",
       "      <td>-1.541372</td>\n",
       "    </tr>\n",
       "    <tr>\n",
       "      <th>Adem</th>\n",
       "      <td>2.310672</td>\n",
       "      <td>0.661001</td>\n",
       "      <td>1.083507</td>\n",
       "      <td>1.322002</td>\n",
       "    </tr>\n",
       "  </tbody>\n",
       "</table>\n",
       "</div>"
      ],
      "text/plain": [
       "            Maas       Yas  Calisma Saati  Emeklilik Yasi\n",
       "Furkan  0.076872  1.340135      -0.909408        2.680269\n",
       "Ahmet   0.011289 -0.770686       1.477181       -1.541372\n",
       "Adem    2.310672  0.661001       1.083507        1.322002"
      ]
     },
     "execution_count": 85,
     "metadata": {},
     "output_type": "execute_result"
    }
   ],
   "source": [
    "newDataFrame.drop(\"Hatice\")"
   ]
  },
  {
   "cell_type": "code",
   "execution_count": 86,
   "id": "6c03bf85",
   "metadata": {},
   "outputs": [
    {
     "data": {
      "text/html": [
       "<div>\n",
       "<style scoped>\n",
       "    .dataframe tbody tr th:only-of-type {\n",
       "        vertical-align: middle;\n",
       "    }\n",
       "\n",
       "    .dataframe tbody tr th {\n",
       "        vertical-align: top;\n",
       "    }\n",
       "\n",
       "    .dataframe thead th {\n",
       "        text-align: right;\n",
       "    }\n",
       "</style>\n",
       "<table border=\"1\" class=\"dataframe\">\n",
       "  <thead>\n",
       "    <tr style=\"text-align: right;\">\n",
       "      <th></th>\n",
       "      <th>Maas</th>\n",
       "      <th>Yas</th>\n",
       "      <th>Calisma Saati</th>\n",
       "      <th>Emeklilik Yasi</th>\n",
       "    </tr>\n",
       "  </thead>\n",
       "  <tbody>\n",
       "    <tr>\n",
       "      <th>Furkan</th>\n",
       "      <td>0.076872</td>\n",
       "      <td>1.340135</td>\n",
       "      <td>-0.909408</td>\n",
       "      <td>2.680269</td>\n",
       "    </tr>\n",
       "    <tr>\n",
       "      <th>Ahmet</th>\n",
       "      <td>0.011289</td>\n",
       "      <td>-0.770686</td>\n",
       "      <td>1.477181</td>\n",
       "      <td>-1.541372</td>\n",
       "    </tr>\n",
       "    <tr>\n",
       "      <th>Adem</th>\n",
       "      <td>2.310672</td>\n",
       "      <td>0.661001</td>\n",
       "      <td>1.083507</td>\n",
       "      <td>1.322002</td>\n",
       "    </tr>\n",
       "    <tr>\n",
       "      <th>Hatice</th>\n",
       "      <td>1.761412</td>\n",
       "      <td>-0.603692</td>\n",
       "      <td>0.128947</td>\n",
       "      <td>-1.207384</td>\n",
       "    </tr>\n",
       "  </tbody>\n",
       "</table>\n",
       "</div>"
      ],
      "text/plain": [
       "            Maas       Yas  Calisma Saati  Emeklilik Yasi\n",
       "Furkan  0.076872  1.340135      -0.909408        2.680269\n",
       "Ahmet   0.011289 -0.770686       1.477181       -1.541372\n",
       "Adem    2.310672  0.661001       1.083507        1.322002\n",
       "Hatice  1.761412 -0.603692       0.128947       -1.207384"
      ]
     },
     "execution_count": 86,
     "metadata": {},
     "output_type": "execute_result"
    }
   ],
   "source": [
    "newDataFrame"
   ]
  },
  {
   "cell_type": "code",
   "execution_count": 87,
   "id": "c24ce009",
   "metadata": {},
   "outputs": [],
   "source": [
    "newDataFrame.drop(\"Emeklilik Yasi\",axis=1,inplace=True)"
   ]
  },
  {
   "cell_type": "code",
   "execution_count": 88,
   "id": "de4510cc",
   "metadata": {},
   "outputs": [
    {
     "data": {
      "text/html": [
       "<div>\n",
       "<style scoped>\n",
       "    .dataframe tbody tr th:only-of-type {\n",
       "        vertical-align: middle;\n",
       "    }\n",
       "\n",
       "    .dataframe tbody tr th {\n",
       "        vertical-align: top;\n",
       "    }\n",
       "\n",
       "    .dataframe thead th {\n",
       "        text-align: right;\n",
       "    }\n",
       "</style>\n",
       "<table border=\"1\" class=\"dataframe\">\n",
       "  <thead>\n",
       "    <tr style=\"text-align: right;\">\n",
       "      <th></th>\n",
       "      <th>Maas</th>\n",
       "      <th>Yas</th>\n",
       "      <th>Calisma Saati</th>\n",
       "    </tr>\n",
       "  </thead>\n",
       "  <tbody>\n",
       "    <tr>\n",
       "      <th>Furkan</th>\n",
       "      <td>0.076872</td>\n",
       "      <td>1.340135</td>\n",
       "      <td>-0.909408</td>\n",
       "    </tr>\n",
       "    <tr>\n",
       "      <th>Ahmet</th>\n",
       "      <td>0.011289</td>\n",
       "      <td>-0.770686</td>\n",
       "      <td>1.477181</td>\n",
       "    </tr>\n",
       "    <tr>\n",
       "      <th>Adem</th>\n",
       "      <td>2.310672</td>\n",
       "      <td>0.661001</td>\n",
       "      <td>1.083507</td>\n",
       "    </tr>\n",
       "    <tr>\n",
       "      <th>Hatice</th>\n",
       "      <td>1.761412</td>\n",
       "      <td>-0.603692</td>\n",
       "      <td>0.128947</td>\n",
       "    </tr>\n",
       "  </tbody>\n",
       "</table>\n",
       "</div>"
      ],
      "text/plain": [
       "            Maas       Yas  Calisma Saati\n",
       "Furkan  0.076872  1.340135      -0.909408\n",
       "Ahmet   0.011289 -0.770686       1.477181\n",
       "Adem    2.310672  0.661001       1.083507\n",
       "Hatice  1.761412 -0.603692       0.128947"
      ]
     },
     "execution_count": 88,
     "metadata": {},
     "output_type": "execute_result"
    }
   ],
   "source": [
    "newDataFrame"
   ]
  },
  {
   "cell_type": "code",
   "execution_count": 90,
   "id": "8747aa5b",
   "metadata": {},
   "outputs": [
    {
     "data": {
      "text/plain": [
       "0.07687228471302164"
      ]
     },
     "execution_count": 90,
     "metadata": {},
     "output_type": "execute_result"
    }
   ],
   "source": [
    "newDataFrame.loc[\"Furkan\"][\"Maas\"]"
   ]
  },
  {
   "cell_type": "code",
   "execution_count": 91,
   "id": "12d8879c",
   "metadata": {},
   "outputs": [
    {
     "data": {
      "text/plain": [
       "0.07687228471302164"
      ]
     },
     "execution_count": 91,
     "metadata": {},
     "output_type": "execute_result"
    }
   ],
   "source": [
    "newDataFrame.loc[\"Furkan\",\"Maas\"]"
   ]
  },
  {
   "cell_type": "code",
   "execution_count": 92,
   "id": "dfd43e8f",
   "metadata": {},
   "outputs": [
    {
     "data": {
      "text/html": [
       "<div>\n",
       "<style scoped>\n",
       "    .dataframe tbody tr th:only-of-type {\n",
       "        vertical-align: middle;\n",
       "    }\n",
       "\n",
       "    .dataframe tbody tr th {\n",
       "        vertical-align: top;\n",
       "    }\n",
       "\n",
       "    .dataframe thead th {\n",
       "        text-align: right;\n",
       "    }\n",
       "</style>\n",
       "<table border=\"1\" class=\"dataframe\">\n",
       "  <thead>\n",
       "    <tr style=\"text-align: right;\">\n",
       "      <th></th>\n",
       "      <th>Maas</th>\n",
       "      <th>Yas</th>\n",
       "      <th>Calisma Saati</th>\n",
       "    </tr>\n",
       "  </thead>\n",
       "  <tbody>\n",
       "    <tr>\n",
       "      <th>Furkan</th>\n",
       "      <td>0.076872</td>\n",
       "      <td>1.340135</td>\n",
       "      <td>-0.909408</td>\n",
       "    </tr>\n",
       "    <tr>\n",
       "      <th>Ahmet</th>\n",
       "      <td>0.011289</td>\n",
       "      <td>-0.770686</td>\n",
       "      <td>1.477181</td>\n",
       "    </tr>\n",
       "    <tr>\n",
       "      <th>Adem</th>\n",
       "      <td>2.310672</td>\n",
       "      <td>0.661001</td>\n",
       "      <td>1.083507</td>\n",
       "    </tr>\n",
       "    <tr>\n",
       "      <th>Hatice</th>\n",
       "      <td>1.761412</td>\n",
       "      <td>-0.603692</td>\n",
       "      <td>0.128947</td>\n",
       "    </tr>\n",
       "  </tbody>\n",
       "</table>\n",
       "</div>"
      ],
      "text/plain": [
       "            Maas       Yas  Calisma Saati\n",
       "Furkan  0.076872  1.340135      -0.909408\n",
       "Ahmet   0.011289 -0.770686       1.477181\n",
       "Adem    2.310672  0.661001       1.083507\n",
       "Hatice  1.761412 -0.603692       0.128947"
      ]
     },
     "execution_count": 92,
     "metadata": {},
     "output_type": "execute_result"
    }
   ],
   "source": [
    "newDataFrame"
   ]
  },
  {
   "cell_type": "code",
   "execution_count": 93,
   "id": "8c3bd25a",
   "metadata": {},
   "outputs": [
    {
     "data": {
      "text/html": [
       "<div>\n",
       "<style scoped>\n",
       "    .dataframe tbody tr th:only-of-type {\n",
       "        vertical-align: middle;\n",
       "    }\n",
       "\n",
       "    .dataframe tbody tr th {\n",
       "        vertical-align: top;\n",
       "    }\n",
       "\n",
       "    .dataframe thead th {\n",
       "        text-align: right;\n",
       "    }\n",
       "</style>\n",
       "<table border=\"1\" class=\"dataframe\">\n",
       "  <thead>\n",
       "    <tr style=\"text-align: right;\">\n",
       "      <th></th>\n",
       "      <th>Maas</th>\n",
       "      <th>Yas</th>\n",
       "      <th>Calisma Saati</th>\n",
       "    </tr>\n",
       "  </thead>\n",
       "  <tbody>\n",
       "    <tr>\n",
       "      <th>Furkan</th>\n",
       "      <td>False</td>\n",
       "      <td>False</td>\n",
       "      <td>True</td>\n",
       "    </tr>\n",
       "    <tr>\n",
       "      <th>Ahmet</th>\n",
       "      <td>False</td>\n",
       "      <td>True</td>\n",
       "      <td>False</td>\n",
       "    </tr>\n",
       "    <tr>\n",
       "      <th>Adem</th>\n",
       "      <td>False</td>\n",
       "      <td>False</td>\n",
       "      <td>False</td>\n",
       "    </tr>\n",
       "    <tr>\n",
       "      <th>Hatice</th>\n",
       "      <td>False</td>\n",
       "      <td>True</td>\n",
       "      <td>False</td>\n",
       "    </tr>\n",
       "  </tbody>\n",
       "</table>\n",
       "</div>"
      ],
      "text/plain": [
       "         Maas    Yas  Calisma Saati\n",
       "Furkan  False  False           True\n",
       "Ahmet   False   True          False\n",
       "Adem    False  False          False\n",
       "Hatice  False   True          False"
      ]
     },
     "execution_count": 93,
     "metadata": {},
     "output_type": "execute_result"
    }
   ],
   "source": [
    "newDataFrame <0"
   ]
  },
  {
   "cell_type": "code",
   "execution_count": 94,
   "id": "27dd74a5",
   "metadata": {},
   "outputs": [],
   "source": [
    "booleanFrame = newDataFrame < 0"
   ]
  },
  {
   "cell_type": "code",
   "execution_count": 95,
   "id": "376fe0b4",
   "metadata": {},
   "outputs": [
    {
     "data": {
      "text/html": [
       "<div>\n",
       "<style scoped>\n",
       "    .dataframe tbody tr th:only-of-type {\n",
       "        vertical-align: middle;\n",
       "    }\n",
       "\n",
       "    .dataframe tbody tr th {\n",
       "        vertical-align: top;\n",
       "    }\n",
       "\n",
       "    .dataframe thead th {\n",
       "        text-align: right;\n",
       "    }\n",
       "</style>\n",
       "<table border=\"1\" class=\"dataframe\">\n",
       "  <thead>\n",
       "    <tr style=\"text-align: right;\">\n",
       "      <th></th>\n",
       "      <th>Maas</th>\n",
       "      <th>Yas</th>\n",
       "      <th>Calisma Saati</th>\n",
       "    </tr>\n",
       "  </thead>\n",
       "  <tbody>\n",
       "    <tr>\n",
       "      <th>Furkan</th>\n",
       "      <td>False</td>\n",
       "      <td>False</td>\n",
       "      <td>True</td>\n",
       "    </tr>\n",
       "    <tr>\n",
       "      <th>Ahmet</th>\n",
       "      <td>False</td>\n",
       "      <td>True</td>\n",
       "      <td>False</td>\n",
       "    </tr>\n",
       "    <tr>\n",
       "      <th>Adem</th>\n",
       "      <td>False</td>\n",
       "      <td>False</td>\n",
       "      <td>False</td>\n",
       "    </tr>\n",
       "    <tr>\n",
       "      <th>Hatice</th>\n",
       "      <td>False</td>\n",
       "      <td>True</td>\n",
       "      <td>False</td>\n",
       "    </tr>\n",
       "  </tbody>\n",
       "</table>\n",
       "</div>"
      ],
      "text/plain": [
       "         Maas    Yas  Calisma Saati\n",
       "Furkan  False  False           True\n",
       "Ahmet   False   True          False\n",
       "Adem    False  False          False\n",
       "Hatice  False   True          False"
      ]
     },
     "execution_count": 95,
     "metadata": {},
     "output_type": "execute_result"
    }
   ],
   "source": [
    "booleanFrame"
   ]
  },
  {
   "cell_type": "code",
   "execution_count": 96,
   "id": "f00fde9a",
   "metadata": {},
   "outputs": [
    {
     "data": {
      "text/html": [
       "<div>\n",
       "<style scoped>\n",
       "    .dataframe tbody tr th:only-of-type {\n",
       "        vertical-align: middle;\n",
       "    }\n",
       "\n",
       "    .dataframe tbody tr th {\n",
       "        vertical-align: top;\n",
       "    }\n",
       "\n",
       "    .dataframe thead th {\n",
       "        text-align: right;\n",
       "    }\n",
       "</style>\n",
       "<table border=\"1\" class=\"dataframe\">\n",
       "  <thead>\n",
       "    <tr style=\"text-align: right;\">\n",
       "      <th></th>\n",
       "      <th>Maas</th>\n",
       "      <th>Yas</th>\n",
       "      <th>Calisma Saati</th>\n",
       "    </tr>\n",
       "  </thead>\n",
       "  <tbody>\n",
       "    <tr>\n",
       "      <th>Furkan</th>\n",
       "      <td>0.076872</td>\n",
       "      <td>1.340135</td>\n",
       "      <td>-0.909408</td>\n",
       "    </tr>\n",
       "    <tr>\n",
       "      <th>Ahmet</th>\n",
       "      <td>0.011289</td>\n",
       "      <td>-0.770686</td>\n",
       "      <td>1.477181</td>\n",
       "    </tr>\n",
       "    <tr>\n",
       "      <th>Adem</th>\n",
       "      <td>2.310672</td>\n",
       "      <td>0.661001</td>\n",
       "      <td>1.083507</td>\n",
       "    </tr>\n",
       "    <tr>\n",
       "      <th>Hatice</th>\n",
       "      <td>1.761412</td>\n",
       "      <td>-0.603692</td>\n",
       "      <td>0.128947</td>\n",
       "    </tr>\n",
       "  </tbody>\n",
       "</table>\n",
       "</div>"
      ],
      "text/plain": [
       "            Maas       Yas  Calisma Saati\n",
       "Furkan  0.076872  1.340135      -0.909408\n",
       "Ahmet   0.011289 -0.770686       1.477181\n",
       "Adem    2.310672  0.661001       1.083507\n",
       "Hatice  1.761412 -0.603692       0.128947"
      ]
     },
     "execution_count": 96,
     "metadata": {},
     "output_type": "execute_result"
    }
   ],
   "source": [
    "newDataFrame"
   ]
  },
  {
   "cell_type": "code",
   "execution_count": 97,
   "id": "0b4303a4",
   "metadata": {},
   "outputs": [
    {
     "data": {
      "text/html": [
       "<div>\n",
       "<style scoped>\n",
       "    .dataframe tbody tr th:only-of-type {\n",
       "        vertical-align: middle;\n",
       "    }\n",
       "\n",
       "    .dataframe tbody tr th {\n",
       "        vertical-align: top;\n",
       "    }\n",
       "\n",
       "    .dataframe thead th {\n",
       "        text-align: right;\n",
       "    }\n",
       "</style>\n",
       "<table border=\"1\" class=\"dataframe\">\n",
       "  <thead>\n",
       "    <tr style=\"text-align: right;\">\n",
       "      <th></th>\n",
       "      <th>Maas</th>\n",
       "      <th>Yas</th>\n",
       "      <th>Calisma Saati</th>\n",
       "    </tr>\n",
       "  </thead>\n",
       "  <tbody>\n",
       "    <tr>\n",
       "      <th>Furkan</th>\n",
       "      <td>NaN</td>\n",
       "      <td>NaN</td>\n",
       "      <td>-0.909408</td>\n",
       "    </tr>\n",
       "    <tr>\n",
       "      <th>Ahmet</th>\n",
       "      <td>NaN</td>\n",
       "      <td>-0.770686</td>\n",
       "      <td>NaN</td>\n",
       "    </tr>\n",
       "    <tr>\n",
       "      <th>Adem</th>\n",
       "      <td>NaN</td>\n",
       "      <td>NaN</td>\n",
       "      <td>NaN</td>\n",
       "    </tr>\n",
       "    <tr>\n",
       "      <th>Hatice</th>\n",
       "      <td>NaN</td>\n",
       "      <td>-0.603692</td>\n",
       "      <td>NaN</td>\n",
       "    </tr>\n",
       "  </tbody>\n",
       "</table>\n",
       "</div>"
      ],
      "text/plain": [
       "        Maas       Yas  Calisma Saati\n",
       "Furkan   NaN       NaN      -0.909408\n",
       "Ahmet    NaN -0.770686            NaN\n",
       "Adem     NaN       NaN            NaN\n",
       "Hatice   NaN -0.603692            NaN"
      ]
     },
     "execution_count": 97,
     "metadata": {},
     "output_type": "execute_result"
    }
   ],
   "source": [
    "newDataFrame[booleanFrame]"
   ]
  },
  {
   "cell_type": "code",
   "execution_count": 98,
   "id": "538c607f",
   "metadata": {},
   "outputs": [
    {
     "data": {
      "text/html": [
       "<div>\n",
       "<style scoped>\n",
       "    .dataframe tbody tr th:only-of-type {\n",
       "        vertical-align: middle;\n",
       "    }\n",
       "\n",
       "    .dataframe tbody tr th {\n",
       "        vertical-align: top;\n",
       "    }\n",
       "\n",
       "    .dataframe thead th {\n",
       "        text-align: right;\n",
       "    }\n",
       "</style>\n",
       "<table border=\"1\" class=\"dataframe\">\n",
       "  <thead>\n",
       "    <tr style=\"text-align: right;\">\n",
       "      <th></th>\n",
       "      <th>Maas</th>\n",
       "      <th>Yas</th>\n",
       "      <th>Calisma Saati</th>\n",
       "    </tr>\n",
       "  </thead>\n",
       "  <tbody>\n",
       "    <tr>\n",
       "      <th>Furkan</th>\n",
       "      <td>NaN</td>\n",
       "      <td>NaN</td>\n",
       "      <td>-0.909408</td>\n",
       "    </tr>\n",
       "    <tr>\n",
       "      <th>Ahmet</th>\n",
       "      <td>NaN</td>\n",
       "      <td>-0.770686</td>\n",
       "      <td>NaN</td>\n",
       "    </tr>\n",
       "    <tr>\n",
       "      <th>Adem</th>\n",
       "      <td>NaN</td>\n",
       "      <td>NaN</td>\n",
       "      <td>NaN</td>\n",
       "    </tr>\n",
       "    <tr>\n",
       "      <th>Hatice</th>\n",
       "      <td>NaN</td>\n",
       "      <td>-0.603692</td>\n",
       "      <td>NaN</td>\n",
       "    </tr>\n",
       "  </tbody>\n",
       "</table>\n",
       "</div>"
      ],
      "text/plain": [
       "        Maas       Yas  Calisma Saati\n",
       "Furkan   NaN       NaN      -0.909408\n",
       "Ahmet    NaN -0.770686            NaN\n",
       "Adem     NaN       NaN            NaN\n",
       "Hatice   NaN -0.603692            NaN"
      ]
     },
     "execution_count": 98,
     "metadata": {},
     "output_type": "execute_result"
    }
   ],
   "source": [
    "newDataFrame[newDataFrame<0]"
   ]
  },
  {
   "cell_type": "code",
   "execution_count": 99,
   "id": "424dc0a0",
   "metadata": {},
   "outputs": [
    {
     "data": {
      "text/html": [
       "<div>\n",
       "<style scoped>\n",
       "    .dataframe tbody tr th:only-of-type {\n",
       "        vertical-align: middle;\n",
       "    }\n",
       "\n",
       "    .dataframe tbody tr th {\n",
       "        vertical-align: top;\n",
       "    }\n",
       "\n",
       "    .dataframe thead th {\n",
       "        text-align: right;\n",
       "    }\n",
       "</style>\n",
       "<table border=\"1\" class=\"dataframe\">\n",
       "  <thead>\n",
       "    <tr style=\"text-align: right;\">\n",
       "      <th></th>\n",
       "      <th>Maas</th>\n",
       "      <th>Yas</th>\n",
       "      <th>Calisma Saati</th>\n",
       "    </tr>\n",
       "  </thead>\n",
       "  <tbody>\n",
       "    <tr>\n",
       "      <th>Furkan</th>\n",
       "      <td>0.076872</td>\n",
       "      <td>1.340135</td>\n",
       "      <td>-0.909408</td>\n",
       "    </tr>\n",
       "    <tr>\n",
       "      <th>Adem</th>\n",
       "      <td>2.310672</td>\n",
       "      <td>0.661001</td>\n",
       "      <td>1.083507</td>\n",
       "    </tr>\n",
       "  </tbody>\n",
       "</table>\n",
       "</div>"
      ],
      "text/plain": [
       "            Maas       Yas  Calisma Saati\n",
       "Furkan  0.076872  1.340135      -0.909408\n",
       "Adem    2.310672  0.661001       1.083507"
      ]
     },
     "execution_count": 99,
     "metadata": {},
     "output_type": "execute_result"
    }
   ],
   "source": [
    "newDataFrame[newDataFrame[\"Yas\"]>0]"
   ]
  },
  {
   "cell_type": "code",
   "execution_count": 101,
   "id": "9aa4499d",
   "metadata": {},
   "outputs": [
    {
     "data": {
      "text/html": [
       "<div>\n",
       "<style scoped>\n",
       "    .dataframe tbody tr th:only-of-type {\n",
       "        vertical-align: middle;\n",
       "    }\n",
       "\n",
       "    .dataframe tbody tr th {\n",
       "        vertical-align: top;\n",
       "    }\n",
       "\n",
       "    .dataframe thead th {\n",
       "        text-align: right;\n",
       "    }\n",
       "</style>\n",
       "<table border=\"1\" class=\"dataframe\">\n",
       "  <thead>\n",
       "    <tr style=\"text-align: right;\">\n",
       "      <th></th>\n",
       "      <th>Maas</th>\n",
       "      <th>Yas</th>\n",
       "      <th>Calisma Saati</th>\n",
       "    </tr>\n",
       "  </thead>\n",
       "  <tbody>\n",
       "    <tr>\n",
       "      <th>Ahmet</th>\n",
       "      <td>0.011289</td>\n",
       "      <td>-0.770686</td>\n",
       "      <td>1.477181</td>\n",
       "    </tr>\n",
       "    <tr>\n",
       "      <th>Adem</th>\n",
       "      <td>2.310672</td>\n",
       "      <td>0.661001</td>\n",
       "      <td>1.083507</td>\n",
       "    </tr>\n",
       "    <tr>\n",
       "      <th>Hatice</th>\n",
       "      <td>1.761412</td>\n",
       "      <td>-0.603692</td>\n",
       "      <td>0.128947</td>\n",
       "    </tr>\n",
       "  </tbody>\n",
       "</table>\n",
       "</div>"
      ],
      "text/plain": [
       "            Maas       Yas  Calisma Saati\n",
       "Ahmet   0.011289 -0.770686       1.477181\n",
       "Adem    2.310672  0.661001       1.083507\n",
       "Hatice  1.761412 -0.603692       0.128947"
      ]
     },
     "execution_count": 101,
     "metadata": {},
     "output_type": "execute_result"
    }
   ],
   "source": [
    "newDataFrame[newDataFrame[\"Calisma Saati\"]>0]"
   ]
  },
  {
   "cell_type": "code",
   "execution_count": 104,
   "id": "2c7d89e5",
   "metadata": {},
   "outputs": [
    {
     "data": {
      "text/html": [
       "<div>\n",
       "<style scoped>\n",
       "    .dataframe tbody tr th:only-of-type {\n",
       "        vertical-align: middle;\n",
       "    }\n",
       "\n",
       "    .dataframe tbody tr th {\n",
       "        vertical-align: top;\n",
       "    }\n",
       "\n",
       "    .dataframe thead th {\n",
       "        text-align: right;\n",
       "    }\n",
       "</style>\n",
       "<table border=\"1\" class=\"dataframe\">\n",
       "  <thead>\n",
       "    <tr style=\"text-align: right;\">\n",
       "      <th></th>\n",
       "      <th>Maas</th>\n",
       "      <th>Yas</th>\n",
       "      <th>Calisma Saati</th>\n",
       "    </tr>\n",
       "  </thead>\n",
       "  <tbody>\n",
       "    <tr>\n",
       "      <th>Adem</th>\n",
       "      <td>2.310672</td>\n",
       "      <td>0.661001</td>\n",
       "      <td>1.083507</td>\n",
       "    </tr>\n",
       "  </tbody>\n",
       "</table>\n",
       "</div>"
      ],
      "text/plain": [
       "          Maas       Yas  Calisma Saati\n",
       "Adem  2.310672  0.661001       1.083507"
      ]
     },
     "execution_count": 104,
     "metadata": {},
     "output_type": "execute_result"
    }
   ],
   "source": [
    "newDataFrame[(newDataFrame[\"Calisma Saati\"] > 0) & (newDataFrame[\"Yas\"] > 0)]"
   ]
  },
  {
   "cell_type": "markdown",
   "id": "8249e1ea",
   "metadata": {},
   "source": [
    "## index changing"
   ]
  },
  {
   "cell_type": "code",
   "execution_count": 108,
   "id": "9c599350",
   "metadata": {},
   "outputs": [
    {
     "data": {
      "text/html": [
       "<div>\n",
       "<style scoped>\n",
       "    .dataframe tbody tr th:only-of-type {\n",
       "        vertical-align: middle;\n",
       "    }\n",
       "\n",
       "    .dataframe tbody tr th {\n",
       "        vertical-align: top;\n",
       "    }\n",
       "\n",
       "    .dataframe thead th {\n",
       "        text-align: right;\n",
       "    }\n",
       "</style>\n",
       "<table border=\"1\" class=\"dataframe\">\n",
       "  <thead>\n",
       "    <tr style=\"text-align: right;\">\n",
       "      <th></th>\n",
       "      <th>index</th>\n",
       "      <th>Maas</th>\n",
       "      <th>Yas</th>\n",
       "      <th>Calisma Saati</th>\n",
       "    </tr>\n",
       "  </thead>\n",
       "  <tbody>\n",
       "    <tr>\n",
       "      <th>0</th>\n",
       "      <td>Furkan</td>\n",
       "      <td>0.076872</td>\n",
       "      <td>1.340135</td>\n",
       "      <td>-0.909408</td>\n",
       "    </tr>\n",
       "    <tr>\n",
       "      <th>1</th>\n",
       "      <td>Ahmet</td>\n",
       "      <td>0.011289</td>\n",
       "      <td>-0.770686</td>\n",
       "      <td>1.477181</td>\n",
       "    </tr>\n",
       "    <tr>\n",
       "      <th>2</th>\n",
       "      <td>Adem</td>\n",
       "      <td>2.310672</td>\n",
       "      <td>0.661001</td>\n",
       "      <td>1.083507</td>\n",
       "    </tr>\n",
       "    <tr>\n",
       "      <th>3</th>\n",
       "      <td>Hatice</td>\n",
       "      <td>1.761412</td>\n",
       "      <td>-0.603692</td>\n",
       "      <td>0.128947</td>\n",
       "    </tr>\n",
       "  </tbody>\n",
       "</table>\n",
       "</div>"
      ],
      "text/plain": [
       "    index      Maas       Yas  Calisma Saati\n",
       "0  Furkan  0.076872  1.340135      -0.909408\n",
       "1   Ahmet  0.011289 -0.770686       1.477181\n",
       "2    Adem  2.310672  0.661001       1.083507\n",
       "3  Hatice  1.761412 -0.603692       0.128947"
      ]
     },
     "execution_count": 108,
     "metadata": {},
     "output_type": "execute_result"
    }
   ],
   "source": [
    "newDataFrame.reset_index()"
   ]
  },
  {
   "cell_type": "code",
   "execution_count": 109,
   "id": "93246241",
   "metadata": {},
   "outputs": [],
   "source": [
    "newIndexList = [\"Fur\",\"Ahm\",\"Ade\",\"Hat\"]"
   ]
  },
  {
   "cell_type": "code",
   "execution_count": 111,
   "id": "2d68a913",
   "metadata": {},
   "outputs": [],
   "source": [
    "newDataFrame[\"New Index\"] = newIndexList"
   ]
  },
  {
   "cell_type": "code",
   "execution_count": 112,
   "id": "64636dca",
   "metadata": {},
   "outputs": [
    {
     "data": {
      "text/html": [
       "<div>\n",
       "<style scoped>\n",
       "    .dataframe tbody tr th:only-of-type {\n",
       "        vertical-align: middle;\n",
       "    }\n",
       "\n",
       "    .dataframe tbody tr th {\n",
       "        vertical-align: top;\n",
       "    }\n",
       "\n",
       "    .dataframe thead th {\n",
       "        text-align: right;\n",
       "    }\n",
       "</style>\n",
       "<table border=\"1\" class=\"dataframe\">\n",
       "  <thead>\n",
       "    <tr style=\"text-align: right;\">\n",
       "      <th></th>\n",
       "      <th>Maas</th>\n",
       "      <th>Yas</th>\n",
       "      <th>Calisma Saati</th>\n",
       "      <th>New Index</th>\n",
       "    </tr>\n",
       "  </thead>\n",
       "  <tbody>\n",
       "    <tr>\n",
       "      <th>Furkan</th>\n",
       "      <td>0.076872</td>\n",
       "      <td>1.340135</td>\n",
       "      <td>-0.909408</td>\n",
       "      <td>Fur</td>\n",
       "    </tr>\n",
       "    <tr>\n",
       "      <th>Ahmet</th>\n",
       "      <td>0.011289</td>\n",
       "      <td>-0.770686</td>\n",
       "      <td>1.477181</td>\n",
       "      <td>Ahm</td>\n",
       "    </tr>\n",
       "    <tr>\n",
       "      <th>Adem</th>\n",
       "      <td>2.310672</td>\n",
       "      <td>0.661001</td>\n",
       "      <td>1.083507</td>\n",
       "      <td>Ade</td>\n",
       "    </tr>\n",
       "    <tr>\n",
       "      <th>Hatice</th>\n",
       "      <td>1.761412</td>\n",
       "      <td>-0.603692</td>\n",
       "      <td>0.128947</td>\n",
       "      <td>Hat</td>\n",
       "    </tr>\n",
       "  </tbody>\n",
       "</table>\n",
       "</div>"
      ],
      "text/plain": [
       "            Maas       Yas  Calisma Saati New Index\n",
       "Furkan  0.076872  1.340135      -0.909408       Fur\n",
       "Ahmet   0.011289 -0.770686       1.477181       Ahm\n",
       "Adem    2.310672  0.661001       1.083507       Ade\n",
       "Hatice  1.761412 -0.603692       0.128947       Hat"
      ]
     },
     "execution_count": 112,
     "metadata": {},
     "output_type": "execute_result"
    }
   ],
   "source": [
    "newDataFrame"
   ]
  },
  {
   "cell_type": "code",
   "execution_count": 113,
   "id": "f732922c",
   "metadata": {},
   "outputs": [
    {
     "data": {
      "text/html": [
       "<div>\n",
       "<style scoped>\n",
       "    .dataframe tbody tr th:only-of-type {\n",
       "        vertical-align: middle;\n",
       "    }\n",
       "\n",
       "    .dataframe tbody tr th {\n",
       "        vertical-align: top;\n",
       "    }\n",
       "\n",
       "    .dataframe thead th {\n",
       "        text-align: right;\n",
       "    }\n",
       "</style>\n",
       "<table border=\"1\" class=\"dataframe\">\n",
       "  <thead>\n",
       "    <tr style=\"text-align: right;\">\n",
       "      <th></th>\n",
       "      <th>Maas</th>\n",
       "      <th>Yas</th>\n",
       "      <th>Calisma Saati</th>\n",
       "    </tr>\n",
       "    <tr>\n",
       "      <th>New Index</th>\n",
       "      <th></th>\n",
       "      <th></th>\n",
       "      <th></th>\n",
       "    </tr>\n",
       "  </thead>\n",
       "  <tbody>\n",
       "    <tr>\n",
       "      <th>Fur</th>\n",
       "      <td>0.076872</td>\n",
       "      <td>1.340135</td>\n",
       "      <td>-0.909408</td>\n",
       "    </tr>\n",
       "    <tr>\n",
       "      <th>Ahm</th>\n",
       "      <td>0.011289</td>\n",
       "      <td>-0.770686</td>\n",
       "      <td>1.477181</td>\n",
       "    </tr>\n",
       "    <tr>\n",
       "      <th>Ade</th>\n",
       "      <td>2.310672</td>\n",
       "      <td>0.661001</td>\n",
       "      <td>1.083507</td>\n",
       "    </tr>\n",
       "    <tr>\n",
       "      <th>Hat</th>\n",
       "      <td>1.761412</td>\n",
       "      <td>-0.603692</td>\n",
       "      <td>0.128947</td>\n",
       "    </tr>\n",
       "  </tbody>\n",
       "</table>\n",
       "</div>"
      ],
      "text/plain": [
       "               Maas       Yas  Calisma Saati\n",
       "New Index                                   \n",
       "Fur        0.076872  1.340135      -0.909408\n",
       "Ahm        0.011289 -0.770686       1.477181\n",
       "Ade        2.310672  0.661001       1.083507\n",
       "Hat        1.761412 -0.603692       0.128947"
      ]
     },
     "execution_count": 113,
     "metadata": {},
     "output_type": "execute_result"
    }
   ],
   "source": [
    "newDataFrame.set_index(\"New Index\")"
   ]
  },
  {
   "cell_type": "markdown",
   "id": "da97024b",
   "metadata": {},
   "source": [
    "newDataFrame"
   ]
  },
  {
   "cell_type": "code",
   "execution_count": 116,
   "id": "be4a75af",
   "metadata": {},
   "outputs": [],
   "source": [
    "newDataFrame.set_index(\"New Index\",inplace=True)"
   ]
  },
  {
   "cell_type": "code",
   "execution_count": 117,
   "id": "612d65e3",
   "metadata": {},
   "outputs": [
    {
     "data": {
      "text/html": [
       "<div>\n",
       "<style scoped>\n",
       "    .dataframe tbody tr th:only-of-type {\n",
       "        vertical-align: middle;\n",
       "    }\n",
       "\n",
       "    .dataframe tbody tr th {\n",
       "        vertical-align: top;\n",
       "    }\n",
       "\n",
       "    .dataframe thead th {\n",
       "        text-align: right;\n",
       "    }\n",
       "</style>\n",
       "<table border=\"1\" class=\"dataframe\">\n",
       "  <thead>\n",
       "    <tr style=\"text-align: right;\">\n",
       "      <th></th>\n",
       "      <th>Maas</th>\n",
       "      <th>Yas</th>\n",
       "      <th>Calisma Saati</th>\n",
       "    </tr>\n",
       "    <tr>\n",
       "      <th>New Index</th>\n",
       "      <th></th>\n",
       "      <th></th>\n",
       "      <th></th>\n",
       "    </tr>\n",
       "  </thead>\n",
       "  <tbody>\n",
       "    <tr>\n",
       "      <th>Fur</th>\n",
       "      <td>0.076872</td>\n",
       "      <td>1.340135</td>\n",
       "      <td>-0.909408</td>\n",
       "    </tr>\n",
       "    <tr>\n",
       "      <th>Ahm</th>\n",
       "      <td>0.011289</td>\n",
       "      <td>-0.770686</td>\n",
       "      <td>1.477181</td>\n",
       "    </tr>\n",
       "    <tr>\n",
       "      <th>Ade</th>\n",
       "      <td>2.310672</td>\n",
       "      <td>0.661001</td>\n",
       "      <td>1.083507</td>\n",
       "    </tr>\n",
       "    <tr>\n",
       "      <th>Hat</th>\n",
       "      <td>1.761412</td>\n",
       "      <td>-0.603692</td>\n",
       "      <td>0.128947</td>\n",
       "    </tr>\n",
       "  </tbody>\n",
       "</table>\n",
       "</div>"
      ],
      "text/plain": [
       "               Maas       Yas  Calisma Saati\n",
       "New Index                                   \n",
       "Fur        0.076872  1.340135      -0.909408\n",
       "Ahm        0.011289 -0.770686       1.477181\n",
       "Ade        2.310672  0.661001       1.083507\n",
       "Hat        1.761412 -0.603692       0.128947"
      ]
     },
     "execution_count": 117,
     "metadata": {},
     "output_type": "execute_result"
    }
   ],
   "source": [
    "newDataFrame"
   ]
  },
  {
   "cell_type": "code",
   "execution_count": 120,
   "id": "1b0be60b",
   "metadata": {},
   "outputs": [
    {
     "data": {
      "text/plain": [
       "Maas             0.076872\n",
       "Yas              1.340135\n",
       "Calisma Saati   -0.909408\n",
       "Name: Fur, dtype: float64"
      ]
     },
     "execution_count": 120,
     "metadata": {},
     "output_type": "execute_result"
    }
   ],
   "source": [
    "newDataFrame.loc[\"Fur\"]"
   ]
  },
  {
   "cell_type": "markdown",
   "id": "ddb2d1b3",
   "metadata": {},
   "source": [
    "### Multi index"
   ]
  },
  {
   "cell_type": "code",
   "execution_count": 133,
   "id": "7e79af50",
   "metadata": {},
   "outputs": [],
   "source": [
    "firstIndex = [\"Simpson\",\"Simpson\",\"Simpson\",\"South Park\",\"South Park\",\"South Park\"]"
   ]
  },
  {
   "cell_type": "code",
   "execution_count": 134,
   "id": "f94f6dcc",
   "metadata": {},
   "outputs": [],
   "source": [
    "innerIndex = [\"Homer\",\"Bart\",\"Marge\",\"Cartman\",\"Kenny\",\"Kyle\"]"
   ]
  },
  {
   "cell_type": "code",
   "execution_count": 135,
   "id": "04bc8153",
   "metadata": {},
   "outputs": [],
   "source": [
    "indexConcat = list(zip(firstIndex,innerIndex))"
   ]
  },
  {
   "cell_type": "code",
   "execution_count": 136,
   "id": "c83bcdd0",
   "metadata": {},
   "outputs": [
    {
     "data": {
      "text/plain": [
       "[('Simpson', 'Homer'),\n",
       " ('Simpson', 'Bart'),\n",
       " ('Simpson', 'Marge'),\n",
       " ('South Park', 'Cartman'),\n",
       " ('South Park', 'Kenny'),\n",
       " ('South Park', 'Kyle')]"
      ]
     },
     "execution_count": 136,
     "metadata": {},
     "output_type": "execute_result"
    }
   ],
   "source": [
    "indexConcat"
   ]
  },
  {
   "cell_type": "code",
   "execution_count": 137,
   "id": "f2e21a9e",
   "metadata": {},
   "outputs": [],
   "source": [
    "indexConcat = pd.MultiIndex.from_tuples(indexConcat)"
   ]
  },
  {
   "cell_type": "code",
   "execution_count": 138,
   "id": "277af353",
   "metadata": {},
   "outputs": [
    {
     "data": {
      "text/plain": [
       "MultiIndex([(   'Simpson',   'Homer'),\n",
       "            (   'Simpson',    'Bart'),\n",
       "            (   'Simpson',   'Marge'),\n",
       "            ('South Park', 'Cartman'),\n",
       "            ('South Park',   'Kenny'),\n",
       "            ('South Park',    'Kyle')],\n",
       "           )"
      ]
     },
     "execution_count": 138,
     "metadata": {},
     "output_type": "execute_result"
    }
   ],
   "source": [
    "indexConcat"
   ]
  },
  {
   "cell_type": "code",
   "execution_count": 139,
   "id": "ceae55ac",
   "metadata": {},
   "outputs": [
    {
     "data": {
      "text/plain": [
       "pandas.core.indexes.multi.MultiIndex"
      ]
     },
     "execution_count": 139,
     "metadata": {},
     "output_type": "execute_result"
    }
   ],
   "source": [
    "type(indexConcat)"
   ]
  },
  {
   "cell_type": "code",
   "execution_count": 140,
   "id": "b0ec4bea",
   "metadata": {},
   "outputs": [],
   "source": [
    "movieList = [[40,\"A\"],[30,\"B\"],[10,\"C\"],[50,\"D\"],[10,\"E\"],[11,\"F\"]]"
   ]
  },
  {
   "cell_type": "code",
   "execution_count": 141,
   "id": "034571e3",
   "metadata": {},
   "outputs": [],
   "source": [
    "movieListNumpy = np.array(movieList)"
   ]
  },
  {
   "cell_type": "code",
   "execution_count": 142,
   "id": "8a43b7f9",
   "metadata": {},
   "outputs": [],
   "source": [
    "movieDataFrame = pd.DataFrame(movieListNumpy,index=indexConcat,columns=[\"Yas\",\"Meslek\"])"
   ]
  },
  {
   "cell_type": "code",
   "execution_count": 143,
   "id": "92f5c440",
   "metadata": {},
   "outputs": [
    {
     "data": {
      "text/html": [
       "<div>\n",
       "<style scoped>\n",
       "    .dataframe tbody tr th:only-of-type {\n",
       "        vertical-align: middle;\n",
       "    }\n",
       "\n",
       "    .dataframe tbody tr th {\n",
       "        vertical-align: top;\n",
       "    }\n",
       "\n",
       "    .dataframe thead th {\n",
       "        text-align: right;\n",
       "    }\n",
       "</style>\n",
       "<table border=\"1\" class=\"dataframe\">\n",
       "  <thead>\n",
       "    <tr style=\"text-align: right;\">\n",
       "      <th></th>\n",
       "      <th></th>\n",
       "      <th>Yas</th>\n",
       "      <th>Meslek</th>\n",
       "    </tr>\n",
       "  </thead>\n",
       "  <tbody>\n",
       "    <tr>\n",
       "      <th rowspan=\"3\" valign=\"top\">Simpson</th>\n",
       "      <th>Homer</th>\n",
       "      <td>40</td>\n",
       "      <td>A</td>\n",
       "    </tr>\n",
       "    <tr>\n",
       "      <th>Bart</th>\n",
       "      <td>30</td>\n",
       "      <td>B</td>\n",
       "    </tr>\n",
       "    <tr>\n",
       "      <th>Marge</th>\n",
       "      <td>10</td>\n",
       "      <td>C</td>\n",
       "    </tr>\n",
       "    <tr>\n",
       "      <th rowspan=\"3\" valign=\"top\">South Park</th>\n",
       "      <th>Cartman</th>\n",
       "      <td>50</td>\n",
       "      <td>D</td>\n",
       "    </tr>\n",
       "    <tr>\n",
       "      <th>Kenny</th>\n",
       "      <td>10</td>\n",
       "      <td>E</td>\n",
       "    </tr>\n",
       "    <tr>\n",
       "      <th>Kyle</th>\n",
       "      <td>11</td>\n",
       "      <td>F</td>\n",
       "    </tr>\n",
       "  </tbody>\n",
       "</table>\n",
       "</div>"
      ],
      "text/plain": [
       "                   Yas Meslek\n",
       "Simpson    Homer    40      A\n",
       "           Bart     30      B\n",
       "           Marge    10      C\n",
       "South Park Cartman  50      D\n",
       "           Kenny    10      E\n",
       "           Kyle     11      F"
      ]
     },
     "execution_count": 143,
     "metadata": {},
     "output_type": "execute_result"
    }
   ],
   "source": [
    "movieDataFrame"
   ]
  },
  {
   "cell_type": "code",
   "execution_count": 144,
   "id": "e2637609",
   "metadata": {},
   "outputs": [
    {
     "data": {
      "text/html": [
       "<div>\n",
       "<style scoped>\n",
       "    .dataframe tbody tr th:only-of-type {\n",
       "        vertical-align: middle;\n",
       "    }\n",
       "\n",
       "    .dataframe tbody tr th {\n",
       "        vertical-align: top;\n",
       "    }\n",
       "\n",
       "    .dataframe thead th {\n",
       "        text-align: right;\n",
       "    }\n",
       "</style>\n",
       "<table border=\"1\" class=\"dataframe\">\n",
       "  <thead>\n",
       "    <tr style=\"text-align: right;\">\n",
       "      <th></th>\n",
       "      <th>Yas</th>\n",
       "      <th>Meslek</th>\n",
       "    </tr>\n",
       "  </thead>\n",
       "  <tbody>\n",
       "    <tr>\n",
       "      <th>Homer</th>\n",
       "      <td>40</td>\n",
       "      <td>A</td>\n",
       "    </tr>\n",
       "    <tr>\n",
       "      <th>Bart</th>\n",
       "      <td>30</td>\n",
       "      <td>B</td>\n",
       "    </tr>\n",
       "    <tr>\n",
       "      <th>Marge</th>\n",
       "      <td>10</td>\n",
       "      <td>C</td>\n",
       "    </tr>\n",
       "  </tbody>\n",
       "</table>\n",
       "</div>"
      ],
      "text/plain": [
       "      Yas Meslek\n",
       "Homer  40      A\n",
       "Bart   30      B\n",
       "Marge  10      C"
      ]
     },
     "execution_count": 144,
     "metadata": {},
     "output_type": "execute_result"
    }
   ],
   "source": [
    "movieDataFrame.loc[\"Simpson\"]"
   ]
  },
  {
   "cell_type": "code",
   "execution_count": 146,
   "id": "03ccbbd1",
   "metadata": {},
   "outputs": [
    {
     "data": {
      "text/plain": [
       "Yas       10\n",
       "Meslek     E\n",
       "Name: Kenny, dtype: object"
      ]
     },
     "execution_count": 146,
     "metadata": {},
     "output_type": "execute_result"
    }
   ],
   "source": [
    "movieDataFrame.loc[\"South Park\"].loc[\"Kenny\"]"
   ]
  },
  {
   "cell_type": "code",
   "execution_count": 149,
   "id": "c307f5f2",
   "metadata": {},
   "outputs": [],
   "source": [
    "movieDataFrame.index.names = [\"Aile\",\"İsim\"]"
   ]
  },
  {
   "cell_type": "code",
   "execution_count": 150,
   "id": "5ec645fd",
   "metadata": {},
   "outputs": [
    {
     "data": {
      "text/html": [
       "<div>\n",
       "<style scoped>\n",
       "    .dataframe tbody tr th:only-of-type {\n",
       "        vertical-align: middle;\n",
       "    }\n",
       "\n",
       "    .dataframe tbody tr th {\n",
       "        vertical-align: top;\n",
       "    }\n",
       "\n",
       "    .dataframe thead th {\n",
       "        text-align: right;\n",
       "    }\n",
       "</style>\n",
       "<table border=\"1\" class=\"dataframe\">\n",
       "  <thead>\n",
       "    <tr style=\"text-align: right;\">\n",
       "      <th></th>\n",
       "      <th></th>\n",
       "      <th>Yas</th>\n",
       "      <th>Meslek</th>\n",
       "    </tr>\n",
       "    <tr>\n",
       "      <th>Aile</th>\n",
       "      <th>İsim</th>\n",
       "      <th></th>\n",
       "      <th></th>\n",
       "    </tr>\n",
       "  </thead>\n",
       "  <tbody>\n",
       "    <tr>\n",
       "      <th rowspan=\"3\" valign=\"top\">Simpson</th>\n",
       "      <th>Homer</th>\n",
       "      <td>40</td>\n",
       "      <td>A</td>\n",
       "    </tr>\n",
       "    <tr>\n",
       "      <th>Bart</th>\n",
       "      <td>30</td>\n",
       "      <td>B</td>\n",
       "    </tr>\n",
       "    <tr>\n",
       "      <th>Marge</th>\n",
       "      <td>10</td>\n",
       "      <td>C</td>\n",
       "    </tr>\n",
       "    <tr>\n",
       "      <th rowspan=\"3\" valign=\"top\">South Park</th>\n",
       "      <th>Cartman</th>\n",
       "      <td>50</td>\n",
       "      <td>D</td>\n",
       "    </tr>\n",
       "    <tr>\n",
       "      <th>Kenny</th>\n",
       "      <td>10</td>\n",
       "      <td>E</td>\n",
       "    </tr>\n",
       "    <tr>\n",
       "      <th>Kyle</th>\n",
       "      <td>11</td>\n",
       "      <td>F</td>\n",
       "    </tr>\n",
       "  </tbody>\n",
       "</table>\n",
       "</div>"
      ],
      "text/plain": [
       "                   Yas Meslek\n",
       "Aile       İsim              \n",
       "Simpson    Homer    40      A\n",
       "           Bart     30      B\n",
       "           Marge    10      C\n",
       "South Park Cartman  50      D\n",
       "           Kenny    10      E\n",
       "           Kyle     11      F"
      ]
     },
     "execution_count": 150,
     "metadata": {},
     "output_type": "execute_result"
    }
   ],
   "source": [
    "movieDataFrame"
   ]
  },
  {
   "cell_type": "markdown",
   "id": "b13f9ced",
   "metadata": {},
   "source": [
    "# Operations"
   ]
  },
  {
   "cell_type": "code",
   "execution_count": 152,
   "id": "2787ea65",
   "metadata": {},
   "outputs": [],
   "source": [
    "data = { \"Istanbul\": [30,29,np.nan],\"Ankara\":[20,np.nan,25],\"Izmir\":[40,39,38]}"
   ]
  },
  {
   "cell_type": "code",
   "execution_count": 153,
   "id": "8c6393b4",
   "metadata": {},
   "outputs": [],
   "source": [
    "weatherDataFrame = pd.DataFrame(data)"
   ]
  },
  {
   "cell_type": "code",
   "execution_count": 154,
   "id": "e7836b5e",
   "metadata": {},
   "outputs": [
    {
     "data": {
      "text/html": [
       "<div>\n",
       "<style scoped>\n",
       "    .dataframe tbody tr th:only-of-type {\n",
       "        vertical-align: middle;\n",
       "    }\n",
       "\n",
       "    .dataframe tbody tr th {\n",
       "        vertical-align: top;\n",
       "    }\n",
       "\n",
       "    .dataframe thead th {\n",
       "        text-align: right;\n",
       "    }\n",
       "</style>\n",
       "<table border=\"1\" class=\"dataframe\">\n",
       "  <thead>\n",
       "    <tr style=\"text-align: right;\">\n",
       "      <th></th>\n",
       "      <th>Istanbul</th>\n",
       "      <th>Ankara</th>\n",
       "      <th>Izmir</th>\n",
       "    </tr>\n",
       "  </thead>\n",
       "  <tbody>\n",
       "    <tr>\n",
       "      <th>0</th>\n",
       "      <td>30.0</td>\n",
       "      <td>20.0</td>\n",
       "      <td>40</td>\n",
       "    </tr>\n",
       "    <tr>\n",
       "      <th>1</th>\n",
       "      <td>29.0</td>\n",
       "      <td>NaN</td>\n",
       "      <td>39</td>\n",
       "    </tr>\n",
       "    <tr>\n",
       "      <th>2</th>\n",
       "      <td>NaN</td>\n",
       "      <td>25.0</td>\n",
       "      <td>38</td>\n",
       "    </tr>\n",
       "  </tbody>\n",
       "</table>\n",
       "</div>"
      ],
      "text/plain": [
       "   Istanbul  Ankara  Izmir\n",
       "0      30.0    20.0     40\n",
       "1      29.0     NaN     39\n",
       "2       NaN    25.0     38"
      ]
     },
     "execution_count": 154,
     "metadata": {},
     "output_type": "execute_result"
    }
   ],
   "source": [
    "weatherDataFrame"
   ]
  },
  {
   "cell_type": "code",
   "execution_count": 155,
   "id": "f6f323cb",
   "metadata": {},
   "outputs": [],
   "source": [
    "indexDay = [\"Pazartesi\",\"Salı\",\"Carsamba\"]"
   ]
  },
  {
   "cell_type": "code",
   "execution_count": 164,
   "id": "7a37b845",
   "metadata": {},
   "outputs": [],
   "source": [
    "weatherDataFrame[\"Günler\"]=indexDay"
   ]
  },
  {
   "cell_type": "code",
   "execution_count": 165,
   "id": "718a8826",
   "metadata": {},
   "outputs": [
    {
     "data": {
      "text/html": [
       "<div>\n",
       "<style scoped>\n",
       "    .dataframe tbody tr th:only-of-type {\n",
       "        vertical-align: middle;\n",
       "    }\n",
       "\n",
       "    .dataframe tbody tr th {\n",
       "        vertical-align: top;\n",
       "    }\n",
       "\n",
       "    .dataframe thead th {\n",
       "        text-align: right;\n",
       "    }\n",
       "</style>\n",
       "<table border=\"1\" class=\"dataframe\">\n",
       "  <thead>\n",
       "    <tr style=\"text-align: right;\">\n",
       "      <th></th>\n",
       "      <th>Istanbul</th>\n",
       "      <th>Ankara</th>\n",
       "      <th>Izmir</th>\n",
       "      <th>Günler</th>\n",
       "    </tr>\n",
       "    <tr>\n",
       "      <th>Günler</th>\n",
       "      <th></th>\n",
       "      <th></th>\n",
       "      <th></th>\n",
       "      <th></th>\n",
       "    </tr>\n",
       "  </thead>\n",
       "  <tbody>\n",
       "    <tr>\n",
       "      <th>Pazartesi</th>\n",
       "      <td>30.0</td>\n",
       "      <td>20.0</td>\n",
       "      <td>40</td>\n",
       "      <td>Pazartesi</td>\n",
       "    </tr>\n",
       "    <tr>\n",
       "      <th>Salı</th>\n",
       "      <td>29.0</td>\n",
       "      <td>NaN</td>\n",
       "      <td>39</td>\n",
       "      <td>Salı</td>\n",
       "    </tr>\n",
       "    <tr>\n",
       "      <th>Carsamba</th>\n",
       "      <td>NaN</td>\n",
       "      <td>25.0</td>\n",
       "      <td>38</td>\n",
       "      <td>Carsamba</td>\n",
       "    </tr>\n",
       "  </tbody>\n",
       "</table>\n",
       "</div>"
      ],
      "text/plain": [
       "           Istanbul  Ankara  Izmir     Günler\n",
       "Günler                                       \n",
       "Pazartesi      30.0    20.0     40  Pazartesi\n",
       "Salı           29.0     NaN     39       Salı\n",
       "Carsamba        NaN    25.0     38   Carsamba"
      ]
     },
     "execution_count": 165,
     "metadata": {},
     "output_type": "execute_result"
    }
   ],
   "source": [
    "weatherDataFrame"
   ]
  },
  {
   "cell_type": "code",
   "execution_count": 166,
   "id": "c8f97c8a",
   "metadata": {},
   "outputs": [],
   "source": [
    "weatherDataFrame.set_index(\"Günler\",inplace=True)"
   ]
  },
  {
   "cell_type": "code",
   "execution_count": 167,
   "id": "7f91be89",
   "metadata": {},
   "outputs": [
    {
     "data": {
      "text/html": [
       "<div>\n",
       "<style scoped>\n",
       "    .dataframe tbody tr th:only-of-type {\n",
       "        vertical-align: middle;\n",
       "    }\n",
       "\n",
       "    .dataframe tbody tr th {\n",
       "        vertical-align: top;\n",
       "    }\n",
       "\n",
       "    .dataframe thead th {\n",
       "        text-align: right;\n",
       "    }\n",
       "</style>\n",
       "<table border=\"1\" class=\"dataframe\">\n",
       "  <thead>\n",
       "    <tr style=\"text-align: right;\">\n",
       "      <th></th>\n",
       "      <th>Istanbul</th>\n",
       "      <th>Ankara</th>\n",
       "      <th>Izmir</th>\n",
       "    </tr>\n",
       "    <tr>\n",
       "      <th>Günler</th>\n",
       "      <th></th>\n",
       "      <th></th>\n",
       "      <th></th>\n",
       "    </tr>\n",
       "  </thead>\n",
       "  <tbody>\n",
       "    <tr>\n",
       "      <th>Pazartesi</th>\n",
       "      <td>30.0</td>\n",
       "      <td>20.0</td>\n",
       "      <td>40</td>\n",
       "    </tr>\n",
       "    <tr>\n",
       "      <th>Salı</th>\n",
       "      <td>29.0</td>\n",
       "      <td>NaN</td>\n",
       "      <td>39</td>\n",
       "    </tr>\n",
       "    <tr>\n",
       "      <th>Carsamba</th>\n",
       "      <td>NaN</td>\n",
       "      <td>25.0</td>\n",
       "      <td>38</td>\n",
       "    </tr>\n",
       "  </tbody>\n",
       "</table>\n",
       "</div>"
      ],
      "text/plain": [
       "           Istanbul  Ankara  Izmir\n",
       "Günler                            \n",
       "Pazartesi      30.0    20.0     40\n",
       "Salı           29.0     NaN     39\n",
       "Carsamba        NaN    25.0     38"
      ]
     },
     "execution_count": 167,
     "metadata": {},
     "output_type": "execute_result"
    }
   ],
   "source": [
    "weatherDataFrame"
   ]
  },
  {
   "cell_type": "code",
   "execution_count": 168,
   "id": "d76075b1",
   "metadata": {},
   "outputs": [
    {
     "data": {
      "text/html": [
       "<div>\n",
       "<style scoped>\n",
       "    .dataframe tbody tr th:only-of-type {\n",
       "        vertical-align: middle;\n",
       "    }\n",
       "\n",
       "    .dataframe tbody tr th {\n",
       "        vertical-align: top;\n",
       "    }\n",
       "\n",
       "    .dataframe thead th {\n",
       "        text-align: right;\n",
       "    }\n",
       "</style>\n",
       "<table border=\"1\" class=\"dataframe\">\n",
       "  <thead>\n",
       "    <tr style=\"text-align: right;\">\n",
       "      <th></th>\n",
       "      <th>Istanbul</th>\n",
       "      <th>Ankara</th>\n",
       "      <th>Izmir</th>\n",
       "    </tr>\n",
       "    <tr>\n",
       "      <th>Günler</th>\n",
       "      <th></th>\n",
       "      <th></th>\n",
       "      <th></th>\n",
       "    </tr>\n",
       "  </thead>\n",
       "  <tbody>\n",
       "    <tr>\n",
       "      <th>Pazartesi</th>\n",
       "      <td>30.0</td>\n",
       "      <td>20.0</td>\n",
       "      <td>40</td>\n",
       "    </tr>\n",
       "  </tbody>\n",
       "</table>\n",
       "</div>"
      ],
      "text/plain": [
       "           Istanbul  Ankara  Izmir\n",
       "Günler                            \n",
       "Pazartesi      30.0    20.0     40"
      ]
     },
     "execution_count": 168,
     "metadata": {},
     "output_type": "execute_result"
    }
   ],
   "source": [
    "weatherDataFrame.dropna()"
   ]
  },
  {
   "cell_type": "code",
   "execution_count": 169,
   "id": "ecdb851f",
   "metadata": {},
   "outputs": [
    {
     "data": {
      "text/html": [
       "<div>\n",
       "<style scoped>\n",
       "    .dataframe tbody tr th:only-of-type {\n",
       "        vertical-align: middle;\n",
       "    }\n",
       "\n",
       "    .dataframe tbody tr th {\n",
       "        vertical-align: top;\n",
       "    }\n",
       "\n",
       "    .dataframe thead th {\n",
       "        text-align: right;\n",
       "    }\n",
       "</style>\n",
       "<table border=\"1\" class=\"dataframe\">\n",
       "  <thead>\n",
       "    <tr style=\"text-align: right;\">\n",
       "      <th></th>\n",
       "      <th>Izmir</th>\n",
       "    </tr>\n",
       "    <tr>\n",
       "      <th>Günler</th>\n",
       "      <th></th>\n",
       "    </tr>\n",
       "  </thead>\n",
       "  <tbody>\n",
       "    <tr>\n",
       "      <th>Pazartesi</th>\n",
       "      <td>40</td>\n",
       "    </tr>\n",
       "    <tr>\n",
       "      <th>Salı</th>\n",
       "      <td>39</td>\n",
       "    </tr>\n",
       "    <tr>\n",
       "      <th>Carsamba</th>\n",
       "      <td>38</td>\n",
       "    </tr>\n",
       "  </tbody>\n",
       "</table>\n",
       "</div>"
      ],
      "text/plain": [
       "           Izmir\n",
       "Günler          \n",
       "Pazartesi     40\n",
       "Salı          39\n",
       "Carsamba      38"
      ]
     },
     "execution_count": 169,
     "metadata": {},
     "output_type": "execute_result"
    }
   ],
   "source": [
    "weatherDataFrame.dropna(axis=1)"
   ]
  },
  {
   "cell_type": "code",
   "execution_count": 176,
   "id": "129eeee6",
   "metadata": {},
   "outputs": [],
   "source": [
    "newdata = { \"Istanbul\": [30,29,np.nan],\"Ankara\":[20,np.nan,25],\"Izmir\":[40,39,38],\"Antalya\":[45,np.nan,np.nan]}\n",
    "newWeatherDataFrame = pd.DataFrame(newdata)\n",
    "newWeatherDataFrame[\"Günler\"]  = indexDay\n",
    "newWeatherDataFrame.set_index(\"Günler\",inplace=True)"
   ]
  },
  {
   "cell_type": "code",
   "execution_count": 177,
   "id": "7fe8f582",
   "metadata": {},
   "outputs": [
    {
     "data": {
      "text/html": [
       "<div>\n",
       "<style scoped>\n",
       "    .dataframe tbody tr th:only-of-type {\n",
       "        vertical-align: middle;\n",
       "    }\n",
       "\n",
       "    .dataframe tbody tr th {\n",
       "        vertical-align: top;\n",
       "    }\n",
       "\n",
       "    .dataframe thead th {\n",
       "        text-align: right;\n",
       "    }\n",
       "</style>\n",
       "<table border=\"1\" class=\"dataframe\">\n",
       "  <thead>\n",
       "    <tr style=\"text-align: right;\">\n",
       "      <th></th>\n",
       "      <th>Istanbul</th>\n",
       "      <th>Ankara</th>\n",
       "      <th>Izmir</th>\n",
       "      <th>Antalya</th>\n",
       "    </tr>\n",
       "    <tr>\n",
       "      <th>Günler</th>\n",
       "      <th></th>\n",
       "      <th></th>\n",
       "      <th></th>\n",
       "      <th></th>\n",
       "    </tr>\n",
       "  </thead>\n",
       "  <tbody>\n",
       "    <tr>\n",
       "      <th>Pazartesi</th>\n",
       "      <td>30.0</td>\n",
       "      <td>20.0</td>\n",
       "      <td>40</td>\n",
       "      <td>45.0</td>\n",
       "    </tr>\n",
       "    <tr>\n",
       "      <th>Salı</th>\n",
       "      <td>29.0</td>\n",
       "      <td>NaN</td>\n",
       "      <td>39</td>\n",
       "      <td>NaN</td>\n",
       "    </tr>\n",
       "    <tr>\n",
       "      <th>Carsamba</th>\n",
       "      <td>NaN</td>\n",
       "      <td>25.0</td>\n",
       "      <td>38</td>\n",
       "      <td>NaN</td>\n",
       "    </tr>\n",
       "  </tbody>\n",
       "</table>\n",
       "</div>"
      ],
      "text/plain": [
       "           Istanbul  Ankara  Izmir  Antalya\n",
       "Günler                                     \n",
       "Pazartesi      30.0    20.0     40     45.0\n",
       "Salı           29.0     NaN     39      NaN\n",
       "Carsamba        NaN    25.0     38      NaN"
      ]
     },
     "execution_count": 177,
     "metadata": {},
     "output_type": "execute_result"
    }
   ],
   "source": [
    "newWeatherDataFrame"
   ]
  },
  {
   "cell_type": "code",
   "execution_count": 178,
   "id": "bacf1ed8",
   "metadata": {},
   "outputs": [
    {
     "data": {
      "text/html": [
       "<div>\n",
       "<style scoped>\n",
       "    .dataframe tbody tr th:only-of-type {\n",
       "        vertical-align: middle;\n",
       "    }\n",
       "\n",
       "    .dataframe tbody tr th {\n",
       "        vertical-align: top;\n",
       "    }\n",
       "\n",
       "    .dataframe thead th {\n",
       "        text-align: right;\n",
       "    }\n",
       "</style>\n",
       "<table border=\"1\" class=\"dataframe\">\n",
       "  <thead>\n",
       "    <tr style=\"text-align: right;\">\n",
       "      <th></th>\n",
       "      <th>Istanbul</th>\n",
       "      <th>Ankara</th>\n",
       "      <th>Izmir</th>\n",
       "    </tr>\n",
       "    <tr>\n",
       "      <th>Günler</th>\n",
       "      <th></th>\n",
       "      <th></th>\n",
       "      <th></th>\n",
       "    </tr>\n",
       "  </thead>\n",
       "  <tbody>\n",
       "    <tr>\n",
       "      <th>Pazartesi</th>\n",
       "      <td>30.0</td>\n",
       "      <td>20.0</td>\n",
       "      <td>40</td>\n",
       "    </tr>\n",
       "    <tr>\n",
       "      <th>Salı</th>\n",
       "      <td>29.0</td>\n",
       "      <td>NaN</td>\n",
       "      <td>39</td>\n",
       "    </tr>\n",
       "    <tr>\n",
       "      <th>Carsamba</th>\n",
       "      <td>NaN</td>\n",
       "      <td>25.0</td>\n",
       "      <td>38</td>\n",
       "    </tr>\n",
       "  </tbody>\n",
       "</table>\n",
       "</div>"
      ],
      "text/plain": [
       "           Istanbul  Ankara  Izmir\n",
       "Günler                            \n",
       "Pazartesi      30.0    20.0     40\n",
       "Salı           29.0     NaN     39\n",
       "Carsamba        NaN    25.0     38"
      ]
     },
     "execution_count": 178,
     "metadata": {},
     "output_type": "execute_result"
    }
   ],
   "source": [
    "newWeatherDataFrame.dropna(axis=1,thresh=2)"
   ]
  },
  {
   "cell_type": "code",
   "execution_count": 189,
   "id": "8a49c41d",
   "metadata": {},
   "outputs": [
    {
     "data": {
      "text/html": [
       "<div>\n",
       "<style scoped>\n",
       "    .dataframe tbody tr th:only-of-type {\n",
       "        vertical-align: middle;\n",
       "    }\n",
       "\n",
       "    .dataframe tbody tr th {\n",
       "        vertical-align: top;\n",
       "    }\n",
       "\n",
       "    .dataframe thead th {\n",
       "        text-align: right;\n",
       "    }\n",
       "</style>\n",
       "<table border=\"1\" class=\"dataframe\">\n",
       "  <thead>\n",
       "    <tr style=\"text-align: right;\">\n",
       "      <th></th>\n",
       "      <th>Istanbul</th>\n",
       "      <th>Ankara</th>\n",
       "      <th>Izmir</th>\n",
       "    </tr>\n",
       "    <tr>\n",
       "      <th>Günler</th>\n",
       "      <th></th>\n",
       "      <th></th>\n",
       "      <th></th>\n",
       "    </tr>\n",
       "  </thead>\n",
       "  <tbody>\n",
       "    <tr>\n",
       "      <th>Pazartesi</th>\n",
       "      <td>30.0</td>\n",
       "      <td>20.0</td>\n",
       "      <td>40</td>\n",
       "    </tr>\n",
       "    <tr>\n",
       "      <th>Salı</th>\n",
       "      <td>29.0</td>\n",
       "      <td>NaN</td>\n",
       "      <td>39</td>\n",
       "    </tr>\n",
       "    <tr>\n",
       "      <th>Carsamba</th>\n",
       "      <td>NaN</td>\n",
       "      <td>25.0</td>\n",
       "      <td>38</td>\n",
       "    </tr>\n",
       "  </tbody>\n",
       "</table>\n",
       "</div>"
      ],
      "text/plain": [
       "           Istanbul  Ankara  Izmir\n",
       "Günler                            \n",
       "Pazartesi      30.0    20.0     40\n",
       "Salı           29.0     NaN     39\n",
       "Carsamba        NaN    25.0     38"
      ]
     },
     "execution_count": 189,
     "metadata": {},
     "output_type": "execute_result"
    }
   ],
   "source": [
    "newWeatherDataFrame.dropna(axis=1,thresh=2)"
   ]
  },
  {
   "cell_type": "code",
   "execution_count": 192,
   "id": "381403d3",
   "metadata": {},
   "outputs": [
    {
     "data": {
      "text/html": [
       "<div>\n",
       "<style scoped>\n",
       "    .dataframe tbody tr th:only-of-type {\n",
       "        vertical-align: middle;\n",
       "    }\n",
       "\n",
       "    .dataframe tbody tr th {\n",
       "        vertical-align: top;\n",
       "    }\n",
       "\n",
       "    .dataframe thead th {\n",
       "        text-align: right;\n",
       "    }\n",
       "</style>\n",
       "<table border=\"1\" class=\"dataframe\">\n",
       "  <thead>\n",
       "    <tr style=\"text-align: right;\">\n",
       "      <th></th>\n",
       "      <th>Istanbul</th>\n",
       "      <th>Ankara</th>\n",
       "      <th>Izmir</th>\n",
       "      <th>Antalya</th>\n",
       "    </tr>\n",
       "    <tr>\n",
       "      <th>Günler</th>\n",
       "      <th></th>\n",
       "      <th></th>\n",
       "      <th></th>\n",
       "      <th></th>\n",
       "    </tr>\n",
       "  </thead>\n",
       "  <tbody>\n",
       "    <tr>\n",
       "      <th>Pazartesi</th>\n",
       "      <td>30.0</td>\n",
       "      <td>20.0</td>\n",
       "      <td>40</td>\n",
       "      <td>45.0</td>\n",
       "    </tr>\n",
       "  </tbody>\n",
       "</table>\n",
       "</div>"
      ],
      "text/plain": [
       "           Istanbul  Ankara  Izmir  Antalya\n",
       "Günler                                     \n",
       "Pazartesi      30.0    20.0     40     45.0"
      ]
     },
     "execution_count": 192,
     "metadata": {},
     "output_type": "execute_result"
    }
   ],
   "source": [
    "newWeatherDataFrame.dropna(axis=0,thresh=3)"
   ]
  },
  {
   "cell_type": "code",
   "execution_count": 193,
   "id": "5bbde4b2",
   "metadata": {},
   "outputs": [
    {
     "data": {
      "text/html": [
       "<div>\n",
       "<style scoped>\n",
       "    .dataframe tbody tr th:only-of-type {\n",
       "        vertical-align: middle;\n",
       "    }\n",
       "\n",
       "    .dataframe tbody tr th {\n",
       "        vertical-align: top;\n",
       "    }\n",
       "\n",
       "    .dataframe thead th {\n",
       "        text-align: right;\n",
       "    }\n",
       "</style>\n",
       "<table border=\"1\" class=\"dataframe\">\n",
       "  <thead>\n",
       "    <tr style=\"text-align: right;\">\n",
       "      <th></th>\n",
       "      <th>Istanbul</th>\n",
       "      <th>Ankara</th>\n",
       "      <th>Izmir</th>\n",
       "      <th>Antalya</th>\n",
       "    </tr>\n",
       "    <tr>\n",
       "      <th>Günler</th>\n",
       "      <th></th>\n",
       "      <th></th>\n",
       "      <th></th>\n",
       "      <th></th>\n",
       "    </tr>\n",
       "  </thead>\n",
       "  <tbody>\n",
       "    <tr>\n",
       "      <th>Pazartesi</th>\n",
       "      <td>30.0</td>\n",
       "      <td>20.0</td>\n",
       "      <td>40</td>\n",
       "      <td>45.0</td>\n",
       "    </tr>\n",
       "    <tr>\n",
       "      <th>Salı</th>\n",
       "      <td>29.0</td>\n",
       "      <td>20.0</td>\n",
       "      <td>39</td>\n",
       "      <td>20.0</td>\n",
       "    </tr>\n",
       "    <tr>\n",
       "      <th>Carsamba</th>\n",
       "      <td>20.0</td>\n",
       "      <td>25.0</td>\n",
       "      <td>38</td>\n",
       "      <td>20.0</td>\n",
       "    </tr>\n",
       "  </tbody>\n",
       "</table>\n",
       "</div>"
      ],
      "text/plain": [
       "           Istanbul  Ankara  Izmir  Antalya\n",
       "Günler                                     \n",
       "Pazartesi      30.0    20.0     40     45.0\n",
       "Salı           29.0    20.0     39     20.0\n",
       "Carsamba       20.0    25.0     38     20.0"
      ]
     },
     "execution_count": 193,
     "metadata": {},
     "output_type": "execute_result"
    }
   ],
   "source": [
    "newWeatherDataFrame.fillna(20)"
   ]
  },
  {
   "cell_type": "markdown",
   "id": "b13eca21",
   "metadata": {},
   "source": [
    "# groupby"
   ]
  },
  {
   "cell_type": "code",
   "execution_count": 261,
   "id": "2ca71b9d",
   "metadata": {},
   "outputs": [],
   "source": [
    "salary= {\"Department\": [\"Yazılım\",\"Yazılım\",\"Pazarlama\",\"Pazarlama\",\"Hukuk\",\"Hukuk\"],\n",
    "         \"Workers Name\": [\"Furkan\",\"Ahmet\",\"Adem\",\"Hatice\",\"Bulut\",\"Caner\"],\n",
    "         \"Salary\" : [\"100\",\"150\",\"120\",\"200\",\"300\",\"150\"] }"
   ]
  },
  {
   "cell_type": "code",
   "execution_count": 262,
   "id": "a9ed6c26",
   "metadata": {},
   "outputs": [],
   "source": [
    "salaryDataFrame= pd.DataFrame(salary)"
   ]
  },
  {
   "cell_type": "code",
   "execution_count": 263,
   "id": "aafa0712",
   "metadata": {},
   "outputs": [
    {
     "data": {
      "text/html": [
       "<div>\n",
       "<style scoped>\n",
       "    .dataframe tbody tr th:only-of-type {\n",
       "        vertical-align: middle;\n",
       "    }\n",
       "\n",
       "    .dataframe tbody tr th {\n",
       "        vertical-align: top;\n",
       "    }\n",
       "\n",
       "    .dataframe thead th {\n",
       "        text-align: right;\n",
       "    }\n",
       "</style>\n",
       "<table border=\"1\" class=\"dataframe\">\n",
       "  <thead>\n",
       "    <tr style=\"text-align: right;\">\n",
       "      <th></th>\n",
       "      <th>Department</th>\n",
       "      <th>Workers Name</th>\n",
       "      <th>Salary</th>\n",
       "    </tr>\n",
       "  </thead>\n",
       "  <tbody>\n",
       "    <tr>\n",
       "      <th>0</th>\n",
       "      <td>Yazılım</td>\n",
       "      <td>Furkan</td>\n",
       "      <td>100</td>\n",
       "    </tr>\n",
       "    <tr>\n",
       "      <th>1</th>\n",
       "      <td>Yazılım</td>\n",
       "      <td>Ahmet</td>\n",
       "      <td>150</td>\n",
       "    </tr>\n",
       "    <tr>\n",
       "      <th>2</th>\n",
       "      <td>Pazarlama</td>\n",
       "      <td>Adem</td>\n",
       "      <td>120</td>\n",
       "    </tr>\n",
       "    <tr>\n",
       "      <th>3</th>\n",
       "      <td>Pazarlama</td>\n",
       "      <td>Hatice</td>\n",
       "      <td>200</td>\n",
       "    </tr>\n",
       "    <tr>\n",
       "      <th>4</th>\n",
       "      <td>Hukuk</td>\n",
       "      <td>Bulut</td>\n",
       "      <td>300</td>\n",
       "    </tr>\n",
       "    <tr>\n",
       "      <th>5</th>\n",
       "      <td>Hukuk</td>\n",
       "      <td>Caner</td>\n",
       "      <td>150</td>\n",
       "    </tr>\n",
       "  </tbody>\n",
       "</table>\n",
       "</div>"
      ],
      "text/plain": [
       "  Department Workers Name Salary\n",
       "0    Yazılım       Furkan    100\n",
       "1    Yazılım        Ahmet    150\n",
       "2  Pazarlama         Adem    120\n",
       "3  Pazarlama       Hatice    200\n",
       "4      Hukuk        Bulut    300\n",
       "5      Hukuk        Caner    150"
      ]
     },
     "execution_count": 263,
     "metadata": {},
     "output_type": "execute_result"
    }
   ],
   "source": [
    "salaryDataFrame"
   ]
  },
  {
   "cell_type": "code",
   "execution_count": 264,
   "id": "167946e6",
   "metadata": {},
   "outputs": [],
   "source": [
    "group = salaryDataFrame.groupby(\"Department\")"
   ]
  },
  {
   "cell_type": "code",
   "execution_count": 265,
   "id": "d2fde9ab",
   "metadata": {},
   "outputs": [
    {
     "data": {
      "text/html": [
       "<div>\n",
       "<style scoped>\n",
       "    .dataframe tbody tr th:only-of-type {\n",
       "        vertical-align: middle;\n",
       "    }\n",
       "\n",
       "    .dataframe tbody tr th {\n",
       "        vertical-align: top;\n",
       "    }\n",
       "\n",
       "    .dataframe thead th {\n",
       "        text-align: right;\n",
       "    }\n",
       "</style>\n",
       "<table border=\"1\" class=\"dataframe\">\n",
       "  <thead>\n",
       "    <tr style=\"text-align: right;\">\n",
       "      <th></th>\n",
       "      <th>Workers Name</th>\n",
       "      <th>Salary</th>\n",
       "    </tr>\n",
       "    <tr>\n",
       "      <th>Department</th>\n",
       "      <th></th>\n",
       "      <th></th>\n",
       "    </tr>\n",
       "  </thead>\n",
       "  <tbody>\n",
       "    <tr>\n",
       "      <th>Hukuk</th>\n",
       "      <td>2</td>\n",
       "      <td>2</td>\n",
       "    </tr>\n",
       "    <tr>\n",
       "      <th>Pazarlama</th>\n",
       "      <td>2</td>\n",
       "      <td>2</td>\n",
       "    </tr>\n",
       "    <tr>\n",
       "      <th>Yazılım</th>\n",
       "      <td>2</td>\n",
       "      <td>2</td>\n",
       "    </tr>\n",
       "  </tbody>\n",
       "</table>\n",
       "</div>"
      ],
      "text/plain": [
       "            Workers Name  Salary\n",
       "Department                      \n",
       "Hukuk                  2       2\n",
       "Pazarlama              2       2\n",
       "Yazılım                2       2"
      ]
     },
     "execution_count": 265,
     "metadata": {},
     "output_type": "execute_result"
    }
   ],
   "source": [
    "group.count()"
   ]
  },
  {
   "cell_type": "code",
   "execution_count": 266,
   "id": "78255879",
   "metadata": {},
   "outputs": [
    {
     "name": "stderr",
     "output_type": "stream",
     "text": [
      "C:\\Users\\furka\\AppData\\Local\\Temp\\ipykernel_5612\\3928442431.py:1: FutureWarning: The default value of numeric_only in DataFrameGroupBy.mean is deprecated. In a future version, numeric_only will default to False. Either specify numeric_only or select only columns which should be valid for the function.\n",
      "  group.mean()\n"
     ]
    },
    {
     "data": {
      "text/html": [
       "<div>\n",
       "<style scoped>\n",
       "    .dataframe tbody tr th:only-of-type {\n",
       "        vertical-align: middle;\n",
       "    }\n",
       "\n",
       "    .dataframe tbody tr th {\n",
       "        vertical-align: top;\n",
       "    }\n",
       "\n",
       "    .dataframe thead th {\n",
       "        text-align: right;\n",
       "    }\n",
       "</style>\n",
       "<table border=\"1\" class=\"dataframe\">\n",
       "  <thead>\n",
       "    <tr style=\"text-align: right;\">\n",
       "      <th></th>\n",
       "      <th>Salary</th>\n",
       "    </tr>\n",
       "    <tr>\n",
       "      <th>Department</th>\n",
       "      <th></th>\n",
       "    </tr>\n",
       "  </thead>\n",
       "  <tbody>\n",
       "    <tr>\n",
       "      <th>Hukuk</th>\n",
       "      <td>150075.0</td>\n",
       "    </tr>\n",
       "    <tr>\n",
       "      <th>Pazarlama</th>\n",
       "      <td>60100.0</td>\n",
       "    </tr>\n",
       "    <tr>\n",
       "      <th>Yazılım</th>\n",
       "      <td>50075.0</td>\n",
       "    </tr>\n",
       "  </tbody>\n",
       "</table>\n",
       "</div>"
      ],
      "text/plain": [
       "              Salary\n",
       "Department          \n",
       "Hukuk       150075.0\n",
       "Pazarlama    60100.0\n",
       "Yazılım      50075.0"
      ]
     },
     "execution_count": 266,
     "metadata": {},
     "output_type": "execute_result"
    }
   ],
   "source": [
    "group.mean()"
   ]
  },
  {
   "cell_type": "code",
   "execution_count": 267,
   "id": "39268b5f",
   "metadata": {},
   "outputs": [
    {
     "data": {
      "text/html": [
       "<div>\n",
       "<style scoped>\n",
       "    .dataframe tbody tr th:only-of-type {\n",
       "        vertical-align: middle;\n",
       "    }\n",
       "\n",
       "    .dataframe tbody tr th {\n",
       "        vertical-align: top;\n",
       "    }\n",
       "\n",
       "    .dataframe thead th {\n",
       "        text-align: right;\n",
       "    }\n",
       "</style>\n",
       "<table border=\"1\" class=\"dataframe\">\n",
       "  <thead>\n",
       "    <tr style=\"text-align: right;\">\n",
       "      <th></th>\n",
       "      <th>Workers Name</th>\n",
       "      <th>Salary</th>\n",
       "    </tr>\n",
       "    <tr>\n",
       "      <th>Department</th>\n",
       "      <th></th>\n",
       "      <th></th>\n",
       "    </tr>\n",
       "  </thead>\n",
       "  <tbody>\n",
       "    <tr>\n",
       "      <th>Hukuk</th>\n",
       "      <td>Caner</td>\n",
       "      <td>300</td>\n",
       "    </tr>\n",
       "    <tr>\n",
       "      <th>Pazarlama</th>\n",
       "      <td>Hatice</td>\n",
       "      <td>200</td>\n",
       "    </tr>\n",
       "    <tr>\n",
       "      <th>Yazılım</th>\n",
       "      <td>Furkan</td>\n",
       "      <td>150</td>\n",
       "    </tr>\n",
       "  </tbody>\n",
       "</table>\n",
       "</div>"
      ],
      "text/plain": [
       "           Workers Name Salary\n",
       "Department                    \n",
       "Hukuk             Caner    300\n",
       "Pazarlama        Hatice    200\n",
       "Yazılım          Furkan    150"
      ]
     },
     "execution_count": 267,
     "metadata": {},
     "output_type": "execute_result"
    }
   ],
   "source": [
    "group.max()"
   ]
  },
  {
   "cell_type": "code",
   "execution_count": 268,
   "id": "2a7d8f90",
   "metadata": {},
   "outputs": [
    {
     "data": {
      "text/html": [
       "<div>\n",
       "<style scoped>\n",
       "    .dataframe tbody tr th:only-of-type {\n",
       "        vertical-align: middle;\n",
       "    }\n",
       "\n",
       "    .dataframe tbody tr th {\n",
       "        vertical-align: top;\n",
       "    }\n",
       "\n",
       "    .dataframe thead th {\n",
       "        text-align: right;\n",
       "    }\n",
       "</style>\n",
       "<table border=\"1\" class=\"dataframe\">\n",
       "  <thead>\n",
       "    <tr style=\"text-align: right;\">\n",
       "      <th></th>\n",
       "      <th>Workers Name</th>\n",
       "      <th>Salary</th>\n",
       "    </tr>\n",
       "    <tr>\n",
       "      <th>Department</th>\n",
       "      <th></th>\n",
       "      <th></th>\n",
       "    </tr>\n",
       "  </thead>\n",
       "  <tbody>\n",
       "    <tr>\n",
       "      <th>Hukuk</th>\n",
       "      <td>Bulut</td>\n",
       "      <td>150</td>\n",
       "    </tr>\n",
       "    <tr>\n",
       "      <th>Pazarlama</th>\n",
       "      <td>Adem</td>\n",
       "      <td>120</td>\n",
       "    </tr>\n",
       "    <tr>\n",
       "      <th>Yazılım</th>\n",
       "      <td>Ahmet</td>\n",
       "      <td>100</td>\n",
       "    </tr>\n",
       "  </tbody>\n",
       "</table>\n",
       "</div>"
      ],
      "text/plain": [
       "           Workers Name Salary\n",
       "Department                    \n",
       "Hukuk             Bulut    150\n",
       "Pazarlama          Adem    120\n",
       "Yazılım           Ahmet    100"
      ]
     },
     "execution_count": 268,
     "metadata": {},
     "output_type": "execute_result"
    }
   ],
   "source": [
    "group.min()"
   ]
  },
  {
   "cell_type": "code",
   "execution_count": 269,
   "id": "68ed6775",
   "metadata": {
    "scrolled": true
   },
   "outputs": [
    {
     "data": {
      "text/html": [
       "<div>\n",
       "<style scoped>\n",
       "    .dataframe tbody tr th:only-of-type {\n",
       "        vertical-align: middle;\n",
       "    }\n",
       "\n",
       "    .dataframe tbody tr th {\n",
       "        vertical-align: top;\n",
       "    }\n",
       "\n",
       "    .dataframe thead tr th {\n",
       "        text-align: left;\n",
       "    }\n",
       "\n",
       "    .dataframe thead tr:last-of-type th {\n",
       "        text-align: right;\n",
       "    }\n",
       "</style>\n",
       "<table border=\"1\" class=\"dataframe\">\n",
       "  <thead>\n",
       "    <tr>\n",
       "      <th></th>\n",
       "      <th colspan=\"4\" halign=\"left\">Workers Name</th>\n",
       "      <th colspan=\"4\" halign=\"left\">Salary</th>\n",
       "    </tr>\n",
       "    <tr>\n",
       "      <th></th>\n",
       "      <th>count</th>\n",
       "      <th>unique</th>\n",
       "      <th>top</th>\n",
       "      <th>freq</th>\n",
       "      <th>count</th>\n",
       "      <th>unique</th>\n",
       "      <th>top</th>\n",
       "      <th>freq</th>\n",
       "    </tr>\n",
       "    <tr>\n",
       "      <th>Department</th>\n",
       "      <th></th>\n",
       "      <th></th>\n",
       "      <th></th>\n",
       "      <th></th>\n",
       "      <th></th>\n",
       "      <th></th>\n",
       "      <th></th>\n",
       "      <th></th>\n",
       "    </tr>\n",
       "  </thead>\n",
       "  <tbody>\n",
       "    <tr>\n",
       "      <th>Hukuk</th>\n",
       "      <td>2</td>\n",
       "      <td>2</td>\n",
       "      <td>Bulut</td>\n",
       "      <td>1</td>\n",
       "      <td>2</td>\n",
       "      <td>2</td>\n",
       "      <td>300</td>\n",
       "      <td>1</td>\n",
       "    </tr>\n",
       "    <tr>\n",
       "      <th>Pazarlama</th>\n",
       "      <td>2</td>\n",
       "      <td>2</td>\n",
       "      <td>Adem</td>\n",
       "      <td>1</td>\n",
       "      <td>2</td>\n",
       "      <td>2</td>\n",
       "      <td>120</td>\n",
       "      <td>1</td>\n",
       "    </tr>\n",
       "    <tr>\n",
       "      <th>Yazılım</th>\n",
       "      <td>2</td>\n",
       "      <td>2</td>\n",
       "      <td>Furkan</td>\n",
       "      <td>1</td>\n",
       "      <td>2</td>\n",
       "      <td>2</td>\n",
       "      <td>100</td>\n",
       "      <td>1</td>\n",
       "    </tr>\n",
       "  </tbody>\n",
       "</table>\n",
       "</div>"
      ],
      "text/plain": [
       "           Workers Name                     Salary                 \n",
       "                  count unique     top freq  count unique  top freq\n",
       "Department                                                         \n",
       "Hukuk                 2      2   Bulut    1      2      2  300    1\n",
       "Pazarlama             2      2    Adem    1      2      2  120    1\n",
       "Yazılım               2      2  Furkan    1      2      2  100    1"
      ]
     },
     "execution_count": 269,
     "metadata": {},
     "output_type": "execute_result"
    }
   ],
   "source": [
    "group.describe()"
   ]
  },
  {
   "cell_type": "markdown",
   "id": "b28c0f35",
   "metadata": {},
   "source": [
    "# Concat"
   ]
  },
  {
   "cell_type": "code",
   "execution_count": 305,
   "id": "959446d0",
   "metadata": {},
   "outputs": [],
   "source": [
    "data = {\"name\":[\"Ahmet\",\"Furkan\",\"Adem\",\"Hatice\"],\n",
    "       \"Spor\" : [\"Koşu\",\"Yüzme\",\"Koşu\",\"Basketball\"],\n",
    "       \"Kalori\":[100,200,300,400]}\n",
    "dataFrame1= pd.DataFrame(data,index=[0,1,2,3])"
   ]
  },
  {
   "cell_type": "code",
   "execution_count": 306,
   "id": "2c261780",
   "metadata": {},
   "outputs": [
    {
     "data": {
      "text/html": [
       "<div>\n",
       "<style scoped>\n",
       "    .dataframe tbody tr th:only-of-type {\n",
       "        vertical-align: middle;\n",
       "    }\n",
       "\n",
       "    .dataframe tbody tr th {\n",
       "        vertical-align: top;\n",
       "    }\n",
       "\n",
       "    .dataframe thead th {\n",
       "        text-align: right;\n",
       "    }\n",
       "</style>\n",
       "<table border=\"1\" class=\"dataframe\">\n",
       "  <thead>\n",
       "    <tr style=\"text-align: right;\">\n",
       "      <th></th>\n",
       "      <th>name</th>\n",
       "      <th>Spor</th>\n",
       "      <th>Kalori</th>\n",
       "    </tr>\n",
       "  </thead>\n",
       "  <tbody>\n",
       "    <tr>\n",
       "      <th>0</th>\n",
       "      <td>Ahmet</td>\n",
       "      <td>Koşu</td>\n",
       "      <td>100</td>\n",
       "    </tr>\n",
       "    <tr>\n",
       "      <th>1</th>\n",
       "      <td>Furkan</td>\n",
       "      <td>Yüzme</td>\n",
       "      <td>200</td>\n",
       "    </tr>\n",
       "    <tr>\n",
       "      <th>2</th>\n",
       "      <td>Adem</td>\n",
       "      <td>Koşu</td>\n",
       "      <td>300</td>\n",
       "    </tr>\n",
       "    <tr>\n",
       "      <th>3</th>\n",
       "      <td>Hatice</td>\n",
       "      <td>Basketball</td>\n",
       "      <td>400</td>\n",
       "    </tr>\n",
       "  </tbody>\n",
       "</table>\n",
       "</div>"
      ],
      "text/plain": [
       "     name        Spor  Kalori\n",
       "0   Ahmet        Koşu     100\n",
       "1  Furkan       Yüzme     200\n",
       "2    Adem        Koşu     300\n",
       "3  Hatice  Basketball     400"
      ]
     },
     "execution_count": 306,
     "metadata": {},
     "output_type": "execute_result"
    }
   ],
   "source": [
    "dataFrame1"
   ]
  },
  {
   "cell_type": "code",
   "execution_count": 307,
   "id": "185e3ee4",
   "metadata": {},
   "outputs": [],
   "source": [
    "data2 = {\"name\":[\"Caner\",\"Burak\",\"Can\",\"Okan\"],\n",
    "       \"Spor\" : [\"Koşu\",\"Yüzme\",\"Tenis\",\"Basketball\"],\n",
    "       \"Kalori\":[300,525,125,300]}\n",
    "dataFrame2= pd.DataFrame(data2,index=[4,5,6,7])"
   ]
  },
  {
   "cell_type": "code",
   "execution_count": 308,
   "id": "fc83d29b",
   "metadata": {},
   "outputs": [
    {
     "data": {
      "text/html": [
       "<div>\n",
       "<style scoped>\n",
       "    .dataframe tbody tr th:only-of-type {\n",
       "        vertical-align: middle;\n",
       "    }\n",
       "\n",
       "    .dataframe tbody tr th {\n",
       "        vertical-align: top;\n",
       "    }\n",
       "\n",
       "    .dataframe thead th {\n",
       "        text-align: right;\n",
       "    }\n",
       "</style>\n",
       "<table border=\"1\" class=\"dataframe\">\n",
       "  <thead>\n",
       "    <tr style=\"text-align: right;\">\n",
       "      <th></th>\n",
       "      <th>name</th>\n",
       "      <th>Spor</th>\n",
       "      <th>Kalori</th>\n",
       "    </tr>\n",
       "  </thead>\n",
       "  <tbody>\n",
       "    <tr>\n",
       "      <th>4</th>\n",
       "      <td>Caner</td>\n",
       "      <td>Koşu</td>\n",
       "      <td>300</td>\n",
       "    </tr>\n",
       "    <tr>\n",
       "      <th>5</th>\n",
       "      <td>Burak</td>\n",
       "      <td>Yüzme</td>\n",
       "      <td>525</td>\n",
       "    </tr>\n",
       "    <tr>\n",
       "      <th>6</th>\n",
       "      <td>Can</td>\n",
       "      <td>Tenis</td>\n",
       "      <td>125</td>\n",
       "    </tr>\n",
       "    <tr>\n",
       "      <th>7</th>\n",
       "      <td>Okan</td>\n",
       "      <td>Basketball</td>\n",
       "      <td>300</td>\n",
       "    </tr>\n",
       "  </tbody>\n",
       "</table>\n",
       "</div>"
      ],
      "text/plain": [
       "    name        Spor  Kalori\n",
       "4  Caner        Koşu     300\n",
       "5  Burak       Yüzme     525\n",
       "6    Can       Tenis     125\n",
       "7   Okan  Basketball     300"
      ]
     },
     "execution_count": 308,
     "metadata": {},
     "output_type": "execute_result"
    }
   ],
   "source": [
    "dataFrame2"
   ]
  },
  {
   "cell_type": "code",
   "execution_count": 309,
   "id": "91932417",
   "metadata": {},
   "outputs": [],
   "source": [
    "data3 = {\"name\": [\"Ethem\",\"Onur\",\"Karamurat\",\"Enes\"],\n",
    "       \"Spor\" : [\"Koşu\",\"Yüzme\",\"Koşu\",\"Basketball\"],\n",
    "       \"Kalori\":[400\n",
    "                 ,455,200,175] }\n",
    "dataFrame3=pd.DataFrame(data3,index=[8,9,10,11])"
   ]
  },
  {
   "cell_type": "code",
   "execution_count": 310,
   "id": "d4a8430d",
   "metadata": {},
   "outputs": [
    {
     "data": {
      "text/html": [
       "<div>\n",
       "<style scoped>\n",
       "    .dataframe tbody tr th:only-of-type {\n",
       "        vertical-align: middle;\n",
       "    }\n",
       "\n",
       "    .dataframe tbody tr th {\n",
       "        vertical-align: top;\n",
       "    }\n",
       "\n",
       "    .dataframe thead th {\n",
       "        text-align: right;\n",
       "    }\n",
       "</style>\n",
       "<table border=\"1\" class=\"dataframe\">\n",
       "  <thead>\n",
       "    <tr style=\"text-align: right;\">\n",
       "      <th></th>\n",
       "      <th>name</th>\n",
       "      <th>Spor</th>\n",
       "      <th>Kalori</th>\n",
       "    </tr>\n",
       "  </thead>\n",
       "  <tbody>\n",
       "    <tr>\n",
       "      <th>8</th>\n",
       "      <td>Ethem</td>\n",
       "      <td>Koşu</td>\n",
       "      <td>400</td>\n",
       "    </tr>\n",
       "    <tr>\n",
       "      <th>9</th>\n",
       "      <td>Onur</td>\n",
       "      <td>Yüzme</td>\n",
       "      <td>455</td>\n",
       "    </tr>\n",
       "    <tr>\n",
       "      <th>10</th>\n",
       "      <td>Karamurat</td>\n",
       "      <td>Koşu</td>\n",
       "      <td>200</td>\n",
       "    </tr>\n",
       "    <tr>\n",
       "      <th>11</th>\n",
       "      <td>Enes</td>\n",
       "      <td>Basketball</td>\n",
       "      <td>175</td>\n",
       "    </tr>\n",
       "  </tbody>\n",
       "</table>\n",
       "</div>"
      ],
      "text/plain": [
       "         name        Spor  Kalori\n",
       "8       Ethem        Koşu     400\n",
       "9        Onur       Yüzme     455\n",
       "10  Karamurat        Koşu     200\n",
       "11       Enes  Basketball     175"
      ]
     },
     "execution_count": 310,
     "metadata": {},
     "output_type": "execute_result"
    }
   ],
   "source": [
    "dataFrame3"
   ]
  },
  {
   "cell_type": "markdown",
   "id": "d0de9b65",
   "metadata": {},
   "source": [
    "#### concatenation"
   ]
  },
  {
   "cell_type": "code",
   "execution_count": 318,
   "id": "a0d9b3bd",
   "metadata": {},
   "outputs": [
    {
     "data": {
      "text/html": [
       "<div>\n",
       "<style scoped>\n",
       "    .dataframe tbody tr th:only-of-type {\n",
       "        vertical-align: middle;\n",
       "    }\n",
       "\n",
       "    .dataframe tbody tr th {\n",
       "        vertical-align: top;\n",
       "    }\n",
       "\n",
       "    .dataframe thead th {\n",
       "        text-align: right;\n",
       "    }\n",
       "</style>\n",
       "<table border=\"1\" class=\"dataframe\">\n",
       "  <thead>\n",
       "    <tr style=\"text-align: right;\">\n",
       "      <th></th>\n",
       "      <th>name</th>\n",
       "      <th>Spor</th>\n",
       "      <th>Kalori</th>\n",
       "    </tr>\n",
       "  </thead>\n",
       "  <tbody>\n",
       "    <tr>\n",
       "      <th>0</th>\n",
       "      <td>Ahmet</td>\n",
       "      <td>Koşu</td>\n",
       "      <td>100</td>\n",
       "    </tr>\n",
       "    <tr>\n",
       "      <th>1</th>\n",
       "      <td>Furkan</td>\n",
       "      <td>Yüzme</td>\n",
       "      <td>200</td>\n",
       "    </tr>\n",
       "    <tr>\n",
       "      <th>2</th>\n",
       "      <td>Adem</td>\n",
       "      <td>Koşu</td>\n",
       "      <td>300</td>\n",
       "    </tr>\n",
       "    <tr>\n",
       "      <th>3</th>\n",
       "      <td>Hatice</td>\n",
       "      <td>Basketball</td>\n",
       "      <td>400</td>\n",
       "    </tr>\n",
       "    <tr>\n",
       "      <th>4</th>\n",
       "      <td>Caner</td>\n",
       "      <td>Koşu</td>\n",
       "      <td>300</td>\n",
       "    </tr>\n",
       "    <tr>\n",
       "      <th>5</th>\n",
       "      <td>Burak</td>\n",
       "      <td>Yüzme</td>\n",
       "      <td>525</td>\n",
       "    </tr>\n",
       "    <tr>\n",
       "      <th>6</th>\n",
       "      <td>Can</td>\n",
       "      <td>Tenis</td>\n",
       "      <td>125</td>\n",
       "    </tr>\n",
       "    <tr>\n",
       "      <th>7</th>\n",
       "      <td>Okan</td>\n",
       "      <td>Basketball</td>\n",
       "      <td>300</td>\n",
       "    </tr>\n",
       "    <tr>\n",
       "      <th>8</th>\n",
       "      <td>Ethem</td>\n",
       "      <td>Koşu</td>\n",
       "      <td>400</td>\n",
       "    </tr>\n",
       "    <tr>\n",
       "      <th>9</th>\n",
       "      <td>Onur</td>\n",
       "      <td>Yüzme</td>\n",
       "      <td>455</td>\n",
       "    </tr>\n",
       "    <tr>\n",
       "      <th>10</th>\n",
       "      <td>Karamurat</td>\n",
       "      <td>Koşu</td>\n",
       "      <td>200</td>\n",
       "    </tr>\n",
       "    <tr>\n",
       "      <th>11</th>\n",
       "      <td>Enes</td>\n",
       "      <td>Basketball</td>\n",
       "      <td>175</td>\n",
       "    </tr>\n",
       "  </tbody>\n",
       "</table>\n",
       "</div>"
      ],
      "text/plain": [
       "         name        Spor  Kalori\n",
       "0       Ahmet        Koşu     100\n",
       "1      Furkan       Yüzme     200\n",
       "2        Adem        Koşu     300\n",
       "3      Hatice  Basketball     400\n",
       "4       Caner        Koşu     300\n",
       "5       Burak       Yüzme     525\n",
       "6         Can       Tenis     125\n",
       "7        Okan  Basketball     300\n",
       "8       Ethem        Koşu     400\n",
       "9        Onur       Yüzme     455\n",
       "10  Karamurat        Koşu     200\n",
       "11       Enes  Basketball     175"
      ]
     },
     "execution_count": 318,
     "metadata": {},
     "output_type": "execute_result"
    }
   ],
   "source": [
    "pd.concat([dataFrame1,dataFrame2,dataFrame3])"
   ]
  },
  {
   "cell_type": "code",
   "execution_count": 321,
   "id": "c44a6263",
   "metadata": {},
   "outputs": [
    {
     "data": {
      "text/html": [
       "<div>\n",
       "<style scoped>\n",
       "    .dataframe tbody tr th:only-of-type {\n",
       "        vertical-align: middle;\n",
       "    }\n",
       "\n",
       "    .dataframe tbody tr th {\n",
       "        vertical-align: top;\n",
       "    }\n",
       "\n",
       "    .dataframe thead th {\n",
       "        text-align: right;\n",
       "    }\n",
       "</style>\n",
       "<table border=\"1\" class=\"dataframe\">\n",
       "  <thead>\n",
       "    <tr style=\"text-align: right;\">\n",
       "      <th></th>\n",
       "      <th>name</th>\n",
       "      <th>Spor</th>\n",
       "      <th>Kalori</th>\n",
       "      <th>name</th>\n",
       "      <th>Spor</th>\n",
       "      <th>Kalori</th>\n",
       "      <th>name</th>\n",
       "      <th>Spor</th>\n",
       "      <th>Kalori</th>\n",
       "    </tr>\n",
       "  </thead>\n",
       "  <tbody>\n",
       "    <tr>\n",
       "      <th>0</th>\n",
       "      <td>Ahmet</td>\n",
       "      <td>Koşu</td>\n",
       "      <td>100.0</td>\n",
       "      <td>NaN</td>\n",
       "      <td>NaN</td>\n",
       "      <td>NaN</td>\n",
       "      <td>NaN</td>\n",
       "      <td>NaN</td>\n",
       "      <td>NaN</td>\n",
       "    </tr>\n",
       "    <tr>\n",
       "      <th>1</th>\n",
       "      <td>Furkan</td>\n",
       "      <td>Yüzme</td>\n",
       "      <td>200.0</td>\n",
       "      <td>NaN</td>\n",
       "      <td>NaN</td>\n",
       "      <td>NaN</td>\n",
       "      <td>NaN</td>\n",
       "      <td>NaN</td>\n",
       "      <td>NaN</td>\n",
       "    </tr>\n",
       "    <tr>\n",
       "      <th>2</th>\n",
       "      <td>Adem</td>\n",
       "      <td>Koşu</td>\n",
       "      <td>300.0</td>\n",
       "      <td>NaN</td>\n",
       "      <td>NaN</td>\n",
       "      <td>NaN</td>\n",
       "      <td>NaN</td>\n",
       "      <td>NaN</td>\n",
       "      <td>NaN</td>\n",
       "    </tr>\n",
       "    <tr>\n",
       "      <th>3</th>\n",
       "      <td>Hatice</td>\n",
       "      <td>Basketball</td>\n",
       "      <td>400.0</td>\n",
       "      <td>NaN</td>\n",
       "      <td>NaN</td>\n",
       "      <td>NaN</td>\n",
       "      <td>NaN</td>\n",
       "      <td>NaN</td>\n",
       "      <td>NaN</td>\n",
       "    </tr>\n",
       "    <tr>\n",
       "      <th>4</th>\n",
       "      <td>NaN</td>\n",
       "      <td>NaN</td>\n",
       "      <td>NaN</td>\n",
       "      <td>Caner</td>\n",
       "      <td>Koşu</td>\n",
       "      <td>300.0</td>\n",
       "      <td>NaN</td>\n",
       "      <td>NaN</td>\n",
       "      <td>NaN</td>\n",
       "    </tr>\n",
       "    <tr>\n",
       "      <th>5</th>\n",
       "      <td>NaN</td>\n",
       "      <td>NaN</td>\n",
       "      <td>NaN</td>\n",
       "      <td>Burak</td>\n",
       "      <td>Yüzme</td>\n",
       "      <td>525.0</td>\n",
       "      <td>NaN</td>\n",
       "      <td>NaN</td>\n",
       "      <td>NaN</td>\n",
       "    </tr>\n",
       "    <tr>\n",
       "      <th>6</th>\n",
       "      <td>NaN</td>\n",
       "      <td>NaN</td>\n",
       "      <td>NaN</td>\n",
       "      <td>Can</td>\n",
       "      <td>Tenis</td>\n",
       "      <td>125.0</td>\n",
       "      <td>NaN</td>\n",
       "      <td>NaN</td>\n",
       "      <td>NaN</td>\n",
       "    </tr>\n",
       "    <tr>\n",
       "      <th>7</th>\n",
       "      <td>NaN</td>\n",
       "      <td>NaN</td>\n",
       "      <td>NaN</td>\n",
       "      <td>Okan</td>\n",
       "      <td>Basketball</td>\n",
       "      <td>300.0</td>\n",
       "      <td>NaN</td>\n",
       "      <td>NaN</td>\n",
       "      <td>NaN</td>\n",
       "    </tr>\n",
       "    <tr>\n",
       "      <th>8</th>\n",
       "      <td>NaN</td>\n",
       "      <td>NaN</td>\n",
       "      <td>NaN</td>\n",
       "      <td>NaN</td>\n",
       "      <td>NaN</td>\n",
       "      <td>NaN</td>\n",
       "      <td>Ethem</td>\n",
       "      <td>Koşu</td>\n",
       "      <td>400.0</td>\n",
       "    </tr>\n",
       "    <tr>\n",
       "      <th>9</th>\n",
       "      <td>NaN</td>\n",
       "      <td>NaN</td>\n",
       "      <td>NaN</td>\n",
       "      <td>NaN</td>\n",
       "      <td>NaN</td>\n",
       "      <td>NaN</td>\n",
       "      <td>Onur</td>\n",
       "      <td>Yüzme</td>\n",
       "      <td>455.0</td>\n",
       "    </tr>\n",
       "    <tr>\n",
       "      <th>10</th>\n",
       "      <td>NaN</td>\n",
       "      <td>NaN</td>\n",
       "      <td>NaN</td>\n",
       "      <td>NaN</td>\n",
       "      <td>NaN</td>\n",
       "      <td>NaN</td>\n",
       "      <td>Karamurat</td>\n",
       "      <td>Koşu</td>\n",
       "      <td>200.0</td>\n",
       "    </tr>\n",
       "    <tr>\n",
       "      <th>11</th>\n",
       "      <td>NaN</td>\n",
       "      <td>NaN</td>\n",
       "      <td>NaN</td>\n",
       "      <td>NaN</td>\n",
       "      <td>NaN</td>\n",
       "      <td>NaN</td>\n",
       "      <td>Enes</td>\n",
       "      <td>Basketball</td>\n",
       "      <td>175.0</td>\n",
       "    </tr>\n",
       "  </tbody>\n",
       "</table>\n",
       "</div>"
      ],
      "text/plain": [
       "      name        Spor  Kalori   name        Spor  Kalori       name  \\\n",
       "0    Ahmet        Koşu   100.0    NaN         NaN     NaN        NaN   \n",
       "1   Furkan       Yüzme   200.0    NaN         NaN     NaN        NaN   \n",
       "2     Adem        Koşu   300.0    NaN         NaN     NaN        NaN   \n",
       "3   Hatice  Basketball   400.0    NaN         NaN     NaN        NaN   \n",
       "4      NaN         NaN     NaN  Caner        Koşu   300.0        NaN   \n",
       "5      NaN         NaN     NaN  Burak       Yüzme   525.0        NaN   \n",
       "6      NaN         NaN     NaN    Can       Tenis   125.0        NaN   \n",
       "7      NaN         NaN     NaN   Okan  Basketball   300.0        NaN   \n",
       "8      NaN         NaN     NaN    NaN         NaN     NaN      Ethem   \n",
       "9      NaN         NaN     NaN    NaN         NaN     NaN       Onur   \n",
       "10     NaN         NaN     NaN    NaN         NaN     NaN  Karamurat   \n",
       "11     NaN         NaN     NaN    NaN         NaN     NaN       Enes   \n",
       "\n",
       "          Spor  Kalori  \n",
       "0          NaN     NaN  \n",
       "1          NaN     NaN  \n",
       "2          NaN     NaN  \n",
       "3          NaN     NaN  \n",
       "4          NaN     NaN  \n",
       "5          NaN     NaN  \n",
       "6          NaN     NaN  \n",
       "7          NaN     NaN  \n",
       "8         Koşu   400.0  \n",
       "9        Yüzme   455.0  \n",
       "10        Koşu   200.0  \n",
       "11  Basketball   175.0  "
      ]
     },
     "execution_count": 321,
     "metadata": {},
     "output_type": "execute_result"
    }
   ],
   "source": [
    "pd.concat([dataFrame1,dataFrame2,dataFrame3],axis=1)"
   ]
  },
  {
   "cell_type": "markdown",
   "id": "669f40ca",
   "metadata": {},
   "source": [
    "# merge"
   ]
  },
  {
   "cell_type": "code",
   "execution_count": 322,
   "id": "7b944d52",
   "metadata": {},
   "outputs": [],
   "source": [
    "data= { \"Name\":[\"Furkan\",\"Ahmet\",\"Bulut\",\"Hatice\"],\n",
    "      \"Spor\":[\"Koşu\",\"Yüzme\",\"Koşu\",\"Basketball\"]}\n",
    "\n",
    "mergeDataFrame1= pd.DataFrame(data)"
   ]
  },
  {
   "cell_type": "code",
   "execution_count": 323,
   "id": "86f0a982",
   "metadata": {},
   "outputs": [
    {
     "data": {
      "text/html": [
       "<div>\n",
       "<style scoped>\n",
       "    .dataframe tbody tr th:only-of-type {\n",
       "        vertical-align: middle;\n",
       "    }\n",
       "\n",
       "    .dataframe tbody tr th {\n",
       "        vertical-align: top;\n",
       "    }\n",
       "\n",
       "    .dataframe thead th {\n",
       "        text-align: right;\n",
       "    }\n",
       "</style>\n",
       "<table border=\"1\" class=\"dataframe\">\n",
       "  <thead>\n",
       "    <tr style=\"text-align: right;\">\n",
       "      <th></th>\n",
       "      <th>Name</th>\n",
       "      <th>Spor</th>\n",
       "    </tr>\n",
       "  </thead>\n",
       "  <tbody>\n",
       "    <tr>\n",
       "      <th>0</th>\n",
       "      <td>Furkan</td>\n",
       "      <td>Koşu</td>\n",
       "    </tr>\n",
       "    <tr>\n",
       "      <th>1</th>\n",
       "      <td>Ahmet</td>\n",
       "      <td>Yüzme</td>\n",
       "    </tr>\n",
       "    <tr>\n",
       "      <th>2</th>\n",
       "      <td>Bulut</td>\n",
       "      <td>Koşu</td>\n",
       "    </tr>\n",
       "    <tr>\n",
       "      <th>3</th>\n",
       "      <td>Hatice</td>\n",
       "      <td>Basketball</td>\n",
       "    </tr>\n",
       "  </tbody>\n",
       "</table>\n",
       "</div>"
      ],
      "text/plain": [
       "     Name        Spor\n",
       "0  Furkan        Koşu\n",
       "1   Ahmet       Yüzme\n",
       "2   Bulut        Koşu\n",
       "3  Hatice  Basketball"
      ]
     },
     "execution_count": 323,
     "metadata": {},
     "output_type": "execute_result"
    }
   ],
   "source": [
    "mergeDataFrame1"
   ]
  },
  {
   "cell_type": "code",
   "execution_count": 324,
   "id": "5f6afec1",
   "metadata": {},
   "outputs": [],
   "source": [
    "data2= { \"Name\":[\"Furkan\",\"Ahmet\",\"Bulut\",\"Hatice\"],\n",
    "      \"Kalori\":[100,200,300,400]}\n",
    "\n",
    "mergeDataFrame2= pd.DataFrame(data2)"
   ]
  },
  {
   "cell_type": "code",
   "execution_count": 325,
   "id": "6ef0b3ce",
   "metadata": {},
   "outputs": [
    {
     "data": {
      "text/html": [
       "<div>\n",
       "<style scoped>\n",
       "    .dataframe tbody tr th:only-of-type {\n",
       "        vertical-align: middle;\n",
       "    }\n",
       "\n",
       "    .dataframe tbody tr th {\n",
       "        vertical-align: top;\n",
       "    }\n",
       "\n",
       "    .dataframe thead th {\n",
       "        text-align: right;\n",
       "    }\n",
       "</style>\n",
       "<table border=\"1\" class=\"dataframe\">\n",
       "  <thead>\n",
       "    <tr style=\"text-align: right;\">\n",
       "      <th></th>\n",
       "      <th>Name</th>\n",
       "      <th>Kalori</th>\n",
       "    </tr>\n",
       "  </thead>\n",
       "  <tbody>\n",
       "    <tr>\n",
       "      <th>0</th>\n",
       "      <td>Furkan</td>\n",
       "      <td>100</td>\n",
       "    </tr>\n",
       "    <tr>\n",
       "      <th>1</th>\n",
       "      <td>Ahmet</td>\n",
       "      <td>200</td>\n",
       "    </tr>\n",
       "    <tr>\n",
       "      <th>2</th>\n",
       "      <td>Bulut</td>\n",
       "      <td>300</td>\n",
       "    </tr>\n",
       "    <tr>\n",
       "      <th>3</th>\n",
       "      <td>Hatice</td>\n",
       "      <td>400</td>\n",
       "    </tr>\n",
       "  </tbody>\n",
       "</table>\n",
       "</div>"
      ],
      "text/plain": [
       "     Name  Kalori\n",
       "0  Furkan     100\n",
       "1   Ahmet     200\n",
       "2   Bulut     300\n",
       "3  Hatice     400"
      ]
     },
     "execution_count": 325,
     "metadata": {},
     "output_type": "execute_result"
    }
   ],
   "source": [
    "mergeDataFrame2"
   ]
  },
  {
   "cell_type": "code",
   "execution_count": 326,
   "id": "22ef1246",
   "metadata": {},
   "outputs": [
    {
     "data": {
      "text/html": [
       "<div>\n",
       "<style scoped>\n",
       "    .dataframe tbody tr th:only-of-type {\n",
       "        vertical-align: middle;\n",
       "    }\n",
       "\n",
       "    .dataframe tbody tr th {\n",
       "        vertical-align: top;\n",
       "    }\n",
       "\n",
       "    .dataframe thead th {\n",
       "        text-align: right;\n",
       "    }\n",
       "</style>\n",
       "<table border=\"1\" class=\"dataframe\">\n",
       "  <thead>\n",
       "    <tr style=\"text-align: right;\">\n",
       "      <th></th>\n",
       "      <th>Name</th>\n",
       "      <th>Spor</th>\n",
       "      <th>Kalori</th>\n",
       "    </tr>\n",
       "  </thead>\n",
       "  <tbody>\n",
       "    <tr>\n",
       "      <th>0</th>\n",
       "      <td>Furkan</td>\n",
       "      <td>Koşu</td>\n",
       "      <td>100</td>\n",
       "    </tr>\n",
       "    <tr>\n",
       "      <th>1</th>\n",
       "      <td>Ahmet</td>\n",
       "      <td>Yüzme</td>\n",
       "      <td>200</td>\n",
       "    </tr>\n",
       "    <tr>\n",
       "      <th>2</th>\n",
       "      <td>Bulut</td>\n",
       "      <td>Koşu</td>\n",
       "      <td>300</td>\n",
       "    </tr>\n",
       "    <tr>\n",
       "      <th>3</th>\n",
       "      <td>Hatice</td>\n",
       "      <td>Basketball</td>\n",
       "      <td>400</td>\n",
       "    </tr>\n",
       "  </tbody>\n",
       "</table>\n",
       "</div>"
      ],
      "text/plain": [
       "     Name        Spor  Kalori\n",
       "0  Furkan        Koşu     100\n",
       "1   Ahmet       Yüzme     200\n",
       "2   Bulut        Koşu     300\n",
       "3  Hatice  Basketball     400"
      ]
     },
     "execution_count": 326,
     "metadata": {},
     "output_type": "execute_result"
    }
   ],
   "source": [
    "pd.merge(mergeDataFrame1,mergeDataFrame2,on=\"Name\")"
   ]
  },
  {
   "cell_type": "markdown",
   "id": "c61b6cbd",
   "metadata": {},
   "source": [
    "# different operations (tips and trips)"
   ]
  },
  {
   "cell_type": "code",
   "execution_count": 327,
   "id": "9a2e5f34",
   "metadata": {},
   "outputs": [
    {
     "data": {
      "text/html": [
       "<div>\n",
       "<style scoped>\n",
       "    .dataframe tbody tr th:only-of-type {\n",
       "        vertical-align: middle;\n",
       "    }\n",
       "\n",
       "    .dataframe tbody tr th {\n",
       "        vertical-align: top;\n",
       "    }\n",
       "\n",
       "    .dataframe thead th {\n",
       "        text-align: right;\n",
       "    }\n",
       "</style>\n",
       "<table border=\"1\" class=\"dataframe\">\n",
       "  <thead>\n",
       "    <tr style=\"text-align: right;\">\n",
       "      <th></th>\n",
       "      <th>Name</th>\n",
       "      <th>Department</th>\n",
       "      <th>Salary</th>\n",
       "    </tr>\n",
       "  </thead>\n",
       "  <tbody>\n",
       "    <tr>\n",
       "      <th>1</th>\n",
       "      <td>Furkan</td>\n",
       "      <td>Yazılım</td>\n",
       "      <td>542</td>\n",
       "    </tr>\n",
       "    <tr>\n",
       "      <th>2</th>\n",
       "      <td>Ahmet</td>\n",
       "      <td>Satıs</td>\n",
       "      <td>882</td>\n",
       "    </tr>\n",
       "    <tr>\n",
       "      <th>3</th>\n",
       "      <td>Adem</td>\n",
       "      <td>Pazarlama</td>\n",
       "      <td>813</td>\n",
       "    </tr>\n",
       "    <tr>\n",
       "      <th>4</th>\n",
       "      <td>Bulut</td>\n",
       "      <td>Yazılım</td>\n",
       "      <td>125</td>\n",
       "    </tr>\n",
       "  </tbody>\n",
       "</table>\n",
       "</div>"
      ],
      "text/plain": [
       "     Name Department  Salary\n",
       "1  Furkan    Yazılım     542\n",
       "2   Ahmet      Satıs     882\n",
       "3    Adem  Pazarlama     813\n",
       "4   Bulut    Yazılım     125"
      ]
     },
     "execution_count": 327,
     "metadata": {},
     "output_type": "execute_result"
    }
   ],
   "source": [
    "salaryData = {\"Name\":[\"Furkan\",\"Ahmet\",\"Adem\",\"Bulut\"],\n",
    "             \"Department\":[\"Yazılım\",\"Satıs\",\"Pazarlama\",\"Yazılım\"],\n",
    "             \"Salary\": [np.random.randint(0,1000),np.random.randint(0,1000),np.random.randint(0,1000),np.random.randint(0,1000)]}\n",
    "salaryDataFrame = pd.DataFrame(salaryData,index=[1,2,3,4])\n",
    "salaryDataFrame"
   ]
  },
  {
   "cell_type": "code",
   "execution_count": 331,
   "id": "d1e64edf",
   "metadata": {},
   "outputs": [
    {
     "data": {
      "text/plain": [
       "array(['Yazılım', 'Satıs', 'Pazarlama'], dtype=object)"
      ]
     },
     "execution_count": 331,
     "metadata": {},
     "output_type": "execute_result"
    }
   ],
   "source": [
    "salaryDataFrame[\"Department\"].unique()"
   ]
  },
  {
   "cell_type": "code",
   "execution_count": 332,
   "id": "896fad1e",
   "metadata": {},
   "outputs": [
    {
     "data": {
      "text/plain": [
       "3"
      ]
     },
     "execution_count": 332,
     "metadata": {},
     "output_type": "execute_result"
    }
   ],
   "source": [
    "salaryDataFrame[\"Department\"].nunique()"
   ]
  },
  {
   "cell_type": "code",
   "execution_count": 334,
   "id": "8ffb551e",
   "metadata": {},
   "outputs": [
    {
     "data": {
      "text/plain": [
       "Yazılım      2\n",
       "Satıs        1\n",
       "Pazarlama    1\n",
       "Name: Department, dtype: int64"
      ]
     },
     "execution_count": 334,
     "metadata": {},
     "output_type": "execute_result"
    }
   ],
   "source": [
    "salaryDataFrame[\"Department\"].value_counts()"
   ]
  },
  {
   "cell_type": "code",
   "execution_count": 347,
   "id": "cbf5d121",
   "metadata": {},
   "outputs": [],
   "source": [
    "def netSalary(salary):\n",
    "    return salary*0.66"
   ]
  },
  {
   "cell_type": "code",
   "execution_count": 348,
   "id": "110f9b92",
   "metadata": {},
   "outputs": [
    {
     "data": {
      "text/plain": [
       "1    357.72\n",
       "2    582.12\n",
       "3    536.58\n",
       "4     82.50\n",
       "Name: Salary, dtype: float64"
      ]
     },
     "execution_count": 348,
     "metadata": {},
     "output_type": "execute_result"
    }
   ],
   "source": [
    "salaryDataFrame[\"Salary\"].apply(netSalary)"
   ]
  },
  {
   "cell_type": "code",
   "execution_count": 349,
   "id": "7b9e30ae",
   "metadata": {},
   "outputs": [
    {
     "data": {
      "text/html": [
       "<div>\n",
       "<style scoped>\n",
       "    .dataframe tbody tr th:only-of-type {\n",
       "        vertical-align: middle;\n",
       "    }\n",
       "\n",
       "    .dataframe tbody tr th {\n",
       "        vertical-align: top;\n",
       "    }\n",
       "\n",
       "    .dataframe thead th {\n",
       "        text-align: right;\n",
       "    }\n",
       "</style>\n",
       "<table border=\"1\" class=\"dataframe\">\n",
       "  <thead>\n",
       "    <tr style=\"text-align: right;\">\n",
       "      <th></th>\n",
       "      <th>Name</th>\n",
       "      <th>Department</th>\n",
       "      <th>Salary</th>\n",
       "    </tr>\n",
       "  </thead>\n",
       "  <tbody>\n",
       "    <tr>\n",
       "      <th>1</th>\n",
       "      <td>False</td>\n",
       "      <td>False</td>\n",
       "      <td>False</td>\n",
       "    </tr>\n",
       "    <tr>\n",
       "      <th>2</th>\n",
       "      <td>False</td>\n",
       "      <td>False</td>\n",
       "      <td>False</td>\n",
       "    </tr>\n",
       "    <tr>\n",
       "      <th>3</th>\n",
       "      <td>False</td>\n",
       "      <td>False</td>\n",
       "      <td>False</td>\n",
       "    </tr>\n",
       "    <tr>\n",
       "      <th>4</th>\n",
       "      <td>False</td>\n",
       "      <td>False</td>\n",
       "      <td>False</td>\n",
       "    </tr>\n",
       "  </tbody>\n",
       "</table>\n",
       "</div>"
      ],
      "text/plain": [
       "    Name  Department  Salary\n",
       "1  False       False   False\n",
       "2  False       False   False\n",
       "3  False       False   False\n",
       "4  False       False   False"
      ]
     },
     "execution_count": 349,
     "metadata": {},
     "output_type": "execute_result"
    }
   ],
   "source": [
    "salaryDataFrame.isnull()"
   ]
  },
  {
   "cell_type": "code",
   "execution_count": 356,
   "id": "5b0134d4",
   "metadata": {},
   "outputs": [
    {
     "data": {
      "text/html": [
       "<div>\n",
       "<style scoped>\n",
       "    .dataframe tbody tr th:only-of-type {\n",
       "        vertical-align: middle;\n",
       "    }\n",
       "\n",
       "    .dataframe tbody tr th {\n",
       "        vertical-align: top;\n",
       "    }\n",
       "\n",
       "    .dataframe thead th {\n",
       "        text-align: right;\n",
       "    }\n",
       "</style>\n",
       "<table border=\"1\" class=\"dataframe\">\n",
       "  <thead>\n",
       "    <tr style=\"text-align: right;\">\n",
       "      <th></th>\n",
       "      <th>Class</th>\n",
       "      <th>Names</th>\n",
       "      <th>Ages</th>\n",
       "    </tr>\n",
       "  </thead>\n",
       "  <tbody>\n",
       "    <tr>\n",
       "      <th>0</th>\n",
       "      <td>South Park</td>\n",
       "      <td>Cartman</td>\n",
       "      <td>40</td>\n",
       "    </tr>\n",
       "    <tr>\n",
       "      <th>1</th>\n",
       "      <td>South Park</td>\n",
       "      <td>Kenny</td>\n",
       "      <td>2</td>\n",
       "    </tr>\n",
       "    <tr>\n",
       "      <th>2</th>\n",
       "      <td>Simpson</td>\n",
       "      <td>Homer</td>\n",
       "      <td>12</td>\n",
       "    </tr>\n",
       "    <tr>\n",
       "      <th>3</th>\n",
       "      <td>Simpson</td>\n",
       "      <td>Bart</td>\n",
       "      <td>20</td>\n",
       "    </tr>\n",
       "    <tr>\n",
       "      <th>4</th>\n",
       "      <td>Simpson</td>\n",
       "      <td>Bart</td>\n",
       "      <td>24</td>\n",
       "    </tr>\n",
       "  </tbody>\n",
       "</table>\n",
       "</div>"
      ],
      "text/plain": [
       "        Class    Names  Ages\n",
       "0  South Park  Cartman    40\n",
       "1  South Park    Kenny     2\n",
       "2     Simpson    Homer    12\n",
       "3     Simpson     Bart    20\n",
       "4     Simpson     Bart    24"
      ]
     },
     "execution_count": 356,
     "metadata": {},
     "output_type": "execute_result"
    }
   ],
   "source": [
    "data = { \"Class\":[\"South Park\",\"South Park\",\"Simpson\",\"Simpson\",\"Simpson\"],\n",
    "       \"Names\":[\"Cartman\",\"Kenny\",\"Homer\",\"Bart\",\"Bart\"],\n",
    "        \"Ages\":[np.random.randint(0,50),np.random.randint(0,50),\n",
    "               np.random.randint(0,50),np.random.randint(0,50),\n",
    "               np.random.randint(0,50)]}\n",
    "chDataFrame= pd.DataFrame(data)\n",
    "chDataFrame"
   ]
  },
  {
   "cell_type": "code",
   "execution_count": 358,
   "id": "cfd6ae75",
   "metadata": {},
   "outputs": [
    {
     "data": {
      "text/html": [
       "<div>\n",
       "<style scoped>\n",
       "    .dataframe tbody tr th:only-of-type {\n",
       "        vertical-align: middle;\n",
       "    }\n",
       "\n",
       "    .dataframe tbody tr th {\n",
       "        vertical-align: top;\n",
       "    }\n",
       "\n",
       "    .dataframe thead th {\n",
       "        text-align: right;\n",
       "    }\n",
       "</style>\n",
       "<table border=\"1\" class=\"dataframe\">\n",
       "  <thead>\n",
       "    <tr style=\"text-align: right;\">\n",
       "      <th></th>\n",
       "      <th></th>\n",
       "      <th>Ages</th>\n",
       "    </tr>\n",
       "    <tr>\n",
       "      <th>Class</th>\n",
       "      <th>Names</th>\n",
       "      <th></th>\n",
       "    </tr>\n",
       "  </thead>\n",
       "  <tbody>\n",
       "    <tr>\n",
       "      <th rowspan=\"2\" valign=\"top\">Simpson</th>\n",
       "      <th>Bart</th>\n",
       "      <td>44</td>\n",
       "    </tr>\n",
       "    <tr>\n",
       "      <th>Homer</th>\n",
       "      <td>12</td>\n",
       "    </tr>\n",
       "    <tr>\n",
       "      <th rowspan=\"2\" valign=\"top\">South Park</th>\n",
       "      <th>Cartman</th>\n",
       "      <td>40</td>\n",
       "    </tr>\n",
       "    <tr>\n",
       "      <th>Kenny</th>\n",
       "      <td>2</td>\n",
       "    </tr>\n",
       "  </tbody>\n",
       "</table>\n",
       "</div>"
      ],
      "text/plain": [
       "                    Ages\n",
       "Class      Names        \n",
       "Simpson    Bart       44\n",
       "           Homer      12\n",
       "South Park Cartman    40\n",
       "           Kenny       2"
      ]
     },
     "execution_count": 358,
     "metadata": {},
     "output_type": "execute_result"
    }
   ],
   "source": [
    "chDataFrame.pivot_table(values=\"Ages\",index=[\"Class\",\"Names\"],aggfunc=np.sum)"
   ]
  },
  {
   "cell_type": "code",
   "execution_count": 359,
   "id": "52cb5d57",
   "metadata": {},
   "outputs": [
    {
     "data": {
      "text/html": [
       "<div>\n",
       "<style scoped>\n",
       "    .dataframe tbody tr th:only-of-type {\n",
       "        vertical-align: middle;\n",
       "    }\n",
       "\n",
       "    .dataframe tbody tr th {\n",
       "        vertical-align: top;\n",
       "    }\n",
       "\n",
       "    .dataframe thead th {\n",
       "        text-align: right;\n",
       "    }\n",
       "</style>\n",
       "<table border=\"1\" class=\"dataframe\">\n",
       "  <thead>\n",
       "    <tr style=\"text-align: right;\">\n",
       "      <th></th>\n",
       "      <th></th>\n",
       "      <th>Ages</th>\n",
       "    </tr>\n",
       "    <tr>\n",
       "      <th>Class</th>\n",
       "      <th>Names</th>\n",
       "      <th></th>\n",
       "    </tr>\n",
       "  </thead>\n",
       "  <tbody>\n",
       "    <tr>\n",
       "      <th rowspan=\"2\" valign=\"top\">Simpson</th>\n",
       "      <th>Bart</th>\n",
       "      <td>22</td>\n",
       "    </tr>\n",
       "    <tr>\n",
       "      <th>Homer</th>\n",
       "      <td>12</td>\n",
       "    </tr>\n",
       "    <tr>\n",
       "      <th rowspan=\"2\" valign=\"top\">South Park</th>\n",
       "      <th>Cartman</th>\n",
       "      <td>40</td>\n",
       "    </tr>\n",
       "    <tr>\n",
       "      <th>Kenny</th>\n",
       "      <td>2</td>\n",
       "    </tr>\n",
       "  </tbody>\n",
       "</table>\n",
       "</div>"
      ],
      "text/plain": [
       "                    Ages\n",
       "Class      Names        \n",
       "Simpson    Bart       22\n",
       "           Homer      12\n",
       "South Park Cartman    40\n",
       "           Kenny       2"
      ]
     },
     "execution_count": 359,
     "metadata": {},
     "output_type": "execute_result"
    }
   ],
   "source": [
    "chDataFrame.pivot_table(values=\"Ages\",index=[\"Class\",\"Names\"])"
   ]
  },
  {
   "cell_type": "markdown",
   "id": "394a461a",
   "metadata": {},
   "source": [
    "# Working with Excell"
   ]
  },
  {
   "cell_type": "code",
   "execution_count": 413,
   "id": "9bce2fde",
   "metadata": {},
   "outputs": [],
   "source": [
    "dataFrame = pd.read_csv(\"testData.xlsx\")"
   ]
  },
  {
   "cell_type": "code",
   "execution_count": 399,
   "id": "01a9a374",
   "metadata": {},
   "outputs": [
    {
     "data": {
      "text/html": [
       "<div>\n",
       "<style scoped>\n",
       "    .dataframe tbody tr th:only-of-type {\n",
       "        vertical-align: middle;\n",
       "    }\n",
       "\n",
       "    .dataframe tbody tr th {\n",
       "        vertical-align: top;\n",
       "    }\n",
       "\n",
       "    .dataframe thead th {\n",
       "        text-align: right;\n",
       "    }\n",
       "</style>\n",
       "<table border=\"1\" class=\"dataframe\">\n",
       "  <thead>\n",
       "    <tr style=\"text-align: right;\">\n",
       "      <th></th>\n",
       "      <th>&lt;table style=\"border-collapse: collapse; width: 100%;\"&gt;&lt;tr style=\"background-color: #f2f2f2; font-weight: bold;\"&gt;&lt;th style=\"padding: 8px; border: 1px solid #ddd; background-color: #e9e9e9; white-space: nowrap;\"&gt;&amp;#214;&amp;#287;renci No&lt;/th&gt;&lt;th style=\"padding: 8px; border: 1px solid #ddd; background-color: #e9e9e9; white-space: nowrap;\"&gt;T.C. Kimlik No&lt;/th&gt;&lt;th style=\"padding: 8px; border: 1px solid #ddd; background-color: #e9e9e9; white-space: nowrap;\"&gt;Ad&lt;/th&gt;&lt;th style=\"padding: 8px; border: 1px solid #ddd; background-color: #e9e9e9; white-space: nowrap;\"&gt;Soyad&lt;/th&gt;&lt;th style=\"padding: 8px; border: 1px solid #ddd; background-color: #e9e9e9; white-space: nowrap;\"&gt;B&amp;#246;l&amp;#252;m&lt;/th&gt;&lt;th style=\"padding: 8px; border: 1px solid #ddd; background-color: #e9e9e9; white-space: nowrap;\"&gt;E&amp;#287;itim T&amp;#252;r&amp;#252;&lt;/th&gt;&lt;th style=\"padding: 8px; border: 1px solid #ddd; background-color: #e9e9e9; white-space: nowrap;\"&gt;Program&lt;/th&gt;&lt;th style=\"padding: 8px; border: 1px solid #ddd; background-color: #e9e9e9; white-space: nowrap;\"&gt;Akademik Y&amp;#305;l&lt;/th&gt;&lt;th style=\"padding: 8px; border: 1px solid #ddd; background-color: #e9e9e9; white-space: nowrap;\"&gt;D&amp;#246;nem&lt;/th&gt;&lt;th style=\"padding: 8px; border: 1px solid #ddd; background-color: #e9e9e9; white-space: nowrap;\"&gt;&amp;#304;&amp;#351;letme Vergi No/T.C. Kimlik No&lt;/th&gt;&lt;th style=\"padding: 8px; border: 1px solid #ddd; background-color: #e9e9e9; white-space: nowrap;\"&gt;&amp;#304;&amp;#351;letme Unvan&amp;#305;&lt;/th&gt;&lt;th style=\"padding: 8px; border: 1px solid #ddd; background-color: #e9e9e9; white-space: nowrap;\"&gt;&amp;#304;&amp;#351;letme &amp;#199;al&amp;#305;&amp;#351;an Say&amp;#305;s&amp;#305;&lt;/th&gt;&lt;th style=\"padding: 8px; border: 1px solid #ddd; background-color: #e9e9e9; white-space: nowrap;\"&gt;&amp;#304;&amp;#351;letme Adresi&lt;/th&gt;&lt;th style=\"padding: 8px; border: 1px solid #ddd; background-color: #e9e9e9; white-space: nowrap;\"&gt;&amp;#304;&amp;#351;letme IBAN No&lt;/th&gt;&lt;th style=\"padding: 8px; border: 1px solid #ddd; background-color: #e9e9e9; white-space: nowrap;\"&gt;Ay&lt;/th&gt;&lt;th style=\"padding: 8px; border: 1px solid #ddd; background-color: #e9e9e9; white-space: nowrap;\"&gt;Puantaj&lt;/th&gt;&lt;th style=\"padding: 8px; border: 1px solid #ddd; background-color: #e9e9e9; white-space: nowrap;\"&gt;&amp;#214;denen &amp;#220;cret&lt;/th&gt;&lt;th style=\"padding: 8px; border: 1px solid #ddd; background-color: #e9e9e9; white-space: nowrap;\"&gt;Dekont Zaman&amp;#305;nda Geldi&lt;/th&gt;&lt;th style=\"padding: 8px; border: 1px solid #ddd; background-color: #e9e9e9; white-space: nowrap;\"&gt;Sisteme Girilme Tarihi&lt;/th&gt;&lt;/tr&gt;&lt;tr&gt;&lt;td style=\"padding: 8px; border: 1px solid #ddd; white-space: nowrap;\"&gt;No matching records found&lt;/td&gt;&lt;/tr&gt;&lt;/table&gt;</th>\n",
       "    </tr>\n",
       "  </thead>\n",
       "  <tbody>\n",
       "  </tbody>\n",
       "</table>\n",
       "</div>"
      ],
      "text/plain": [
       "Empty DataFrame\n",
       "Columns: [<table style=\"border-collapse: collapse; width: 100%;\"><tr style=\"background-color: #f2f2f2; font-weight: bold;\"><th style=\"padding: 8px; border: 1px solid #ddd; background-color: #e9e9e9; white-space: nowrap;\">&#214;&#287;renci No</th><th style=\"padding: 8px; border: 1px solid #ddd; background-color: #e9e9e9; white-space: nowrap;\">T.C. Kimlik No</th><th style=\"padding: 8px; border: 1px solid #ddd; background-color: #e9e9e9; white-space: nowrap;\">Ad</th><th style=\"padding: 8px; border: 1px solid #ddd; background-color: #e9e9e9; white-space: nowrap;\">Soyad</th><th style=\"padding: 8px; border: 1px solid #ddd; background-color: #e9e9e9; white-space: nowrap;\">B&#246;l&#252;m</th><th style=\"padding: 8px; border: 1px solid #ddd; background-color: #e9e9e9; white-space: nowrap;\">E&#287;itim T&#252;r&#252;</th><th style=\"padding: 8px; border: 1px solid #ddd; background-color: #e9e9e9; white-space: nowrap;\">Program</th><th style=\"padding: 8px; border: 1px solid #ddd; background-color: #e9e9e9; white-space: nowrap;\">Akademik Y&#305;l</th><th style=\"padding: 8px; border: 1px solid #ddd; background-color: #e9e9e9; white-space: nowrap;\">D&#246;nem</th><th style=\"padding: 8px; border: 1px solid #ddd; background-color: #e9e9e9; white-space: nowrap;\">&#304;&#351;letme Vergi No/T.C. Kimlik No</th><th style=\"padding: 8px; border: 1px solid #ddd; background-color: #e9e9e9; white-space: nowrap;\">&#304;&#351;letme Unvan&#305;</th><th style=\"padding: 8px; border: 1px solid #ddd; background-color: #e9e9e9; white-space: nowrap;\">&#304;&#351;letme &#199;al&#305;&#351;an Say&#305;s&#305;</th><th style=\"padding: 8px; border: 1px solid #ddd; background-color: #e9e9e9; white-space: nowrap;\">&#304;&#351;letme Adresi</th><th style=\"padding: 8px; border: 1px solid #ddd; background-color: #e9e9e9; white-space: nowrap;\">&#304;&#351;letme IBAN No</th><th style=\"padding: 8px; border: 1px solid #ddd; background-color: #e9e9e9; white-space: nowrap;\">Ay</th><th style=\"padding: 8px; border: 1px solid #ddd; background-color: #e9e9e9; white-space: nowrap;\">Puantaj</th><th style=\"padding: 8px; border: 1px solid #ddd; background-color: #e9e9e9; white-space: nowrap;\">&#214;denen &#220;cret</th><th style=\"padding: 8px; border: 1px solid #ddd; background-color: #e9e9e9; white-space: nowrap;\">Dekont Zaman&#305;nda Geldi</th><th style=\"padding: 8px; border: 1px solid #ddd; background-color: #e9e9e9; white-space: nowrap;\">Sisteme Girilme Tarihi</th></tr><tr><td style=\"padding: 8px; border: 1px solid #ddd; white-space: nowrap;\">No matching records found</td></tr></table>]\n",
       "Index: []"
      ]
     },
     "execution_count": 399,
     "metadata": {},
     "output_type": "execute_result"
    }
   ],
   "source": [
    "dataFrame"
   ]
  },
  {
   "cell_type": "code",
   "execution_count": 420,
   "id": "c05ecbea",
   "metadata": {},
   "outputs": [
    {
     "data": {
      "text/html": [
       "<div>\n",
       "<style scoped>\n",
       "    .dataframe tbody tr th:only-of-type {\n",
       "        vertical-align: middle;\n",
       "    }\n",
       "\n",
       "    .dataframe tbody tr th {\n",
       "        vertical-align: top;\n",
       "    }\n",
       "\n",
       "    .dataframe thead th {\n",
       "        text-align: right;\n",
       "    }\n",
       "</style>\n",
       "<table border=\"1\" class=\"dataframe\">\n",
       "  <thead>\n",
       "    <tr style=\"text-align: right;\">\n",
       "      <th></th>\n",
       "      <th>&lt;table style=\"border-collapse: collapse; width: 100%;\"&gt;&lt;tr style=\"background-color: #f2f2f2; font-weight: bold;\"&gt;&lt;th style=\"padding: 8px; border: 1px solid #ddd; background-color: #e9e9e9; white-space: nowrap;\"&gt;&amp;#214;&amp;#287;renci No&lt;/th&gt;&lt;th style=\"padding: 8px; border: 1px solid #ddd; background-color: #e9e9e9; white-space: nowrap;\"&gt;T.C. Kimlik No&lt;/th&gt;&lt;th style=\"padding: 8px; border: 1px solid #ddd; background-color: #e9e9e9; white-space: nowrap;\"&gt;Ad&lt;/th&gt;&lt;th style=\"padding: 8px; border: 1px solid #ddd; background-color: #e9e9e9; white-space: nowrap;\"&gt;Soyad&lt;/th&gt;&lt;th style=\"padding: 8px; border: 1px solid #ddd; background-color: #e9e9e9; white-space: nowrap;\"&gt;B&amp;#246;l&amp;#252;m&lt;/th&gt;&lt;th style=\"padding: 8px; border: 1px solid #ddd; background-color: #e9e9e9; white-space: nowrap;\"&gt;E&amp;#287;itim T&amp;#252;r&amp;#252;&lt;/th&gt;&lt;th style=\"padding: 8px; border: 1px solid #ddd; background-color: #e9e9e9; white-space: nowrap;\"&gt;Program&lt;/th&gt;&lt;th style=\"padding: 8px; border: 1px solid #ddd; background-color: #e9e9e9; white-space: nowrap;\"&gt;Akademik Y&amp;#305;l&lt;/th&gt;&lt;th style=\"padding: 8px; border: 1px solid #ddd; background-color: #e9e9e9; white-space: nowrap;\"&gt;D&amp;#246;nem&lt;/th&gt;&lt;th style=\"padding: 8px; border: 1px solid #ddd; background-color: #e9e9e9; white-space: nowrap;\"&gt;&amp;#304;&amp;#351;letme Vergi No/T.C. Kimlik No&lt;/th&gt;&lt;th style=\"padding: 8px; border: 1px solid #ddd; background-color: #e9e9e9; white-space: nowrap;\"&gt;&amp;#304;&amp;#351;letme Unvan&amp;#305;&lt;/th&gt;&lt;th style=\"padding: 8px; border: 1px solid #ddd; background-color: #e9e9e9; white-space: nowrap;\"&gt;&amp;#304;&amp;#351;letme &amp;#199;al&amp;#305;&amp;#351;an Say&amp;#305;s&amp;#305;&lt;/th&gt;&lt;th style=\"padding: 8px; border: 1px solid #ddd; background-color: #e9e9e9; white-space: nowrap;\"&gt;&amp;#304;&amp;#351;letme Adresi&lt;/th&gt;&lt;th style=\"padding: 8px; border: 1px solid #ddd; background-color: #e9e9e9; white-space: nowrap;\"&gt;&amp;#304;&amp;#351;letme IBAN No&lt;/th&gt;&lt;th style=\"padding: 8px; border: 1px solid #ddd; background-color: #e9e9e9; white-space: nowrap;\"&gt;Ay&lt;/th&gt;&lt;th style=\"padding: 8px; border: 1px solid #ddd; background-color: #e9e9e9; white-space: nowrap;\"&gt;Puantaj&lt;/th&gt;&lt;th style=\"padding: 8px; border: 1px solid #ddd; background-color: #e9e9e9; white-space: nowrap;\"&gt;&amp;#214;denen &amp;#220;cret&lt;/th&gt;&lt;th style=\"padding: 8px; border: 1px solid #ddd; background-color: #e9e9e9; white-space: nowrap;\"&gt;Dekont Zaman&amp;#305;nda Geldi&lt;/th&gt;&lt;th style=\"padding: 8px; border: 1px solid #ddd; background-color: #e9e9e9; white-space: nowrap;\"&gt;Sisteme Girilme Tarihi&lt;/th&gt;&lt;/tr&gt;&lt;tr&gt;&lt;td style=\"padding: 8px; border: 1px solid #ddd; white-space: nowrap;\"&gt;No matching records found&lt;/td&gt;&lt;/tr&gt;&lt;/table&gt;</th>\n",
       "    </tr>\n",
       "  </thead>\n",
       "  <tbody>\n",
       "  </tbody>\n",
       "</table>\n",
       "</div>"
      ],
      "text/plain": [
       "Empty DataFrame\n",
       "Columns: [<table style=\"border-collapse: collapse; width: 100%;\"><tr style=\"background-color: #f2f2f2; font-weight: bold;\"><th style=\"padding: 8px; border: 1px solid #ddd; background-color: #e9e9e9; white-space: nowrap;\">&#214;&#287;renci No</th><th style=\"padding: 8px; border: 1px solid #ddd; background-color: #e9e9e9; white-space: nowrap;\">T.C. Kimlik No</th><th style=\"padding: 8px; border: 1px solid #ddd; background-color: #e9e9e9; white-space: nowrap;\">Ad</th><th style=\"padding: 8px; border: 1px solid #ddd; background-color: #e9e9e9; white-space: nowrap;\">Soyad</th><th style=\"padding: 8px; border: 1px solid #ddd; background-color: #e9e9e9; white-space: nowrap;\">B&#246;l&#252;m</th><th style=\"padding: 8px; border: 1px solid #ddd; background-color: #e9e9e9; white-space: nowrap;\">E&#287;itim T&#252;r&#252;</th><th style=\"padding: 8px; border: 1px solid #ddd; background-color: #e9e9e9; white-space: nowrap;\">Program</th><th style=\"padding: 8px; border: 1px solid #ddd; background-color: #e9e9e9; white-space: nowrap;\">Akademik Y&#305;l</th><th style=\"padding: 8px; border: 1px solid #ddd; background-color: #e9e9e9; white-space: nowrap;\">D&#246;nem</th><th style=\"padding: 8px; border: 1px solid #ddd; background-color: #e9e9e9; white-space: nowrap;\">&#304;&#351;letme Vergi No/T.C. Kimlik No</th><th style=\"padding: 8px; border: 1px solid #ddd; background-color: #e9e9e9; white-space: nowrap;\">&#304;&#351;letme Unvan&#305;</th><th style=\"padding: 8px; border: 1px solid #ddd; background-color: #e9e9e9; white-space: nowrap;\">&#304;&#351;letme &#199;al&#305;&#351;an Say&#305;s&#305;</th><th style=\"padding: 8px; border: 1px solid #ddd; background-color: #e9e9e9; white-space: nowrap;\">&#304;&#351;letme Adresi</th><th style=\"padding: 8px; border: 1px solid #ddd; background-color: #e9e9e9; white-space: nowrap;\">&#304;&#351;letme IBAN No</th><th style=\"padding: 8px; border: 1px solid #ddd; background-color: #e9e9e9; white-space: nowrap;\">Ay</th><th style=\"padding: 8px; border: 1px solid #ddd; background-color: #e9e9e9; white-space: nowrap;\">Puantaj</th><th style=\"padding: 8px; border: 1px solid #ddd; background-color: #e9e9e9; white-space: nowrap;\">&#214;denen &#220;cret</th><th style=\"padding: 8px; border: 1px solid #ddd; background-color: #e9e9e9; white-space: nowrap;\">Dekont Zaman&#305;nda Geldi</th><th style=\"padding: 8px; border: 1px solid #ddd; background-color: #e9e9e9; white-space: nowrap;\">Sisteme Girilme Tarihi</th></tr><tr><td style=\"padding: 8px; border: 1px solid #ddd; white-space: nowrap;\">No matching records found</td></tr></table>]\n",
       "Index: []"
      ]
     },
     "execution_count": 420,
     "metadata": {},
     "output_type": "execute_result"
    }
   ],
   "source": [
    "dataFrame.fillna(0)\n",
    "dataFrame"
   ]
  },
  {
   "cell_type": "code",
   "execution_count": 421,
   "id": "0ec2b13d",
   "metadata": {},
   "outputs": [],
   "source": [
    "dataFrame.to_csv(\"newData.xlsx\")"
   ]
  }
 ],
 "metadata": {
  "kernelspec": {
   "display_name": "Python 3 (ipykernel)",
   "language": "python",
   "name": "python3"
  },
  "language_info": {
   "codemirror_mode": {
    "name": "ipython",
    "version": 3
   },
   "file_extension": ".py",
   "mimetype": "text/x-python",
   "name": "python",
   "nbconvert_exporter": "python",
   "pygments_lexer": "ipython3",
   "version": "3.10.9"
  }
 },
 "nbformat": 4,
 "nbformat_minor": 5
}
