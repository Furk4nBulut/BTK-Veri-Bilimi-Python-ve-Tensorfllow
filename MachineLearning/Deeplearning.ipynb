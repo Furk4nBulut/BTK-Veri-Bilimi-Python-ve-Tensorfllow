{
 "cells": [
  {
   "cell_type": "markdown",
   "source": [
    "# Deep Learning"
   ],
   "metadata": {
    "collapsed": false
   }
  },
  {
   "cell_type": "markdown",
   "source": [],
   "metadata": {
    "collapsed": false
   }
  },
  {
   "cell_type": "code",
   "execution_count": 3,
   "outputs": [],
   "source": [
    "import numpy as np\n",
    "import pandas as pd\n",
    "import matplotlib.pyplot as plt"
   ],
   "metadata": {
    "collapsed": false
   }
  },
  {
   "cell_type": "code",
   "execution_count": 4,
   "outputs": [
    {
     "data": {
      "text/plain": "   RowNumber  CustomerId   Surname  CreditScore Geography  Gender  Age  \\\n0          1    15634602  Hargrave          619    France  Female   42   \n1          2    15647311      Hill          608     Spain  Female   41   \n2          3    15619304      Onio          502    France  Female   42   \n3          4    15701354      Boni          699    France  Female   39   \n4          5    15737888  Mitchell          850     Spain  Female   43   \n\n   Tenure    Balance  NumOfProducts  HasCrCard  IsActiveMember  \\\n0       2       0.00              1          1               1   \n1       1   83807.86              1          0               1   \n2       8  159660.80              3          1               0   \n3       1       0.00              2          0               0   \n4       2  125510.82              1          1               1   \n\n   EstimatedSalary  Exited  \n0        101348.88       1  \n1        112542.58       0  \n2        113931.57       1  \n3         93826.63       0  \n4         79084.10       0  ",
      "text/html": "<div>\n<style scoped>\n    .dataframe tbody tr th:only-of-type {\n        vertical-align: middle;\n    }\n\n    .dataframe tbody tr th {\n        vertical-align: top;\n    }\n\n    .dataframe thead th {\n        text-align: right;\n    }\n</style>\n<table border=\"1\" class=\"dataframe\">\n  <thead>\n    <tr style=\"text-align: right;\">\n      <th></th>\n      <th>RowNumber</th>\n      <th>CustomerId</th>\n      <th>Surname</th>\n      <th>CreditScore</th>\n      <th>Geography</th>\n      <th>Gender</th>\n      <th>Age</th>\n      <th>Tenure</th>\n      <th>Balance</th>\n      <th>NumOfProducts</th>\n      <th>HasCrCard</th>\n      <th>IsActiveMember</th>\n      <th>EstimatedSalary</th>\n      <th>Exited</th>\n    </tr>\n  </thead>\n  <tbody>\n    <tr>\n      <th>0</th>\n      <td>1</td>\n      <td>15634602</td>\n      <td>Hargrave</td>\n      <td>619</td>\n      <td>France</td>\n      <td>Female</td>\n      <td>42</td>\n      <td>2</td>\n      <td>0.00</td>\n      <td>1</td>\n      <td>1</td>\n      <td>1</td>\n      <td>101348.88</td>\n      <td>1</td>\n    </tr>\n    <tr>\n      <th>1</th>\n      <td>2</td>\n      <td>15647311</td>\n      <td>Hill</td>\n      <td>608</td>\n      <td>Spain</td>\n      <td>Female</td>\n      <td>41</td>\n      <td>1</td>\n      <td>83807.86</td>\n      <td>1</td>\n      <td>0</td>\n      <td>1</td>\n      <td>112542.58</td>\n      <td>0</td>\n    </tr>\n    <tr>\n      <th>2</th>\n      <td>3</td>\n      <td>15619304</td>\n      <td>Onio</td>\n      <td>502</td>\n      <td>France</td>\n      <td>Female</td>\n      <td>42</td>\n      <td>8</td>\n      <td>159660.80</td>\n      <td>3</td>\n      <td>1</td>\n      <td>0</td>\n      <td>113931.57</td>\n      <td>1</td>\n    </tr>\n    <tr>\n      <th>3</th>\n      <td>4</td>\n      <td>15701354</td>\n      <td>Boni</td>\n      <td>699</td>\n      <td>France</td>\n      <td>Female</td>\n      <td>39</td>\n      <td>1</td>\n      <td>0.00</td>\n      <td>2</td>\n      <td>0</td>\n      <td>0</td>\n      <td>93826.63</td>\n      <td>0</td>\n    </tr>\n    <tr>\n      <th>4</th>\n      <td>5</td>\n      <td>15737888</td>\n      <td>Mitchell</td>\n      <td>850</td>\n      <td>Spain</td>\n      <td>Female</td>\n      <td>43</td>\n      <td>2</td>\n      <td>125510.82</td>\n      <td>1</td>\n      <td>1</td>\n      <td>1</td>\n      <td>79084.10</td>\n      <td>0</td>\n    </tr>\n  </tbody>\n</table>\n</div>"
     },
     "execution_count": 4,
     "metadata": {},
     "output_type": "execute_result"
    }
   ],
   "source": [
    "data = pd.read_csv('Churn_Modelling.csv')\n",
    "data.head()"
   ],
   "metadata": {
    "collapsed": false,
    "ExecuteTime": {
     "end_time": "2023-07-19T20:15:51.175340400Z",
     "start_time": "2023-07-19T20:15:51.077355200Z"
    }
   }
  },
  {
   "cell_type": "code",
   "execution_count": 5,
   "outputs": [],
   "source": [
    "x = data.iloc[:,3:13].values\n",
    "y = data.iloc[:,13].values"
   ],
   "metadata": {
    "collapsed": false,
    "ExecuteTime": {
     "end_time": "2023-07-19T20:15:51.240085400Z",
     "start_time": "2023-07-19T20:15:51.176339300Z"
    }
   }
  },
  {
   "cell_type": "code",
   "execution_count": 6,
   "outputs": [],
   "source": [
    "#encoder categoric --> numeric\n",
    "from sklearn import  preprocessing\n",
    "le = preprocessing.LabelEncoder()\n",
    "x[:,1] = le.fit_transform(x[:,1])\n",
    "\n",
    "le2 = preprocessing.LabelEncoder() #bu zorunlu değil sadece anlaşılır olsun diye\n",
    "x[:,2]= le2.fit_transform(x[:,2])\n",
    "\n",
    "from sklearn.preprocessing import OneHotEncoder\n",
    "from sklearn.compose import ColumnTransformer\n",
    "\n",
    "ohe =  ColumnTransformer([('ohe',OneHotEncoder(dtype=float),[1])],\n",
    "                         remainder='passthrough')\n",
    "x = ohe.fit_transform(x)\n",
    "x = x[:,1:]"
   ],
   "metadata": {
    "collapsed": false,
    "ExecuteTime": {
     "end_time": "2023-07-19T20:15:52.733856100Z",
     "start_time": "2023-07-19T20:15:51.242085100Z"
    }
   }
  },
  {
   "cell_type": "code",
   "execution_count": 7,
   "outputs": [],
   "source": [
    "#verilerin  eğitimi ve test için bölünmesi\n",
    "\n",
    "from sklearn.model_selection import train_test_split\n",
    "x_train,x_test,y_train,y_test = train_test_split(x,y,test_size=0.33,random_state=0)\n",
    "\n",
    "#verilen ölçeklenmesi\n",
    "from sklearn.preprocessing import  StandardScaler\n",
    "sc = StandardScaler()\n",
    "\n",
    "x_train = sc.fit_transform(x_train)\n",
    "x_test = sc.fit_transform(x_test)"
   ],
   "metadata": {
    "collapsed": false,
    "ExecuteTime": {
     "end_time": "2023-07-19T20:15:52.838131800Z",
     "start_time": "2023-07-19T20:15:52.730798200Z"
    }
   }
  },
  {
   "cell_type": "code",
   "execution_count": 11,
   "outputs": [
    {
     "name": "stdout",
     "output_type": "stream",
     "text": [
      "Epoch 1/50\n",
      "210/210 [==============================] - 1s 1ms/step - loss: 0.6163 - accuracy: 0.7964\n",
      "Epoch 2/50\n",
      "210/210 [==============================] - 0s 1ms/step - loss: 0.4487 - accuracy: 0.7979\n",
      "Epoch 3/50\n",
      "210/210 [==============================] - 0s 1ms/step - loss: 0.4327 - accuracy: 0.7979\n",
      "Epoch 4/50\n",
      "210/210 [==============================] - 0s 995us/step - loss: 0.4291 - accuracy: 0.7979\n",
      "Epoch 5/50\n",
      "210/210 [==============================] - 0s 1ms/step - loss: 0.4267 - accuracy: 0.7979\n",
      "Epoch 6/50\n",
      "210/210 [==============================] - 0s 1ms/step - loss: 0.4246 - accuracy: 0.7979\n",
      "Epoch 7/50\n",
      "210/210 [==============================] - 0s 1ms/step - loss: 0.4228 - accuracy: 0.7979\n",
      "Epoch 8/50\n",
      "210/210 [==============================] - 0s 985us/step - loss: 0.4207 - accuracy: 0.8066\n",
      "Epoch 9/50\n",
      "210/210 [==============================] - 0s 1ms/step - loss: 0.4180 - accuracy: 0.8197\n",
      "Epoch 10/50\n",
      "210/210 [==============================] - 0s 1ms/step - loss: 0.4150 - accuracy: 0.8251\n",
      "Epoch 11/50\n",
      "210/210 [==============================] - 0s 1ms/step - loss: 0.4125 - accuracy: 0.8275\n",
      "Epoch 12/50\n",
      "210/210 [==============================] - 0s 1ms/step - loss: 0.4106 - accuracy: 0.8294\n",
      "Epoch 13/50\n",
      "210/210 [==============================] - 0s 1ms/step - loss: 0.4085 - accuracy: 0.8315\n",
      "Epoch 14/50\n",
      "210/210 [==============================] - 0s 1ms/step - loss: 0.4072 - accuracy: 0.8315\n",
      "Epoch 15/50\n",
      "210/210 [==============================] - 0s 1ms/step - loss: 0.4062 - accuracy: 0.8327\n",
      "Epoch 16/50\n",
      "210/210 [==============================] - 0s 1ms/step - loss: 0.4051 - accuracy: 0.8330\n",
      "Epoch 17/50\n",
      "210/210 [==============================] - 0s 1ms/step - loss: 0.4041 - accuracy: 0.8354\n",
      "Epoch 18/50\n",
      "210/210 [==============================] - 0s 1ms/step - loss: 0.4030 - accuracy: 0.8342\n",
      "Epoch 19/50\n",
      "210/210 [==============================] - 0s 1ms/step - loss: 0.4025 - accuracy: 0.8346\n",
      "Epoch 20/50\n",
      "210/210 [==============================] - 0s 1ms/step - loss: 0.4018 - accuracy: 0.8349\n",
      "Epoch 21/50\n",
      "210/210 [==============================] - 0s 1ms/step - loss: 0.4012 - accuracy: 0.8342\n",
      "Epoch 22/50\n",
      "210/210 [==============================] - 0s 1ms/step - loss: 0.4006 - accuracy: 0.8355\n",
      "Epoch 23/50\n",
      "210/210 [==============================] - 0s 1ms/step - loss: 0.4001 - accuracy: 0.8363\n",
      "Epoch 24/50\n",
      "210/210 [==============================] - 0s 1ms/step - loss: 0.3995 - accuracy: 0.8369\n",
      "Epoch 25/50\n",
      "210/210 [==============================] - 0s 1ms/step - loss: 0.3990 - accuracy: 0.8364\n",
      "Epoch 26/50\n",
      "210/210 [==============================] - 0s 1ms/step - loss: 0.3985 - accuracy: 0.8354\n",
      "Epoch 27/50\n",
      "210/210 [==============================] - 0s 1ms/step - loss: 0.3980 - accuracy: 0.8361\n",
      "Epoch 28/50\n",
      "210/210 [==============================] - 0s 1ms/step - loss: 0.3977 - accuracy: 0.8355\n",
      "Epoch 29/50\n",
      "210/210 [==============================] - 0s 1ms/step - loss: 0.3971 - accuracy: 0.8355\n",
      "Epoch 30/50\n",
      "210/210 [==============================] - 0s 1ms/step - loss: 0.3967 - accuracy: 0.8346\n",
      "Epoch 31/50\n",
      "210/210 [==============================] - 0s 1ms/step - loss: 0.3962 - accuracy: 0.8375\n",
      "Epoch 32/50\n",
      "210/210 [==============================] - 0s 1ms/step - loss: 0.3959 - accuracy: 0.8361\n",
      "Epoch 33/50\n",
      "210/210 [==============================] - 0s 1ms/step - loss: 0.3957 - accuracy: 0.8349\n",
      "Epoch 34/50\n",
      "210/210 [==============================] - 0s 1ms/step - loss: 0.3957 - accuracy: 0.8354\n",
      "Epoch 35/50\n",
      "210/210 [==============================] - 0s 1ms/step - loss: 0.3949 - accuracy: 0.8364\n",
      "Epoch 36/50\n",
      "210/210 [==============================] - 0s 2ms/step - loss: 0.3950 - accuracy: 0.8364\n",
      "Epoch 37/50\n",
      "210/210 [==============================] - 0s 1ms/step - loss: 0.3944 - accuracy: 0.8366\n",
      "Epoch 38/50\n",
      "210/210 [==============================] - 0s 1ms/step - loss: 0.3948 - accuracy: 0.8354\n",
      "Epoch 39/50\n",
      "210/210 [==============================] - 0s 1ms/step - loss: 0.3940 - accuracy: 0.8370\n",
      "Epoch 40/50\n",
      "210/210 [==============================] - 0s 1ms/step - loss: 0.3941 - accuracy: 0.8364\n",
      "Epoch 41/50\n",
      "210/210 [==============================] - 0s 1ms/step - loss: 0.3937 - accuracy: 0.8364\n",
      "Epoch 42/50\n",
      "210/210 [==============================] - 0s 1ms/step - loss: 0.3937 - accuracy: 0.8360\n",
      "Epoch 43/50\n",
      "210/210 [==============================] - 0s 1ms/step - loss: 0.3935 - accuracy: 0.8352\n",
      "Epoch 44/50\n",
      "210/210 [==============================] - 0s 1ms/step - loss: 0.3936 - accuracy: 0.8364\n",
      "Epoch 45/50\n",
      "210/210 [==============================] - 0s 1ms/step - loss: 0.3934 - accuracy: 0.8355\n",
      "Epoch 46/50\n",
      "210/210 [==============================] - 0s 1ms/step - loss: 0.3933 - accuracy: 0.8358\n",
      "Epoch 47/50\n",
      "210/210 [==============================] - 0s 1ms/step - loss: 0.3926 - accuracy: 0.8363\n",
      "Epoch 48/50\n",
      "210/210 [==============================] - 0s 1ms/step - loss: 0.3930 - accuracy: 0.8379\n",
      "Epoch 49/50\n",
      "210/210 [==============================] - 0s 1ms/step - loss: 0.3924 - accuracy: 0.8369\n",
      "Epoch 50/50\n",
      "210/210 [==============================] - 0s 1ms/step - loss: 0.3927 - accuracy: 0.8372\n",
      "104/104 [==============================] - 0s 762us/step\n",
      "[[2541   76]\n",
      " [ 450  233]]\n"
     ]
    }
   ],
   "source": [
    "# yapay sinir ağı\n",
    "import keras\n",
    "from keras.models import Sequential\n",
    "from keras.layers import Dense\n",
    "\n",
    "classifier = Sequential()\n",
    "#gizli katman\n",
    "classifier.add(Dense(6,kernel_initializer='uniform',activation='relu',input_dim=11)) #giriş katmanı\n",
    "\n",
    "#2.gizli katman\n",
    "classifier.add(Dense(6,kernel_initializer='uniform',activation='relu'))#veri girişi yok\n",
    "\n",
    "#çıkış katmanı\n",
    "classifier.add(Dense(1,kernel_initializer='uniform',activation='sigmoid'))\n",
    "classifier.compile(optimizer='adam',\n",
    "                   loss= 'binary_crossentropy'\n",
    "                   ,metrics=['accuracy'])\n",
    "classifier.fit(x_train,y_train,epochs=50)\n",
    "\n",
    "y_pred = classifier.predict(x_test)\n",
    "\n",
    "y_pred = (y_pred>0.5)\n",
    "\n",
    "from sklearn.metrics import confusion_matrix\n",
    "cm = confusion_matrix(y_test,y_pred)\n",
    "print(cm)\n"
   ],
   "metadata": {
    "collapsed": false,
    "ExecuteTime": {
     "end_time": "2023-07-19T20:21:03.917794800Z",
     "start_time": "2023-07-19T20:20:50.751410500Z"
    }
   }
  }
 ],
 "metadata": {
  "kernelspec": {
   "display_name": "Python 3 (ipykernel)",
   "language": "python",
   "name": "python3"
  },
  "language_info": {
   "codemirror_mode": {
    "name": "ipython",
    "version": 3
   },
   "file_extension": ".py",
   "mimetype": "text/x-python",
   "name": "python",
   "nbconvert_exporter": "python",
   "pygments_lexer": "ipython3",
   "version": "3.11.4"
  }
 },
 "nbformat": 4,
 "nbformat_minor": 1
}
