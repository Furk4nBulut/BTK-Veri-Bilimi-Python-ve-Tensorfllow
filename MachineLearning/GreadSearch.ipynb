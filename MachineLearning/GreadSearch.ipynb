{
 "cells": [
  {
   "cell_type": "code",
   "execution_count": 1,
   "outputs": [
    {
     "name": "stdout",
     "output_type": "stream",
     "text": [
      "[[64  4]\n",
      " [ 3 29]]\n",
      "0.8999999999999999\n",
      "0.03590109871423001\n"
     ]
    }
   ],
   "source": [
    "import pandas as pd\n",
    "import numpy as np\n",
    "import matplotlib.pyplot as plt\n",
    "\n",
    "data = pd.read_csv('Social_Network_Ads.csv')\n",
    "\n",
    "x = data.iloc[:, [2, 3]].values\n",
    "y = data.iloc[:, 4].values\n",
    "\n",
    "from sklearn.model_selection import  train_test_split\n",
    "x_train,x_test,y_train,y_test = train_test_split(x,y,test_size=0.25,random_state=0)\n",
    "\n",
    "#ölçekleme\n",
    "from sklearn.preprocessing import StandardScaler\n",
    "sc = StandardScaler()\n",
    "x_train = sc.fit_transform(x_train)\n",
    "x_test = sc.transform(x_test)\n",
    "\n",
    "# SVM\n",
    "from sklearn.svm import SVC\n",
    "classifier = SVC(kernel='rbf',random_state=0)\n",
    "classifier.fit(x_train,y_train)\n",
    "\n",
    "#Tahminler\n",
    "y_pred = classifier.predict(x_test)\n",
    "\n",
    "# Confusion matrix\n",
    "from sklearn.metrics import confusion_matrix\n",
    "cm = confusion_matrix(y_test,y_pred)\n",
    "print(cm)\n",
    "\n",
    "# k-katlamalı capraz dogrulama\n",
    "from sklearn.model_selection import cross_val_score\n",
    "'''\n",
    "1. estimatör . classifier (biizm durum)\n",
    "2 . x\n",
    "3. y\n",
    "4. cv : kaç katlamalı\n",
    "'''\n",
    "succes = cross_val_score(estimator=classifier,X=x_train,y=y_train,cv=4)\n",
    "print(succes.mean())\n",
    "print(succes.std())"
   ],
   "metadata": {
    "collapsed": false,
    "ExecuteTime": {
     "end_time": "2023-07-20T18:16:47.943166Z",
     "start_time": "2023-07-20T18:16:44.369188Z"
    }
   }
  },
  {
   "cell_type": "markdown",
   "source": [
    "## GriedSearch"
   ],
   "metadata": {
    "collapsed": false
   }
  },
  {
   "cell_type": "code",
   "execution_count": 3,
   "outputs": [
    {
     "name": "stdout",
     "output_type": "stream",
     "text": [
      "0.9099999999999999\n",
      "{'C': 1, 'gamma': 1, 'kernel': 'rbf'}\n"
     ]
    }
   ],
   "source": [
    "#parametre optimizasyonu ve algoritma seçimi\n",
    "from sklearn.model_selection import GridSearchCV\n",
    "p = [{'C':[1,2,3,4,5],'kernel':['linear','rbf']},\n",
    "     {'C':[1,10,100,1000],'kernel': ['rbf'],\n",
    "      'gamma':[1,0.5,0.1,0.01,0.001]} ]\n",
    "\n",
    "'''\n",
    "GS parametleri\n",
    "estimator : sınıflandırma alforitması(neyi optimize etmek istediğimiz)\n",
    "param_grid : parametreler / denenecekler\n",
    "scoring : neye göre skorlanacak : örn : accuracy\n",
    "cv : kaç katlamalı olacağı\n",
    "n_jobs : aynı anda çalısacak iş\n",
    "'''\n",
    "gs = GridSearchCV( estimator=classifier,param_grid=p,\n",
    "                   scoring='accuracy',\n",
    "                   cv =10,\n",
    "                   n_jobs=-1)\n",
    "grid_search = gs.fit(x_train,y_train)\n",
    "bestResult = grid_search.best_score_ # genelde accıuray nin enniyi olduğu\n",
    "bestParameters= grid_search.best_params_\n",
    "print(bestResult)\n",
    "print(bestParameters)"
   ],
   "metadata": {
    "collapsed": false,
    "ExecuteTime": {
     "end_time": "2023-07-20T18:31:38.807192700Z",
     "start_time": "2023-07-20T18:31:27.731844800Z"
    }
   }
  },
  {
   "cell_type": "code",
   "execution_count": null,
   "outputs": [],
   "source": [],
   "metadata": {
    "collapsed": false
   }
  }
 ],
 "metadata": {
  "kernelspec": {
   "display_name": "Python 3",
   "language": "python",
   "name": "python3"
  },
  "language_info": {
   "codemirror_mode": {
    "name": "ipython",
    "version": 2
   },
   "file_extension": ".py",
   "mimetype": "text/x-python",
   "name": "python",
   "nbconvert_exporter": "python",
   "pygments_lexer": "ipython2",
   "version": "2.7.6"
  }
 },
 "nbformat": 4,
 "nbformat_minor": 0
}
