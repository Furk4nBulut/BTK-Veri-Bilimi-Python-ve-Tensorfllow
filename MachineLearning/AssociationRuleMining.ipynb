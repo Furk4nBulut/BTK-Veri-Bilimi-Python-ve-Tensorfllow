{
 "cells": [
  {
   "cell_type": "markdown",
   "source": [
    "# Apriori Algorithm"
   ],
   "metadata": {
    "collapsed": false
   }
  },
  {
   "cell_type": "code",
   "execution_count": null,
   "outputs": [],
   "source": [
    "import pandas as pd\n",
    "import numpy as np\n",
    "import matplotlib.pyplot as plt\n",
    "\n",
    "data = pd.read_csv('sepet.csv',header=None)\n",
    "\n",
    "t = []\n",
    "for i in range(0,7501):\n",
    "    t.append([str(data.values[i,j]) for j in range(0,20)])\n",
    "\n",
    "from apyori import apriori\n",
    "rules = apriori(t,min_support=0.01,min_confidence=0.2,min_lift=3,\n",
    "                min_length=2)\n",
    "\n",
    "print(list(rules))"
   ],
   "metadata": {
    "collapsed": false,
    "is_executing": true
   }
  },
  {
   "cell_type": "markdown",
   "source": [
    "# Eclad Algorithm"
   ],
   "metadata": {
    "collapsed": false
   }
  }
 ],
 "metadata": {
  "kernelspec": {
   "display_name": "Python 3",
   "language": "python",
   "name": "python3"
  },
  "language_info": {
   "codemirror_mode": {
    "name": "ipython",
    "version": 2
   },
   "file_extension": ".py",
   "mimetype": "text/x-python",
   "name": "python",
   "nbconvert_exporter": "python",
   "pygments_lexer": "ipython2",
   "version": "2.7.6"
  }
 },
 "nbformat": 4,
 "nbformat_minor": 0
}
