{
 "cells": [
  {
   "cell_type": "code",
   "execution_count": 8,
   "metadata": {
    "collapsed": true,
    "ExecuteTime": {
     "end_time": "2023-07-20T19:25:56.644251500Z",
     "start_time": "2023-07-20T19:25:56.608284900Z"
    }
   },
   "outputs": [
    {
     "data": {
      "text/plain": "'from sklearn.linear_model import LinearRegression\\n\\nlr = LinearRegression()\\n\\nlr.fit(x_train,y_train)\\nprint(lr.predict(x_test))'"
     },
     "execution_count": 8,
     "metadata": {},
     "output_type": "execute_result"
    }
   ],
   "source": [
    "import pandas as pd\n",
    "import numpy as np\n",
    "import matplotlib.pyplot as plt\n",
    "\n",
    "data = pd.read_csv('satislar.csv')\n",
    "data = data.values\n",
    "x=data[:,0:1]\n",
    "y=data[:,1]\n",
    "\n",
    "division = 0.33\n",
    "\n",
    "from sklearn import  model_selection\n",
    "x_train,x_test,y_train,y_test = model_selection.train_test_split(x,y,test_size=division,random_state=0)\n",
    "\n",
    "#kaydedilen model\n",
    "'''from sklearn.linear_model import LinearRegression\n",
    "\n",
    "lr = LinearRegression()\n",
    "\n",
    "lr.fit(x_train,y_train)\n",
    "print(lr.predict(x_test))'''\n"
   ]
  },
  {
   "cell_type": "markdown",
   "source": [
    "# model kaydetme"
   ],
   "metadata": {
    "collapsed": false
   }
  },
  {
   "cell_type": "code",
   "execution_count": 9,
   "outputs": [
    {
     "name": "stdout",
     "output_type": "stream",
     "text": [
      "[20126.21865404 57740.29412655 30771.7117123  30062.01217508\n",
      " 54191.79644047 50643.29875438 54191.79644047 30062.01217508\n",
      " 36449.30801003 47094.80106829]\n"
     ]
    }
   ],
   "source": [
    "import pickle\n",
    "\n",
    "file = \"linearregression_model\"\n",
    "pickle.dump(lr,open(file,'wb')) #dosyayı kaydetme\n",
    "\n",
    "uploaded = pickle.load(open(file,'rb')) #kaydedilmiş dosyayı alma\n",
    "\n",
    "print(uploaded.predict(x_test))"
   ],
   "metadata": {
    "collapsed": false,
    "ExecuteTime": {
     "end_time": "2023-07-20T19:25:57.820490400Z",
     "start_time": "2023-07-20T19:25:57.798244200Z"
    }
   }
  },
  {
   "cell_type": "code",
   "execution_count": null,
   "outputs": [],
   "source": [],
   "metadata": {
    "collapsed": false
   }
  }
 ],
 "metadata": {
  "kernelspec": {
   "display_name": "Python 3",
   "language": "python",
   "name": "python3"
  },
  "language_info": {
   "codemirror_mode": {
    "name": "ipython",
    "version": 2
   },
   "file_extension": ".py",
   "mimetype": "text/x-python",
   "name": "python",
   "nbconvert_exporter": "python",
   "pygments_lexer": "ipython2",
   "version": "2.7.6"
  }
 },
 "nbformat": 4,
 "nbformat_minor": 0
}
