{
 "cells": [
  {
   "cell_type": "code",
   "execution_count": 2,
   "metadata": {
    "collapsed": true,
    "ExecuteTime": {
     "end_time": "2023-07-20T17:02:56.178300700Z",
     "start_time": "2023-07-20T17:02:56.158522100Z"
    }
   },
   "outputs": [],
   "source": [
    "import pandas as pd\n",
    "import numpy as np\n",
    "import matplotlib.pyplot as plt\n",
    "\n",
    "#veri kümesi\n",
    "data = pd.read_csv('Wine.csv')\n",
    "x = data.iloc[:,0:13]\n",
    "y = data.iloc[:,13].values\n",
    "\n",
    "# eğitim ve test kümelerinin bölünmesi\n",
    "from sklearn.model_selection import train_test_split\n",
    "x_train,x_test,y_train,y_test = train_test_split(x,y,test_size=0.2, random_state=0)\n",
    "\n",
    "#ölçekleme\n",
    "from sklearn.preprocessing import StandardScaler\n",
    "sc = StandardScaler()\n",
    "x_train = sc.fit_transform(x_train)\n",
    "x_test = sc.transform(x_test)"
   ]
  },
  {
   "cell_type": "code",
   "execution_count": 3,
   "outputs": [
    {
     "name": "stdout",
     "output_type": "stream",
     "text": [
      " gerçek / PCA siz\n",
      "[[14  0  0]\n",
      " [ 0 16  0]\n",
      " [ 0  0  6]]\n",
      "gercek / PCA ile\n",
      "[[14  0  0]\n",
      " [ 1 15  0]\n",
      " [ 0  0  6]]\n",
      "PCA siz ve PCA ile\n",
      "[[14  0  0]\n",
      " [ 1 15  0]\n",
      " [ 0  0  6]]\n"
     ]
    }
   ],
   "source": [
    "# PCA\n",
    "from sklearn.decomposition import PCA\n",
    "pca = PCA(n_components= 2)\n",
    "\n",
    "x_train2 = pca.fit_transform(x_train)\n",
    "x_test2 = pca.transform(x_test) #veri boyutlandırması\n",
    "\n",
    "# PCA dönüşümünden gelen LR\n",
    "from sklearn.linear_model import LogisticRegression\n",
    "classifier = LogisticRegression(random_state=0)\n",
    "classifier.fit( x_train,y_train)\n",
    "\n",
    "#pca dönüşümünden sonra gelen LR\n",
    "classifier2 = LogisticRegression(random_state=0)\n",
    "classifier2.fit( x_train2,y_train)\n",
    "\n",
    "#tahminler\n",
    "y_pred = classifier.predict( x_test)\n",
    "\n",
    "y_pred2 = classifier2.predict( x_test2)\n",
    "\n",
    "from sklearn.metrics import confusion_matrix\n",
    "# actual / PCA olmadan çıkan sonuç\n",
    "cm = confusion_matrix(y_test,y_pred)\n",
    "print(' gerçek / PCA siz')\n",
    "print(cm)\n",
    "# actual / PCA sonrası çıkan sonuç\n",
    "cm2 = confusion_matrix(y_test,y_pred2)\n",
    "print('gercek / PCA ile')\n",
    "print(cm2)\n",
    "\n",
    "# PCA sonrası / PCA öncesi\n",
    "cm3 = confusion_matrix(y_test,y_pred2)\n",
    "print('PCA siz ve PCA ile')\n",
    "print(cm3)"
   ],
   "metadata": {
    "collapsed": false,
    "ExecuteTime": {
     "end_time": "2023-07-20T17:02:59.179280100Z",
     "start_time": "2023-07-20T17:02:59.079520100Z"
    }
   }
  },
  {
   "cell_type": "code",
   "execution_count": 6,
   "outputs": [
    {
     "name": "stdout",
     "output_type": "stream",
     "text": [
      "lda ve orijinal\n",
      "[[14  0  0]\n",
      " [ 0 16  0]\n",
      " [ 0  0  6]]\n"
     ]
    }
   ],
   "source": [
    "# LDA\n",
    "from sklearn.discriminant_analysis import  LinearDiscriminantAnalysis as LDA\n",
    "lda = LDA(n_components=2)\n",
    "\n",
    "x_train_lda =lda.fit_transform(x_train,y_train) # pca den fark y_train de veriyoruz. (sınıfların olduğu boyutu almalı)\n",
    "x_test_lda = lda.transform(x_test)\n",
    "\n",
    "# LDA dönüşümünden sonra\n",
    "classifier_lda = LogisticRegression(random_state=0)\n",
    "classifier_lda.fit( x_train_lda,y_train)\n",
    "\n",
    "# LDA verisini tahmin et\n",
    "y_pred_lda = classifier_lda.predict( x_test_lda)\n",
    "\n",
    "# LDA sonrası / orijinal\n",
    "print('lda ve orijinal')\n",
    "cm4 = confusion_matrix(y_pred,y_pred_lda)\n",
    "print(cm4)"
   ],
   "metadata": {
    "collapsed": false,
    "ExecuteTime": {
     "end_time": "2023-07-20T17:11:52.455543400Z",
     "start_time": "2023-07-20T17:11:52.447526900Z"
    }
   }
  },
  {
   "cell_type": "code",
   "execution_count": 5,
   "outputs": [
    {
     "data": {
      "text/plain": "array([1, 3, 2, 1, 2, 2, 1, 3, 2, 2, 3, 3, 1, 2, 3, 2, 1, 1, 2, 1, 2, 1,\n       1, 2, 2, 2, 2, 2, 2, 3, 1, 1, 2, 1, 1, 1], dtype=int64)"
     },
     "execution_count": 5,
     "metadata": {},
     "output_type": "execute_result"
    }
   ],
   "source": [],
   "metadata": {
    "collapsed": false,
    "ExecuteTime": {
     "end_time": "2023-07-20T17:10:54.460863100Z",
     "start_time": "2023-07-20T17:10:54.441739300Z"
    }
   }
  }
 ],
 "metadata": {
  "kernelspec": {
   "display_name": "Python 3",
   "language": "python",
   "name": "python3"
  },
  "language_info": {
   "codemirror_mode": {
    "name": "ipython",
    "version": 2
   },
   "file_extension": ".py",
   "mimetype": "text/x-python",
   "name": "python",
   "nbconvert_exporter": "python",
   "pygments_lexer": "ipython2",
   "version": "2.7.6"
  }
 },
 "nbformat": 4,
 "nbformat_minor": 0
}
