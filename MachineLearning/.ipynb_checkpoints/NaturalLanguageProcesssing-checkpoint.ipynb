{
 "cells": [
  {
   "cell_type": "markdown",
   "metadata": {
    "collapsed": false
   },
   "source": [
    "# Natural Language Processing"
   ]
  },
  {
   "cell_type": "markdown",
   "metadata": {
    "collapsed": false
   },
   "source": [
    "## veri önişleme"
   ]
  },
  {
   "cell_type": "code",
   "execution_count": null,
   "metadata": {
    "collapsed": false
   },
   "outputs": [],
   "source": [
    "import numpy as np\n",
    "import pandas as pd\n",
    "\n",
    "comments = pd.read_csv('Restaurant_Reviews.csv')\n",
    "\n",
    "import re\n",
    "comment=re.sub('[a-zA-Z]',' ',comments['Review'][6])\n",
    "comment=comment.lower()\n",
    "comment=comment.split()"
   ]
  },
  {
   "cell_type": "code",
   "execution_count": null,
   "metadata": {
    "collapsed": false
   },
   "outputs": [],
   "source": [
    "import nltk\n",
    "stop = nltk.download('stopwords')\n",
    "\n",
    "from nltk.porter import PorterStemmer\n",
    "ps = PorterStemmer\n",
    "\n",
    "nltk.download('stopwords')\n",
    "from nltk.corpus import stopwords\n",
    "#preprocessing (ön işleme)\n",
    "derlem = []\n",
    "for i in range(1000):\n",
    "    comment=re.sub('[a-zA-Z]',' ',comments['Review'][i])\n",
    "    comment=comment.lower()\n",
    "    comment=comment.split()\n",
    "    comment = [ps.stem(word) for word in comments\n",
    "               if not word in set(stopwords.words(('english')))]\n",
    "\n",
    "    comment = ' '.join(comment)\n",
    "    derlem.append(comment)"
   ]
  },
  {
   "cell_type": "code",
   "execution_count": null,
   "metadata": {
    "collapsed": false,
    "is_executing": true
   },
   "outputs": [],
   "source": [
    "#feautre extraction ( öznitelik çıkarımı ) -->Bag of words (BOW)\n",
    "from sklearn.feature_extraction.text import CountVectorizer\n",
    "cv = CountVectorizer(max_features=2000)\n",
    "x = cv.fit_transform(derlem).toArray() #bağımsız değişken\n",
    "y = comments.iloc[:,1].values# bağımlu değişken"
   ]
  },
  {
   "cell_type": "markdown",
   "metadata": {
    "collapsed": false
   },
   "source": [
    "Machine learning algorithm"
   ]
  },
  {
   "cell_type": "code",
   "execution_count": null,
   "metadata": {
    "collapsed": false
   },
   "outputs": [],
   "source": [
    "from sklearn.model_selection import train_test_split\n",
    "#from sklearn.cross_validation import train_test_split\n",
    "\n",
    "x_train,x_test,y_train,y_test = train_test_split(x,y,test_size=0.20)\n",
    "\n",
    "from sklearn.naive_bayes import GaussianNB\n",
    "gnb = GaussianNB()\n",
    "gnb.fit(x_train,y_train)\n",
    "\n",
    "y_pred = gnb.predict(x_test)\n",
    "\n",
    "from sklearn.metric import confusion_matrix\n",
    "cm = confusion_matrix(y_test,y_pred)\n",
    "print(cm)\n"
   ]
  }
 ],
 "metadata": {
  "kernelspec": {
   "display_name": "Python 3",
   "language": "python",
   "name": "python3"
  },
  "language_info": {
   "codemirror_mode": {
    "name": "ipython",
    "version": 2
   },
   "file_extension": ".py",
   "mimetype": "text/x-python",
   "name": "python",
   "nbconvert_exporter": "python",
   "pygments_lexer": "ipython2",
   "version": "2.7.6"
  }
 },
 "nbformat": 4,
 "nbformat_minor": 0
}
