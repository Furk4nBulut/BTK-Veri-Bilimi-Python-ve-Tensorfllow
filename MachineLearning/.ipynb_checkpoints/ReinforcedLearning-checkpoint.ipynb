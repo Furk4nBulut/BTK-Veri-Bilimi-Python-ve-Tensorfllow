{
 "cells": [
  {
   "cell_type": "markdown",
   "metadata": {},
   "source": [
    "# Reinforced Learning"
   ]
  },
  {
   "cell_type": "markdown",
   "metadata": {},
   "source": [
    "## Random selection"
   ]
  },
  {
   "cell_type": "code",
   "execution_count": null,
   "metadata": {
    "is_executing": true
   },
   "outputs": [],
   "source": [
    "import numpy as np\n",
    "import pandas as pd\n",
    "import matplotlib.pyplot as plt\n",
    "\n",
    "data = pd.read_csv('Ads_CTR_Optimisation.csv')\n",
    "\n",
    "# Random selection\n",
    "\"\"\"import random\n",
    "N = 10000\n",
    "d=10\n",
    "total =0\n",
    "choices = []\n",
    "for n in range(0,N):\n",
    "    ad = random.randrange(d)\n",
    "    choices.append(ad)\n",
    "    award = data.values[n,ad] #verilerde n.satır =1 ise ödül 1\n",
    "    total = total + award\n",
    "\n",
    "plt.hist(choices)\n",
    "plt.show()\"\"\""
   ]
  },
  {
   "cell_type": "markdown",
   "metadata": {},
   "source": [
    "## Upper Confidence Bound"
   ]
  },
  {
   "cell_type": "code",
   "execution_count": null,
   "metadata": {
    "is_executing": true
   },
   "outputs": [],
   "source": [
    "import math\n",
    "import math\n",
    "N=10000 #islem sayısı\n",
    "d=10 #ilan sayısı\n",
    "# Ri(n)\n",
    "awards= [0]*d\n",
    "total = 0 #toplam ödül\n",
    "# Ni(n)\n",
    "clicks = [0]*d\n",
    "choices = []\n",
    "\n",
    "\n",
    "for n in range(0,N):\n",
    "    ad=0 #seçilen ilan\n",
    "    max_ucb=0\n",
    "    for i in range(0,d):\n",
    "        if(clicks[i]>0):\n",
    "            avg = awards[i]/clicks[i]\n",
    "            delta = math.sqrt(3/2*math.log(n)/(clicks[i]))\n",
    "            ucb= avg + delta\n",
    "        else:\n",
    "            ucb = N*10\n",
    "        if max_ucb < ucb: #max'tan büyük bir ucb çıktı\n",
    "            max_ucb = ucb\n",
    "            ad = i\n",
    "    choices.append(ad)\n",
    "    clicks[ad]=clicks[ad] + 1\n",
    "    award = data.values[n,ad] #verilerdeki n.satır = 1 ise ödül\n",
    "    awards[ad] = awards[ad] + award\n",
    "    total = total + awards\n",
    "\n",
    "print(\"Total Award:\")\n",
    "print(total)\n",
    "\n",
    "plt.hist(choices)\n",
    "plt.show()"
   ]
  },
  {
   "cell_type": "code",
   "execution_count": null,
   "metadata": {},
   "outputs": [],
   "source": []
  }
 ],
 "metadata": {
  "kernelspec": {
   "display_name": "Python 3 (ipykernel)",
   "language": "python",
   "name": "python3"
  },
  "language_info": {
   "codemirror_mode": {
    "name": "ipython",
    "version": 2
   },
   "file_extension": ".py",
   "mimetype": "text/x-python",
   "name": "python",
   "nbconvert_exporter": "python",
   "pygments_lexer": "ipython2",
   "version": "2.7.6"
  }
 },
 "nbformat": 4,
 "nbformat_minor": 1
}
