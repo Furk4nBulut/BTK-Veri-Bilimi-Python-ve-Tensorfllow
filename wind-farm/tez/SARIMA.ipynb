{
 "cells": [
  {
   "cell_type": "code",
   "execution_count": 1,
   "id": "initial_id",
   "metadata": {
    "collapsed": true,
    "ExecuteTime": {
     "end_time": "2023-09-16T12:56:35.464981100Z",
     "start_time": "2023-09-16T12:56:35.449362700Z"
    }
   },
   "outputs": [
    {
     "ename": "SyntaxError",
     "evalue": "invalid syntax (3399344029.py, line 1)",
     "output_type": "error",
     "traceback": [
      "\u001B[1;36m  Cell \u001B[1;32mIn[1], line 1\u001B[1;36m\u001B[0m\n\u001B[1;33m    from statsmodels.graphics.tsaplots import plot_pacf from statsmodels.graphics.tsaplots import plot_acf from statsmodels.tsa.statespace.sarimax import SARIMAX from statsmodels.tsa.stattools import adfuller\u001B[0m\n\u001B[1;37m                                                        ^\u001B[0m\n\u001B[1;31mSyntaxError\u001B[0m\u001B[1;31m:\u001B[0m invalid syntax\n"
     ]
    }
   ],
   "source": [
    "from statsmodels.graphics.tsaplots import plot_pacf\n",
    "from statsmodels.graphics.tsaplots import plot_acf\n",
    "from statsmodels.tsa.statespace.sarimax import SARIMAX\n",
    "from statsmodels.tsa.stattools import adfuller\n",
    "from sklearn.metrics import mean_squared_error\n",
    "import matplotlib.pyplot as plt\n",
    "from tqdm import tqdm_notebook\n",
    "import numpy as np\n",
    "import pandas as pd\n",
    "from itertools import product\n",
    "from sklearn.metrics import *\n",
    "from math import sqrt\n",
    "import warnings\n",
    "\n",
    "warnings.filterwarnings('ignore')  #tüm hataları göz ardı et\n",
    "\n",
    "# Load your data\n",
    "all_df = pd.read_csv(\"C:/users/FurkanBulut/Desktop/T1totalclean.csv\", usecols=['Name', 'WS101']) # veri setini yükle\n",
    "forecast = [] # tahminleri depolamak için boş bir liste oluştur\n",
    "\n",
    "# Loop over your data\n",
    "for i in range(0, 57601, 2): # veri setindeki her iki satır için\n",
    "    data = all_df[i:i + 144] # 144 satırlık bir veri kümesi oluştur\n",
    "\n",
    "    def optimize_SARIMA(endog, parameters_list, d, D, s): # SARIMA modelini optimize et\n",
    "        \"\"\"\n",
    "            Return dataframe with parameters and corresponding AIC\n",
    "\n",
    "            endog - the observed variable\n",
    "            parameters_list - list with (p, q, P, Q) tuples\n",
    "            d - integration order in ARIMA model\n",
    "            D - seasonal integration order\n",
    "            s - length of season\n",
    "        \"\"\"\n",
    "        results = [] # sonuçları depolamak için boş bir liste oluştur\n",
    "        for param in tqdm_notebook(parameters_list): # parametrelerin her biri için\n",
    "            try: # hata oluşursa devam et \n",
    "                model = SARIMAX(endog, \n",
    "                                order=(param[0], d, param[1]), seasonal_order=(param[2], D, param[3], s), \n",
    "                                simple_differencing=False).fit(disp=False) # SARIMA modelini kur\n",
    "            except: # hata oluşursa devam et\n",
    "                continue \n",
    "            aic = model.aic # modelin aic değerini hesapla. aic değeri ne kadar düşükse model o kadar iyi. Aic: Akaike Information Criterion yani Akaike Bilgi Kriteri\n",
    "            results.append([param, aic]) # sonuçları listeye ekle\n",
    "\n",
    "        result_df = pd.DataFrame(results)  # sonuçları dataframe'e dönüştür\n",
    "        result_df.columns = ['(p,q)x(P,Q)', 'AIC'] # sütun isimlerini değiştir\n",
    "        # Sort in ascending order, lower AIC is better \n",
    "        result_df = result_df.sort_values(by='AIC', ascending=True).reset_index(drop=True) # aic değerlerine göre sırala\n",
    "        return result_df # sonuçları döndür\n",
    "\n",
    "    p = range(0, 3, 1) # p, q, P, Q değerlerini belirle\n",
    "    d = 1            # d ve D değerlerini belirle\n",
    "    q = range(0, 3, 1) # p, q, P, Q değerlerini belirle\n",
    "    P = range(0, 3, 1) # p, q, P, Q değerlerini belirle\n",
    "    D = 1           # d ve D değerlerini belirle\n",
    "    Q = range(0, 3, 1) # p, q, P, Q değerlerini belirle\n",
    "    s = 4          # s değerini belirle\n",
    "    parameters = product(p, q, P, Q) # tüm kombinasyonları oluştur\n",
    "    parameters_list = list(parameters)  # kombinasyonları listeye dönüştür\n",
    "\n",
    "    result_df = optimize_SARIMA(data['WS101'], parameters_list, 1, 1, 4) # optimize_SARIMA fonksiyonunu çağır\n",
    "    result_df_min = result_df[result_df.AIC == result_df.AIC.min()] # aic değeri en düşük olanı seç\n",
    "    p = result_df_min['(p,q)x(P,Q)'][0][0] # seçilen parametreleri al\n",
    "    q = result_df_min['(p,q)x(P,Q)'][0][1] # seçilen parametreleri al\n",
    "    P = result_df_min['(p,q)x(P,Q)'][0][2] # seçilen parametreleri al\n",
    "    Q = result_df_min['(p,q)x(P,Q)'][0][3] # seçilen parametreleri al\n",
    "    best_model = SARIMAX(data['WS101'], order=(p, d, q), seasonal_order=(P, D, Q, s), simple_differencing=False) # en iyi modeli kur\n",
    "    res = best_model.fit(disp=False) # modeli eğit\n",
    "    n_forecast = 2 # tahmin edilecek değer sayısı\n",
    "    predict = res.get_prediction(end=best_model.nobs + n_forecast) # tahmin et\n",
    "    prediction = predict.predicted_mean[-n_forecast:] # tahmin edilen değerleri al\n",
    "    forecast.append(prediction) # tahmin edilen değerleri listeye ekle\n",
    "\n",
    "df = all_df[144:57601] # gerçek değerleri al\n",
    "df1 = pd.DataFrame(np.concatenate(forecast)) # tahmin edilen değerleri dataframe'e dönüştür\n",
    "expected = df['WS101'] # gerçek değerleri al\n",
    "prediction = df1 # tahmin edilen değerleri al\n",
    "MSE = mean_squared_error(expected, prediction) # hata kareler ortalaması\n",
    "R2 = r2_score(expected, prediction) # r kare\n",
    "RMSE = sqrt(mean_squared_error(expected, prediction))   # hata kareler ortalamasının karekökü\n",
    "MAE = mean_absolute_error(expected, prediction) # mutlak hata\n",
    " \n",
    "print(\"MSE:\", MSE)  # hata kareler ortalaması\n",
    "print(\"R2:\", R2) # r kare \n",
    "print(\"RMSE:\", RMSE) # hata kareler ortalamasının karekökü\n",
    "print(\"MAE:\", MAE) # mutlak hata\n"
   ]
  },
  {
   "cell_type": "code",
   "execution_count": null,
   "outputs": [],
   "source": [],
   "metadata": {
    "collapsed": false
   },
   "id": "b03ee1585931de0b"
  }
 ],
 "metadata": {
  "kernelspec": {
   "display_name": "Python 3",
   "language": "python",
   "name": "python3"
  },
  "language_info": {
   "codemirror_mode": {
    "name": "ipython",
    "version": 2
   },
   "file_extension": ".py",
   "mimetype": "text/x-python",
   "name": "python",
   "nbconvert_exporter": "python",
   "pygments_lexer": "ipython2",
   "version": "2.7.6"
  }
 },
 "nbformat": 4,
 "nbformat_minor": 5
}
