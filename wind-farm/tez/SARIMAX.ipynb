{
 "cells": [
  {
   "cell_type": "code",
   "execution_count": 1,
   "id": "initial_id",
   "metadata": {
    "collapsed": true,
    "ExecuteTime": {
     "end_time": "2023-09-16T12:56:44.830394400Z",
     "start_time": "2023-09-16T12:56:44.799121400Z"
    }
   },
   "outputs": [
    {
     "ename": "SyntaxError",
     "evalue": "invalid syntax (741434704.py, line 1)",
     "output_type": "error",
     "traceback": [
      "\u001B[1;36m  Cell \u001B[1;32mIn[1], line 1\u001B[1;36m\u001B[0m\n\u001B[1;33m    from statsmodels.graphics.tsaplots import plot_acf, plot_pacf from statsmodels.tsa.statespace.sarimax import SARIMAX from statsmodels.tsa.stattools import adfuller\u001B[0m\n\u001B[1;37m                                                                  ^\u001B[0m\n\u001B[1;31mSyntaxError\u001B[0m\u001B[1;31m:\u001B[0m invalid syntax\n"
     ]
    }
   ],
   "source": [
    "from statsmodels.graphics.tsaplots import plot_acf, plot_pacf\n",
    "from statsmodels.tsa.statespace.sarimax import SARIMAX\n",
    "from statsmodels.tsa.stattools import adfuller\n",
    "import statsmodels.api as sm\n",
    "from sklearn.metrics import mean_squared_error\n",
    "from tqdm import tqdm_notebook\n",
    "import matplotlib.pyplot as plt\n",
    "import pandas as pd\n",
    "import numpy as np\n",
    "from itertools import product\n",
    "import warnings\n",
    "from sklearn.metrics import *\n",
    "\n",
    "warnings.filterwarnings('ignore') # uyarıları kapatır\n",
    "\n",
    "%matplotlib inline # grafikleri notebook üzerinde gösterir\n",
    "\n",
    "macro_data = pd.read_csv(\"C:/users/FurkanBulut/Desktop/T1totalclean.csv\", usecols=['Name', 'T3', 'RH3', 'P2', 'WS101']) # veri setini okur\n",
    "forecast = [] # tahminleri tutar\n",
    "\n",
    "for i in range(0, 144, 2): # 2 saatlik aralıklarla tahmin yapar\n",
    "    data = macro_data[i:i+144] # 2 saatlik veri setini alır\n",
    "\n",
    "    def optimize_SARIMAX(endog, exog, parameters_list, d, D, s): # parametreleri optimize eder\n",
    "        results = [] # sonuçları tutar\n",
    "        for param in tqdm_notebook(parameters_list): # parametreleri döndürür\n",
    "            try:\n",
    "                model = SARIMAX(endog, \n",
    "                                exog,\n",
    "                                order=(param[0], d, param[1]),\n",
    "                                seasonal_order=(param[2], D, param[3]),\n",
    "                                simple_differencing=False).fit(disp=False) # modeli kurar\n",
    "            except:\n",
    "                continue\n",
    "            aic = model.aic # aic değerini alır\n",
    "            results.append([param, aic]) # sonuçları listeye ekler\n",
    "\n",
    "        result_df = pd.DataFrame(results) # sonuçları dataframe'e çevirir\n",
    "        result_df.columns = ['(p,q)x(P,Q)', 'AIC'] # sütun isimlerini değiştirir\n",
    "        result_df = result_df.sort_values(by='AIC', ascending=True).reset_index(drop=True) # aic değerlerine göre sıralar\n",
    "        return result_df\n",
    "\n",
    "    p = range(0, 3, 1)\n",
    "    d = 1\n",
    "    q = range(0, 3, 1)\n",
    "    P = range(0, 3, 1)\n",
    "    D = 0\n",
    "    Q = range(0, 3, 1)\n",
    "    s = 4\n",
    "    parameters = product(p, q, P, Q)\n",
    "    parameters_list = list(parameters)\n",
    "    endog = macro_data['WS101'][i:i+142]\n",
    "    exog = macro_data[['T3', 'RH3', 'P2']][i:i+142]\n",
    "    result_df = optimize_SARIMAX(endog, exog, parameters_list, 1, 0, 4)\n",
    "    result_df_min = result_df[result_df.AIC == result_df.AIC.min()]\n",
    "    p = result_df_min['(p,q)x(P,Q)'][0][0]\n",
    "    q = result_df_min['(p,q)x(P,Q)'][0][1]\n",
    "    P = result_df_min['(p,q)x(P,Q)'][0][2]\n",
    "    Q = result_df_min['(p,q)x(P,Q)'][0][3]\n",
    "    best_model = SARIMAX(endog,\n",
    "                        exog,\n",
    "                        order=(p, d, q),\n",
    "                        seasonal_order=(P, D, Q, s),\n",
    "                        simple_differencing=False)\n",
    "    res = best_model.fit(dis=False)\n",
    "    n_forecast = 2\n",
    "    predict = res.get_prediction(end=best_model.nobs + n_forecast, exog=exog.iloc[-3:])\n",
    "    prediction = predict.predicted_mean[-n_forecast:]\n",
    "    forecast.append(prediction)\n",
    "\n",
    "df = macro_data['WS101']\n",
    "expected = df[144:57601]\n",
    "prediction = pd.DataFrame(np.concatenate(forecast))\n",
    "MSE = mean_squared_error(expected, prediction)\n",
    "R2 = r2_score(expected, prediction)\n",
    "RMSE = sqrt(mean_squared_error(expected, prediction))\n",
    "MAE = mean_absolute_error(expected, prediction)\n",
    "\n",
    "print(\"MSE:\", MSE)\n",
    "print(\"R2:\", R2)\n",
    "print(\"RMSE:\", RMSE)\n",
    "print(\"MAE:\", MAE)\n"
   ]
  },
  {
   "cell_type": "code",
   "execution_count": null,
   "outputs": [],
   "source": [],
   "metadata": {
    "collapsed": false
   },
   "id": "7db2e72212384aec"
  }
 ],
 "metadata": {
  "kernelspec": {
   "display_name": "Python 3",
   "language": "python",
   "name": "python3"
  },
  "language_info": {
   "codemirror_mode": {
    "name": "ipython",
    "version": 2
   },
   "file_extension": ".py",
   "mimetype": "text/x-python",
   "name": "python",
   "nbconvert_exporter": "python",
   "pygments_lexer": "ipython2",
   "version": "2.7.6"
  }
 },
 "nbformat": 4,
 "nbformat_minor": 5
}
