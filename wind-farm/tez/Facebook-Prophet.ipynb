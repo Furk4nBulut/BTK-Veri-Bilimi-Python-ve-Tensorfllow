{
 "cells": [
  {
   "cell_type": "code",
   "execution_count": 5,
   "id": "initial_id",
   "metadata": {
    "collapsed": true,
    "ExecuteTime": {
     "end_time": "2023-09-16T13:00:45.038541400Z",
     "start_time": "2023-09-16T13:00:44.819261700Z"
    }
   },
   "outputs": [
    {
     "ename": "ValueError",
     "evalue": "Usecols do not match columns, columns expected but not found: ['WS101', 'Name']",
     "output_type": "error",
     "traceback": [
      "\u001B[1;31m---------------------------------------------------------------------------\u001B[0m",
      "\u001B[1;31mValueError\u001B[0m                                Traceback (most recent call last)",
      "Cell \u001B[1;32mIn[5], line 14\u001B[0m\n\u001B[0;32m     11\u001B[0m \u001B[38;5;28;01mfrom\u001B[39;00m \u001B[38;5;21;01mmath\u001B[39;00m \u001B[38;5;28;01mimport\u001B[39;00m sqrt\n\u001B[0;32m     13\u001B[0m \u001B[38;5;66;03m# prophet univariate\u001B[39;00m\n\u001B[1;32m---> 14\u001B[0m all_df \u001B[38;5;241m=\u001B[39m \u001B[43mpd\u001B[49m\u001B[38;5;241;43m.\u001B[39;49m\u001B[43mread_csv\u001B[49m\u001B[43m(\u001B[49m\u001B[38;5;124;43m\"\u001B[39;49m\u001B[38;5;124;43mC:/users/FurkanBulut/Desktop/T1totalclean.csv\u001B[39;49m\u001B[38;5;124;43m\"\u001B[39;49m\u001B[43m,\u001B[49m\u001B[43m \u001B[49m\u001B[43musecols\u001B[49m\u001B[38;5;241;43m=\u001B[39;49m\u001B[43m[\u001B[49m\u001B[38;5;124;43m'\u001B[39;49m\u001B[38;5;124;43mName\u001B[39;49m\u001B[38;5;124;43m'\u001B[39;49m\u001B[43m,\u001B[49m\u001B[43m \u001B[49m\u001B[38;5;124;43m'\u001B[39;49m\u001B[38;5;124;43mWS101\u001B[39;49m\u001B[38;5;124;43m'\u001B[39;49m\u001B[43m]\u001B[49m\u001B[43m)\u001B[49m\n\u001B[0;32m     15\u001B[0m all_df\u001B[38;5;241m.\u001B[39mcolumns \u001B[38;5;241m=\u001B[39m [\u001B[38;5;124m'\u001B[39m\u001B[38;5;124mds\u001B[39m\u001B[38;5;124m'\u001B[39m, \u001B[38;5;124m'\u001B[39m\u001B[38;5;124my\u001B[39m\u001B[38;5;124m'\u001B[39m]\n\u001B[0;32m     16\u001B[0m results \u001B[38;5;241m=\u001B[39m []\n",
      "File \u001B[1;32mc:\\Users\\FurkanBulut\\anaconda3\\envs\\ML\\lib\\site-packages\\pandas\\util\\_decorators.py:211\u001B[0m, in \u001B[0;36mdeprecate_kwarg.<locals>._deprecate_kwarg.<locals>.wrapper\u001B[1;34m(*args, **kwargs)\u001B[0m\n\u001B[0;32m    209\u001B[0m     \u001B[38;5;28;01melse\u001B[39;00m:\n\u001B[0;32m    210\u001B[0m         kwargs[new_arg_name] \u001B[38;5;241m=\u001B[39m new_arg_value\n\u001B[1;32m--> 211\u001B[0m \u001B[38;5;28;01mreturn\u001B[39;00m func(\u001B[38;5;241m*\u001B[39margs, \u001B[38;5;241m*\u001B[39m\u001B[38;5;241m*\u001B[39mkwargs)\n",
      "File \u001B[1;32mc:\\Users\\FurkanBulut\\anaconda3\\envs\\ML\\lib\\site-packages\\pandas\\util\\_decorators.py:331\u001B[0m, in \u001B[0;36mdeprecate_nonkeyword_arguments.<locals>.decorate.<locals>.wrapper\u001B[1;34m(*args, **kwargs)\u001B[0m\n\u001B[0;32m    325\u001B[0m \u001B[38;5;28;01mif\u001B[39;00m \u001B[38;5;28mlen\u001B[39m(args) \u001B[38;5;241m>\u001B[39m num_allow_args:\n\u001B[0;32m    326\u001B[0m     warnings\u001B[38;5;241m.\u001B[39mwarn(\n\u001B[0;32m    327\u001B[0m         msg\u001B[38;5;241m.\u001B[39mformat(arguments\u001B[38;5;241m=\u001B[39m_format_argument_list(allow_args)),\n\u001B[0;32m    328\u001B[0m         \u001B[38;5;167;01mFutureWarning\u001B[39;00m,\n\u001B[0;32m    329\u001B[0m         stacklevel\u001B[38;5;241m=\u001B[39mfind_stack_level(),\n\u001B[0;32m    330\u001B[0m     )\n\u001B[1;32m--> 331\u001B[0m \u001B[38;5;28;01mreturn\u001B[39;00m func(\u001B[38;5;241m*\u001B[39margs, \u001B[38;5;241m*\u001B[39m\u001B[38;5;241m*\u001B[39mkwargs)\n",
      "File \u001B[1;32mc:\\Users\\FurkanBulut\\anaconda3\\envs\\ML\\lib\\site-packages\\pandas\\io\\parsers\\readers.py:950\u001B[0m, in \u001B[0;36mread_csv\u001B[1;34m(filepath_or_buffer, sep, delimiter, header, names, index_col, usecols, squeeze, prefix, mangle_dupe_cols, dtype, engine, converters, true_values, false_values, skipinitialspace, skiprows, skipfooter, nrows, na_values, keep_default_na, na_filter, verbose, skip_blank_lines, parse_dates, infer_datetime_format, keep_date_col, date_parser, dayfirst, cache_dates, iterator, chunksize, compression, thousands, decimal, lineterminator, quotechar, quoting, doublequote, escapechar, comment, encoding, encoding_errors, dialect, error_bad_lines, warn_bad_lines, on_bad_lines, delim_whitespace, low_memory, memory_map, float_precision, storage_options)\u001B[0m\n\u001B[0;32m    935\u001B[0m kwds_defaults \u001B[38;5;241m=\u001B[39m _refine_defaults_read(\n\u001B[0;32m    936\u001B[0m     dialect,\n\u001B[0;32m    937\u001B[0m     delimiter,\n\u001B[1;32m   (...)\u001B[0m\n\u001B[0;32m    946\u001B[0m     defaults\u001B[38;5;241m=\u001B[39m{\u001B[38;5;124m\"\u001B[39m\u001B[38;5;124mdelimiter\u001B[39m\u001B[38;5;124m\"\u001B[39m: \u001B[38;5;124m\"\u001B[39m\u001B[38;5;124m,\u001B[39m\u001B[38;5;124m\"\u001B[39m},\n\u001B[0;32m    947\u001B[0m )\n\u001B[0;32m    948\u001B[0m kwds\u001B[38;5;241m.\u001B[39mupdate(kwds_defaults)\n\u001B[1;32m--> 950\u001B[0m \u001B[38;5;28;01mreturn\u001B[39;00m \u001B[43m_read\u001B[49m\u001B[43m(\u001B[49m\u001B[43mfilepath_or_buffer\u001B[49m\u001B[43m,\u001B[49m\u001B[43m \u001B[49m\u001B[43mkwds\u001B[49m\u001B[43m)\u001B[49m\n",
      "File \u001B[1;32mc:\\Users\\FurkanBulut\\anaconda3\\envs\\ML\\lib\\site-packages\\pandas\\io\\parsers\\readers.py:605\u001B[0m, in \u001B[0;36m_read\u001B[1;34m(filepath_or_buffer, kwds)\u001B[0m\n\u001B[0;32m    602\u001B[0m _validate_names(kwds\u001B[38;5;241m.\u001B[39mget(\u001B[38;5;124m\"\u001B[39m\u001B[38;5;124mnames\u001B[39m\u001B[38;5;124m\"\u001B[39m, \u001B[38;5;28;01mNone\u001B[39;00m))\n\u001B[0;32m    604\u001B[0m \u001B[38;5;66;03m# Create the parser.\u001B[39;00m\n\u001B[1;32m--> 605\u001B[0m parser \u001B[38;5;241m=\u001B[39m TextFileReader(filepath_or_buffer, \u001B[38;5;241m*\u001B[39m\u001B[38;5;241m*\u001B[39mkwds)\n\u001B[0;32m    607\u001B[0m \u001B[38;5;28;01mif\u001B[39;00m chunksize \u001B[38;5;129;01mor\u001B[39;00m iterator:\n\u001B[0;32m    608\u001B[0m     \u001B[38;5;28;01mreturn\u001B[39;00m parser\n",
      "File \u001B[1;32mc:\\Users\\FurkanBulut\\anaconda3\\envs\\ML\\lib\\site-packages\\pandas\\io\\parsers\\readers.py:1442\u001B[0m, in \u001B[0;36mTextFileReader.__init__\u001B[1;34m(self, f, engine, **kwds)\u001B[0m\n\u001B[0;32m   1439\u001B[0m     \u001B[38;5;28mself\u001B[39m\u001B[38;5;241m.\u001B[39moptions[\u001B[38;5;124m\"\u001B[39m\u001B[38;5;124mhas_index_names\u001B[39m\u001B[38;5;124m\"\u001B[39m] \u001B[38;5;241m=\u001B[39m kwds[\u001B[38;5;124m\"\u001B[39m\u001B[38;5;124mhas_index_names\u001B[39m\u001B[38;5;124m\"\u001B[39m]\n\u001B[0;32m   1441\u001B[0m \u001B[38;5;28mself\u001B[39m\u001B[38;5;241m.\u001B[39mhandles: IOHandles \u001B[38;5;241m|\u001B[39m \u001B[38;5;28;01mNone\u001B[39;00m \u001B[38;5;241m=\u001B[39m \u001B[38;5;28;01mNone\u001B[39;00m\n\u001B[1;32m-> 1442\u001B[0m \u001B[38;5;28mself\u001B[39m\u001B[38;5;241m.\u001B[39m_engine \u001B[38;5;241m=\u001B[39m \u001B[38;5;28;43mself\u001B[39;49m\u001B[38;5;241;43m.\u001B[39;49m\u001B[43m_make_engine\u001B[49m\u001B[43m(\u001B[49m\u001B[43mf\u001B[49m\u001B[43m,\u001B[49m\u001B[43m \u001B[49m\u001B[38;5;28;43mself\u001B[39;49m\u001B[38;5;241;43m.\u001B[39;49m\u001B[43mengine\u001B[49m\u001B[43m)\u001B[49m\n",
      "File \u001B[1;32mc:\\Users\\FurkanBulut\\anaconda3\\envs\\ML\\lib\\site-packages\\pandas\\io\\parsers\\readers.py:1753\u001B[0m, in \u001B[0;36mTextFileReader._make_engine\u001B[1;34m(self, f, engine)\u001B[0m\n\u001B[0;32m   1750\u001B[0m     \u001B[38;5;28;01mraise\u001B[39;00m \u001B[38;5;167;01mValueError\u001B[39;00m(msg)\n\u001B[0;32m   1752\u001B[0m \u001B[38;5;28;01mtry\u001B[39;00m:\n\u001B[1;32m-> 1753\u001B[0m     \u001B[38;5;28;01mreturn\u001B[39;00m mapping[engine](f, \u001B[38;5;241m*\u001B[39m\u001B[38;5;241m*\u001B[39m\u001B[38;5;28mself\u001B[39m\u001B[38;5;241m.\u001B[39moptions)\n\u001B[0;32m   1754\u001B[0m \u001B[38;5;28;01mexcept\u001B[39;00m \u001B[38;5;167;01mException\u001B[39;00m:\n\u001B[0;32m   1755\u001B[0m     \u001B[38;5;28;01mif\u001B[39;00m \u001B[38;5;28mself\u001B[39m\u001B[38;5;241m.\u001B[39mhandles \u001B[38;5;129;01mis\u001B[39;00m \u001B[38;5;129;01mnot\u001B[39;00m \u001B[38;5;28;01mNone\u001B[39;00m:\n",
      "File \u001B[1;32mc:\\Users\\FurkanBulut\\anaconda3\\envs\\ML\\lib\\site-packages\\pandas\\io\\parsers\\c_parser_wrapper.py:135\u001B[0m, in \u001B[0;36mCParserWrapper.__init__\u001B[1;34m(self, src, **kwds)\u001B[0m\n\u001B[0;32m    131\u001B[0m \u001B[38;5;28;01massert\u001B[39;00m \u001B[38;5;28mself\u001B[39m\u001B[38;5;241m.\u001B[39morig_names \u001B[38;5;129;01mis\u001B[39;00m \u001B[38;5;129;01mnot\u001B[39;00m \u001B[38;5;28;01mNone\u001B[39;00m\n\u001B[0;32m    132\u001B[0m \u001B[38;5;28;01mif\u001B[39;00m \u001B[38;5;28mself\u001B[39m\u001B[38;5;241m.\u001B[39musecols_dtype \u001B[38;5;241m==\u001B[39m \u001B[38;5;124m\"\u001B[39m\u001B[38;5;124mstring\u001B[39m\u001B[38;5;124m\"\u001B[39m \u001B[38;5;129;01mand\u001B[39;00m \u001B[38;5;129;01mnot\u001B[39;00m \u001B[38;5;28mset\u001B[39m(usecols)\u001B[38;5;241m.\u001B[39missubset(\n\u001B[0;32m    133\u001B[0m     \u001B[38;5;28mself\u001B[39m\u001B[38;5;241m.\u001B[39morig_names\n\u001B[0;32m    134\u001B[0m ):\n\u001B[1;32m--> 135\u001B[0m     \u001B[38;5;28;43mself\u001B[39;49m\u001B[38;5;241;43m.\u001B[39;49m\u001B[43m_validate_usecols_names\u001B[49m\u001B[43m(\u001B[49m\u001B[43musecols\u001B[49m\u001B[43m,\u001B[49m\u001B[43m \u001B[49m\u001B[38;5;28;43mself\u001B[39;49m\u001B[38;5;241;43m.\u001B[39;49m\u001B[43morig_names\u001B[49m\u001B[43m)\u001B[49m\n\u001B[0;32m    137\u001B[0m \u001B[38;5;66;03m# error: Cannot determine type of 'names'\u001B[39;00m\n\u001B[0;32m    138\u001B[0m \u001B[38;5;28;01mif\u001B[39;00m \u001B[38;5;28mlen\u001B[39m(\u001B[38;5;28mself\u001B[39m\u001B[38;5;241m.\u001B[39mnames) \u001B[38;5;241m>\u001B[39m \u001B[38;5;28mlen\u001B[39m(usecols):  \u001B[38;5;66;03m# type: ignore[has-type]\u001B[39;00m\n\u001B[0;32m    139\u001B[0m     \u001B[38;5;66;03m# error: Cannot determine type of 'names'\u001B[39;00m\n",
      "File \u001B[1;32mc:\\Users\\FurkanBulut\\anaconda3\\envs\\ML\\lib\\site-packages\\pandas\\io\\parsers\\base_parser.py:917\u001B[0m, in \u001B[0;36mParserBase._validate_usecols_names\u001B[1;34m(self, usecols, names)\u001B[0m\n\u001B[0;32m    915\u001B[0m missing \u001B[38;5;241m=\u001B[39m [c \u001B[38;5;28;01mfor\u001B[39;00m c \u001B[38;5;129;01min\u001B[39;00m usecols \u001B[38;5;28;01mif\u001B[39;00m c \u001B[38;5;129;01mnot\u001B[39;00m \u001B[38;5;129;01min\u001B[39;00m names]\n\u001B[0;32m    916\u001B[0m \u001B[38;5;28;01mif\u001B[39;00m \u001B[38;5;28mlen\u001B[39m(missing) \u001B[38;5;241m>\u001B[39m \u001B[38;5;241m0\u001B[39m:\n\u001B[1;32m--> 917\u001B[0m     \u001B[38;5;28;01mraise\u001B[39;00m \u001B[38;5;167;01mValueError\u001B[39;00m(\n\u001B[0;32m    918\u001B[0m         \u001B[38;5;124mf\u001B[39m\u001B[38;5;124m\"\u001B[39m\u001B[38;5;124mUsecols do not match columns, columns expected but not found: \u001B[39m\u001B[38;5;124m\"\u001B[39m\n\u001B[0;32m    919\u001B[0m         \u001B[38;5;124mf\u001B[39m\u001B[38;5;124m\"\u001B[39m\u001B[38;5;132;01m{\u001B[39;00mmissing\u001B[38;5;132;01m}\u001B[39;00m\u001B[38;5;124m\"\u001B[39m\n\u001B[0;32m    920\u001B[0m     )\n\u001B[0;32m    922\u001B[0m \u001B[38;5;28;01mreturn\u001B[39;00m usecols\n",
      "\u001B[1;31mValueError\u001B[0m: Usecols do not match columns, columns expected but not found: ['WS101', 'Name']"
     ]
    }
   ],
   "source": [
    "import pandas as pd\n",
    "import numpy as np\n",
    "import xlsxwriter\n",
    "from prophet import Prophet\n",
    "from numpy import concatenate\n",
    "from pandas import read_csv\n",
    "from pandas import DataFrame\n",
    "from pandas import concat\n",
    "from datetime import datetime\n",
    "from sklearn.metrics import mean_squared_error, r2_score, mean_absolute_error\n",
    "from math import sqrt\n",
    "\n",
    "# prophet univariate\n",
    "all_df = pd.read_csv('iztech.csv', usecols=['Name', 'WS101']) # veri seti okundu\n",
    "all_df.columns = ['ds', 'y'] # kolon isimleri değiştirildi\n",
    "results = [] # sonuçların tutulacağı liste oluşturuldu\n",
    "\n",
    "for i in range(0, 57601, 2): # 10 dakikalık verileri 2'şer 2'şer alarak 5 dakikalık veri setleri oluşturuldu\n",
    "    df = all_df[i:i+144] # 5 dakikalık veri seti oluşturuldu\n",
    "    m = Prophet(daily_seasonality=True, weekly_seasonality=True, yearly_seasonality=True) # model oluşturuldu\n",
    "    m.fit(df) # model eğitildi\n",
    "    future = m.make_future_dataframe(periods=144, freq='10 min') # 5 dakikalık gelecek veriler oluşturuldu\n",
    "    forecast = m.predict(future) # gelecek veriler tahmin edildi\n",
    "    result = forecast[['ds', 'yhat']] # tahmin edilen verilerden sadece tarih ve tahmin edilen değerler alındı\n",
    "    result = result.tail(2) # 5 dakikalık gelecek verilerden sadece 1 veri alındı\n",
    "    results.append(result) # sonuçlar listesine eklendi\n",
    "\n",
    "# prophet multivariate\n",
    "train = pd.read_csv('iztech.csv', usecols=['Name', 'WS101', 'RH3', 'T3', 'P2']) # veri seti okundu\n",
    "train.rename(columns={'Name': 'ds', 'RH3': 'add1', 'T3': 'add2', 'P2': 'add3', 'WS101': 'y'}, inplace=True) # kolon isimleri değiştirildi\n",
    "results_multivariate = [] # sonuçların tutulacağı liste oluşturuldu\n",
    "\n",
    "for i in range(0, 57601, 2): # 10 dakikalık verileri 2'şer 2'şer alarak 5 dakikalık veri setleri oluşturuldu\n",
    "    X_train = train.iloc[i:i+144] # 5 dakikalık veri seti oluşturuldu\n",
    "    X_val = train.iloc[i+144:i+146] # 5 dakikalık gelecek veriler oluşturuldu\n",
    "    model = Prophet(daily_seasonality=True, weekly_seasonality=True, yearly_seasonality=True) # model oluşturuldu\n",
    "    model.add_regressor('add1') # modelin kullanacağı ek özellikler belirtildi\n",
    "    model.add_regressor('add2') # modelin kullanacağı ek özellikler belirtildi\n",
    "    model.add_regressor('add3') # modelin kullanacağı ek özellikler belirtildi\n",
    "    model.fit(X_train) # model eğitildi\n",
    "    forecast_1 = model.predict(X_val.drop(columns=\"y\")) # gelecek veriler tahmin edildi\n",
    "    result_1 = forecast_1[['ds', 'yhat']] # tahmin edilen verilerden sadece tarih ve tahmin edilen değerler alındı\n",
    "    results_multivariate.append(result_1) # sonuçlar listesine eklendi\n",
    "\n",
    "# Create Pandas dataframes from forecasts\n",
    "df1 = pd.read_csv('iztech.csv', usecols=['Name', 'T3']) # veri seti okundu\n",
    "df1.columns = ['ds', 'y'] # kolon isimleri değiştirildi\n",
    "df1 = df1[144:57601] # 5 dakikalık gelecek verilerden sadece 1 veri alındı\n",
    "df1 = pd.DataFrame(df1) # veri seti dataframe'e çevrildi\n",
    "df2 = pd.DataFrame(np.concatenate(results), columns=['ds', 'yhat']) # sonuçlar listesi dataframe'e çevrildi\n",
    "df3 = pd.DataFrame(np.concatenate(results_multivariate), columns=['ds', 'yhat']) # sonuçlar listesi dataframe'e çevrildi\n",
    "expected = df1['y'] # gerçek değerler alındı\n",
    "prediction_multi = df2['yhat'] # tahmin edilen değerler alındı\n",
    "prediction_uni = df3['yhat'] # tahmin edilen değerler alındı\n",
    "\n",
    "MSE_multi = mean_squared_error(expected, prediction_multi) # çok değişkenli modelin hata değerleri hesaplandı\n",
    "R2_multi = r2_score(expected, prediction_multi) # çok değişkenli modelin hata değerleri hesaplandı\n",
    "RMSE_multi = sqrt(mean_squared_error(expected, prediction_multi)) # çok değişkenli modelin hata değerleri hesaplandı\n",
    "MAE_multi = mean_absolute_error(expected, prediction_multi) # çok değişkenli modelin hata değerleri hesaplandı\n",
    "\n",
    "print(\"MSE Multi:\", MSE_multi) # çok değişkenli modelin hata değerleri ekrana yazdırıldı\n",
    "print(\"R2 Multi:\", R2_multi) # çok değişkenli modelin hata değerleri ekrana yazdırıldı\n",
    "print(\"RMSE Multi:\", RMSE_multi)  # çok değişkenli modelin hata değerleri ekrana yazdırıldı \n",
    "print(\"MAE Multi:\", MAE_multi) # çok değişkenli modelin hata değerleri ekrana yazdırıldı\n"
   ]
  },
  {
   "cell_type": "code",
   "execution_count": null,
   "outputs": [],
   "source": [],
   "metadata": {
    "collapsed": false
   },
   "id": "65826152053536f9"
  }
 ],
 "metadata": {
  "kernelspec": {
   "display_name": "Python 3",
   "language": "python",
   "name": "python3"
  },
  "language_info": {
   "codemirror_mode": {
    "name": "ipython",
    "version": 2
   },
   "file_extension": ".py",
   "mimetype": "text/x-python",
   "name": "python",
   "nbconvert_exporter": "python",
   "pygments_lexer": "ipython2",
   "version": "2.7.6"
  }
 },
 "nbformat": 4,
 "nbformat_minor": 5
}
