{
 "cells": [
  {
   "cell_type": "markdown",
   "source": [
    "Kütüphaneler"
   ],
   "metadata": {
    "collapsed": false
   },
   "id": "126e3e7be1b87312"
  },
  {
   "cell_type": "code",
   "execution_count": 182,
   "outputs": [],
   "source": [
    "import pandas as pd\n",
    "import numpy as np\n",
    "import matplotlib.pyplot as plt"
   ],
   "metadata": {
    "collapsed": false,
    "ExecuteTime": {
     "end_time": "2023-09-16T11:20:04.116103900Z",
     "start_time": "2023-09-16T11:20:03.796008Z"
    }
   },
   "id": "ec8f0c52adcd9028"
  },
  {
   "cell_type": "markdown",
   "source": [
    "Veri Önişleme"
   ],
   "metadata": {
    "collapsed": false
   },
   "id": "64e23cdccc7240c"
  },
  {
   "cell_type": "code",
   "execution_count": 183,
   "outputs": [
    {
     "data": {
      "text/plain": "                     Unnamed: 0  windspeed       power  winddirection  \\\ntimestamp                                                               \n2019-01-01 00:00:00           0        5.2  180.899994     147.600006   \n2019-01-01 00:10:00           1        5.4  213.300003     138.600006   \n2019-01-01 00:20:00           2        5.0  164.100006     141.500000   \n2019-01-01 00:30:00           3        3.5   21.799999     132.000000   \n2019-01-01 00:40:00           4        3.8   48.299999     136.899994   \n\n                     PitchAngle  temperature  \ntimestamp                                     \n2019-01-01 00:00:00        -1.8          5.0  \n2019-01-01 00:10:00        -2.1          5.0  \n2019-01-01 00:20:00        -1.7          5.0  \n2019-01-01 00:30:00         0.6          5.0  \n2019-01-01 00:40:00         0.0          5.0  ",
      "text/html": "<div>\n<style scoped>\n    .dataframe tbody tr th:only-of-type {\n        vertical-align: middle;\n    }\n\n    .dataframe tbody tr th {\n        vertical-align: top;\n    }\n\n    .dataframe thead th {\n        text-align: right;\n    }\n</style>\n<table border=\"1\" class=\"dataframe\">\n  <thead>\n    <tr style=\"text-align: right;\">\n      <th></th>\n      <th>Unnamed: 0</th>\n      <th>windspeed</th>\n      <th>power</th>\n      <th>winddirection</th>\n      <th>PitchAngle</th>\n      <th>temperature</th>\n    </tr>\n    <tr>\n      <th>timestamp</th>\n      <th></th>\n      <th></th>\n      <th></th>\n      <th></th>\n      <th></th>\n      <th></th>\n    </tr>\n  </thead>\n  <tbody>\n    <tr>\n      <th>2019-01-01 00:00:00</th>\n      <td>0</td>\n      <td>5.2</td>\n      <td>180.899994</td>\n      <td>147.600006</td>\n      <td>-1.8</td>\n      <td>5.0</td>\n    </tr>\n    <tr>\n      <th>2019-01-01 00:10:00</th>\n      <td>1</td>\n      <td>5.4</td>\n      <td>213.300003</td>\n      <td>138.600006</td>\n      <td>-2.1</td>\n      <td>5.0</td>\n    </tr>\n    <tr>\n      <th>2019-01-01 00:20:00</th>\n      <td>2</td>\n      <td>5.0</td>\n      <td>164.100006</td>\n      <td>141.500000</td>\n      <td>-1.7</td>\n      <td>5.0</td>\n    </tr>\n    <tr>\n      <th>2019-01-01 00:30:00</th>\n      <td>3</td>\n      <td>3.5</td>\n      <td>21.799999</td>\n      <td>132.000000</td>\n      <td>0.6</td>\n      <td>5.0</td>\n    </tr>\n    <tr>\n      <th>2019-01-01 00:40:00</th>\n      <td>4</td>\n      <td>3.8</td>\n      <td>48.299999</td>\n      <td>136.899994</td>\n      <td>0.0</td>\n      <td>5.0</td>\n    </tr>\n  </tbody>\n</table>\n</div>"
     },
     "execution_count": 183,
     "metadata": {},
     "output_type": "execute_result"
    }
   ],
   "source": [
    "df= pd.read_csv(\"C:/users/FurkanBulut/Desktop/T1totalclean.csv\",index_col=\"timestamp\",parse_dates=True) #timestamp sütununu index olarak atadık, parse_dates ile de tarih formatına çevirdik\n",
    "df.head() #veri setimizi gözlemledik"
   ],
   "metadata": {
    "collapsed": false,
    "ExecuteTime": {
     "end_time": "2023-09-16T11:20:04.225839500Z",
     "start_time": "2023-09-16T11:20:03.811124300Z"
    }
   },
   "id": "99192ed1d7e04741"
  },
  {
   "cell_type": "code",
   "execution_count": 184,
   "outputs": [],
   "source": [
    "df['WindSpeedCube'] = df['windspeed']**3 #rüzgar hızının küpünü aldık"
   ],
   "metadata": {
    "collapsed": false,
    "ExecuteTime": {
     "end_time": "2023-09-16T11:20:04.225839500Z",
     "start_time": "2023-09-16T11:20:04.046207800Z"
    }
   },
   "id": "6535806787f77f8f"
  },
  {
   "cell_type": "code",
   "execution_count": 185,
   "outputs": [
    {
     "data": {
      "text/plain": "                     windspeed  winddirection  PitchAngle  temperature  \\\ntimestamp                                                                \n2019-01-01 00:00:00        5.2     147.600006        -1.8          5.0   \n2019-01-01 00:10:00        5.4     138.600006        -2.1          5.0   \n2019-01-01 00:20:00        5.0     141.500000        -1.7          5.0   \n2019-01-01 00:30:00        3.5     132.000000         0.6          5.0   \n2019-01-01 00:40:00        3.8     136.899994         0.0          5.0   \n\n                     WindSpeedCube       power  \ntimestamp                                       \n2019-01-01 00:00:00        140.608  180.899994  \n2019-01-01 00:10:00        157.464  213.300003  \n2019-01-01 00:20:00        125.000  164.100006  \n2019-01-01 00:30:00         42.875   21.799999  \n2019-01-01 00:40:00         54.872   48.299999  ",
      "text/html": "<div>\n<style scoped>\n    .dataframe tbody tr th:only-of-type {\n        vertical-align: middle;\n    }\n\n    .dataframe tbody tr th {\n        vertical-align: top;\n    }\n\n    .dataframe thead th {\n        text-align: right;\n    }\n</style>\n<table border=\"1\" class=\"dataframe\">\n  <thead>\n    <tr style=\"text-align: right;\">\n      <th></th>\n      <th>windspeed</th>\n      <th>winddirection</th>\n      <th>PitchAngle</th>\n      <th>temperature</th>\n      <th>WindSpeedCube</th>\n      <th>power</th>\n    </tr>\n    <tr>\n      <th>timestamp</th>\n      <th></th>\n      <th></th>\n      <th></th>\n      <th></th>\n      <th></th>\n      <th></th>\n    </tr>\n  </thead>\n  <tbody>\n    <tr>\n      <th>2019-01-01 00:00:00</th>\n      <td>5.2</td>\n      <td>147.600006</td>\n      <td>-1.8</td>\n      <td>5.0</td>\n      <td>140.608</td>\n      <td>180.899994</td>\n    </tr>\n    <tr>\n      <th>2019-01-01 00:10:00</th>\n      <td>5.4</td>\n      <td>138.600006</td>\n      <td>-2.1</td>\n      <td>5.0</td>\n      <td>157.464</td>\n      <td>213.300003</td>\n    </tr>\n    <tr>\n      <th>2019-01-01 00:20:00</th>\n      <td>5.0</td>\n      <td>141.500000</td>\n      <td>-1.7</td>\n      <td>5.0</td>\n      <td>125.000</td>\n      <td>164.100006</td>\n    </tr>\n    <tr>\n      <th>2019-01-01 00:30:00</th>\n      <td>3.5</td>\n      <td>132.000000</td>\n      <td>0.6</td>\n      <td>5.0</td>\n      <td>42.875</td>\n      <td>21.799999</td>\n    </tr>\n    <tr>\n      <th>2019-01-01 00:40:00</th>\n      <td>3.8</td>\n      <td>136.899994</td>\n      <td>0.0</td>\n      <td>5.0</td>\n      <td>54.872</td>\n      <td>48.299999</td>\n    </tr>\n  </tbody>\n</table>\n</div>"
     },
     "execution_count": 185,
     "metadata": {},
     "output_type": "execute_result"
    }
   ],
   "source": [
    "df = df[[\"windspeed\",\"winddirection\",\"PitchAngle\",\"temperature\",\"WindSpeedCube\",\"power\"]] #sadece bu sütunları aldık\n",
    "df.head() #veri setimizi gözlemledik"
   ],
   "metadata": {
    "collapsed": false,
    "ExecuteTime": {
     "end_time": "2023-09-16T11:20:04.225839500Z",
     "start_time": "2023-09-16T11:20:04.065806300Z"
    }
   },
   "id": "73018933fbfcaacd"
  },
  {
   "cell_type": "code",
   "execution_count": 186,
   "outputs": [
    {
     "data": {
      "text/plain": "windspeed        0\nwinddirection    0\nPitchAngle       0\ntemperature      0\nWindSpeedCube    0\npower            0\ndtype: int64"
     },
     "execution_count": 186,
     "metadata": {},
     "output_type": "execute_result"
    }
   ],
   "source": [
    "df.isnull().sum() #eksik veri kontrolü yaptık"
   ],
   "metadata": {
    "collapsed": false,
    "ExecuteTime": {
     "end_time": "2023-09-16T11:20:04.225839500Z",
     "start_time": "2023-09-16T11:20:04.095713Z"
    }
   },
   "id": "43c926f2c3cf6cb0"
  },
  {
   "cell_type": "code",
   "execution_count": 187,
   "outputs": [
    {
     "data": {
      "text/plain": "<bound method NDFrame.describe of                      windspeed  winddirection  PitchAngle  temperature  \\\ntimestamp                                                                \n2019-01-01 00:00:00        5.2     147.600006        -1.8          5.0   \n2019-01-01 00:10:00        5.4     138.600006        -2.1          5.0   \n2019-01-01 00:20:00        5.0     141.500000        -1.7          5.0   \n2019-01-01 00:30:00        3.5     132.000000         0.6          5.0   \n2019-01-01 00:40:00        3.8     136.899994         0.0          5.0   \n...                        ...            ...         ...          ...   \n2022-08-31 23:10:00        6.9     343.500000        -2.5         23.0   \n2022-08-31 23:20:00        6.4     333.799988        -1.9         23.0   \n2022-08-31 23:30:00        6.4     335.100006        -2.6         23.0   \n2022-08-31 23:40:00        5.9     340.600006        -2.4         23.0   \n2022-08-31 23:50:00        6.3     339.799988        -2.5         23.0   \n\n                     WindSpeedCube       power  \ntimestamp                                       \n2019-01-01 00:00:00        140.608  180.899994  \n2019-01-01 00:10:00        157.464  213.300003  \n2019-01-01 00:20:00        125.000  164.100006  \n2019-01-01 00:30:00         42.875   21.799999  \n2019-01-01 00:40:00         54.872   48.299999  \n...                            ...         ...  \n2022-08-31 23:10:00        328.509  452.000000  \n2022-08-31 23:20:00        262.144  342.000000  \n2022-08-31 23:30:00        262.144  348.700012  \n2022-08-31 23:40:00        205.379  263.100006  \n2022-08-31 23:50:00        250.047  324.100006  \n\n[177345 rows x 6 columns]>"
     },
     "execution_count": 187,
     "metadata": {},
     "output_type": "execute_result"
    }
   ],
   "source": [
    "df = df.fillna(df.mean()) #eksik verileri ortalama ile doldurduk\n",
    "df.loc[df[\"power\"]<0,\"power\"] = 0 #güç değeri 0'dan küçük olanları 0'a eşitledik\n",
    "df.describe #veri setimizi gözlemledik"
   ],
   "metadata": {
    "collapsed": false,
    "ExecuteTime": {
     "end_time": "2023-09-16T11:20:04.225839500Z",
     "start_time": "2023-09-16T11:20:04.109484200Z"
    }
   },
   "id": "812ea07307e02929"
  },
  {
   "cell_type": "code",
   "execution_count": 188,
   "outputs": [
    {
     "data": {
      "text/plain": "                     windspeed  winddirection  PitchAngle  temperature  \\\ntimestamp                                                                \n2019-01-01 00:00:00        5.2     147.600006        -1.8          5.0   \n2019-01-01 00:10:00        5.4     138.600006        -2.1          5.0   \n2019-01-01 00:20:00        5.0     141.500000        -1.7          5.0   \n2019-01-01 00:30:00        3.5     132.000000         0.6          5.0   \n2019-01-01 00:40:00        3.8     136.899994         0.0          5.0   \n\n                     WindSpeedCube       power  \ntimestamp                                       \n2019-01-01 00:00:00        140.608  180.899994  \n2019-01-01 00:10:00        157.464  213.300003  \n2019-01-01 00:20:00        125.000  164.100006  \n2019-01-01 00:30:00         42.875   21.799999  \n2019-01-01 00:40:00         54.872   48.299999  ",
      "text/html": "<div>\n<style scoped>\n    .dataframe tbody tr th:only-of-type {\n        vertical-align: middle;\n    }\n\n    .dataframe tbody tr th {\n        vertical-align: top;\n    }\n\n    .dataframe thead th {\n        text-align: right;\n    }\n</style>\n<table border=\"1\" class=\"dataframe\">\n  <thead>\n    <tr style=\"text-align: right;\">\n      <th></th>\n      <th>windspeed</th>\n      <th>winddirection</th>\n      <th>PitchAngle</th>\n      <th>temperature</th>\n      <th>WindSpeedCube</th>\n      <th>power</th>\n    </tr>\n    <tr>\n      <th>timestamp</th>\n      <th></th>\n      <th></th>\n      <th></th>\n      <th></th>\n      <th></th>\n      <th></th>\n    </tr>\n  </thead>\n  <tbody>\n    <tr>\n      <th>2019-01-01 00:00:00</th>\n      <td>5.2</td>\n      <td>147.600006</td>\n      <td>-1.8</td>\n      <td>5.0</td>\n      <td>140.608</td>\n      <td>180.899994</td>\n    </tr>\n    <tr>\n      <th>2019-01-01 00:10:00</th>\n      <td>5.4</td>\n      <td>138.600006</td>\n      <td>-2.1</td>\n      <td>5.0</td>\n      <td>157.464</td>\n      <td>213.300003</td>\n    </tr>\n    <tr>\n      <th>2019-01-01 00:20:00</th>\n      <td>5.0</td>\n      <td>141.500000</td>\n      <td>-1.7</td>\n      <td>5.0</td>\n      <td>125.000</td>\n      <td>164.100006</td>\n    </tr>\n    <tr>\n      <th>2019-01-01 00:30:00</th>\n      <td>3.5</td>\n      <td>132.000000</td>\n      <td>0.6</td>\n      <td>5.0</td>\n      <td>42.875</td>\n      <td>21.799999</td>\n    </tr>\n    <tr>\n      <th>2019-01-01 00:40:00</th>\n      <td>3.8</td>\n      <td>136.899994</td>\n      <td>0.0</td>\n      <td>5.0</td>\n      <td>54.872</td>\n      <td>48.299999</td>\n    </tr>\n  </tbody>\n</table>\n</div>"
     },
     "execution_count": 188,
     "metadata": {},
     "output_type": "execute_result"
    }
   ],
   "source": [
    "def x_y_compenent(wind_direction,wind_speed): #rüzgar yönü ve hızından x ve y bileşenlerini hesaplayan fonksiyon\n",
    "    radians =  (wind_direction * np.pi) / 180 #rüzgar yönünü radyana çevirdik\n",
    "    x = wind_speed * np.cos(radians) #x bileşenini hesapladık\n",
    "    y = wind_speed * np.sin(radians) #y bileşenini hesapladık\n",
    "    return x,y #x ve y bileşenlerini döndürdük\n",
    "\n",
    "df.head() #veri setimizi gözlemledik"
   ],
   "metadata": {
    "collapsed": false,
    "ExecuteTime": {
     "end_time": "2023-09-16T11:20:04.225839500Z",
     "start_time": "2023-09-16T11:20:04.146063800Z"
    }
   },
   "id": "e7ec38b6352b2b03"
  },
  {
   "cell_type": "code",
   "execution_count": 189,
   "outputs": [
    {
     "data": {
      "text/plain": "                     windspeed  winddirection  PitchAngle  temperature  \\\ntimestamp                                                                \n2019-01-01 00:00:00        5.2     147.600006        -1.8          5.0   \n2019-01-01 00:10:00        5.4     138.600006        -2.1          5.0   \n2019-01-01 00:20:00        5.0     141.500000        -1.7          5.0   \n2019-01-01 00:30:00        3.5     132.000000         0.6          5.0   \n2019-01-01 00:40:00        3.8     136.899994         0.0          5.0   \n\n                     WindSpeedCube       power     x_com     y_com  \ntimestamp                                                           \n2019-01-01 00:00:00        140.608  180.899994 -4.390506  2.786299  \n2019-01-01 00:10:00        157.464  213.300003 -4.050600  3.571084  \n2019-01-01 00:20:00        125.000  164.100006 -3.913041  3.112573  \n2019-01-01 00:30:00         42.875   21.799999 -2.341957  2.601007  \n2019-01-01 00:40:00         54.872   48.299999 -2.774616  2.596441  ",
      "text/html": "<div>\n<style scoped>\n    .dataframe tbody tr th:only-of-type {\n        vertical-align: middle;\n    }\n\n    .dataframe tbody tr th {\n        vertical-align: top;\n    }\n\n    .dataframe thead th {\n        text-align: right;\n    }\n</style>\n<table border=\"1\" class=\"dataframe\">\n  <thead>\n    <tr style=\"text-align: right;\">\n      <th></th>\n      <th>windspeed</th>\n      <th>winddirection</th>\n      <th>PitchAngle</th>\n      <th>temperature</th>\n      <th>WindSpeedCube</th>\n      <th>power</th>\n      <th>x_com</th>\n      <th>y_com</th>\n    </tr>\n    <tr>\n      <th>timestamp</th>\n      <th></th>\n      <th></th>\n      <th></th>\n      <th></th>\n      <th></th>\n      <th></th>\n      <th></th>\n      <th></th>\n    </tr>\n  </thead>\n  <tbody>\n    <tr>\n      <th>2019-01-01 00:00:00</th>\n      <td>5.2</td>\n      <td>147.600006</td>\n      <td>-1.8</td>\n      <td>5.0</td>\n      <td>140.608</td>\n      <td>180.899994</td>\n      <td>-4.390506</td>\n      <td>2.786299</td>\n    </tr>\n    <tr>\n      <th>2019-01-01 00:10:00</th>\n      <td>5.4</td>\n      <td>138.600006</td>\n      <td>-2.1</td>\n      <td>5.0</td>\n      <td>157.464</td>\n      <td>213.300003</td>\n      <td>-4.050600</td>\n      <td>3.571084</td>\n    </tr>\n    <tr>\n      <th>2019-01-01 00:20:00</th>\n      <td>5.0</td>\n      <td>141.500000</td>\n      <td>-1.7</td>\n      <td>5.0</td>\n      <td>125.000</td>\n      <td>164.100006</td>\n      <td>-3.913041</td>\n      <td>3.112573</td>\n    </tr>\n    <tr>\n      <th>2019-01-01 00:30:00</th>\n      <td>3.5</td>\n      <td>132.000000</td>\n      <td>0.6</td>\n      <td>5.0</td>\n      <td>42.875</td>\n      <td>21.799999</td>\n      <td>-2.341957</td>\n      <td>2.601007</td>\n    </tr>\n    <tr>\n      <th>2019-01-01 00:40:00</th>\n      <td>3.8</td>\n      <td>136.899994</td>\n      <td>0.0</td>\n      <td>5.0</td>\n      <td>54.872</td>\n      <td>48.299999</td>\n      <td>-2.774616</td>\n      <td>2.596441</td>\n    </tr>\n  </tbody>\n</table>\n</div>"
     },
     "execution_count": 189,
     "metadata": {},
     "output_type": "execute_result"
    }
   ],
   "source": [
    "df[\"x_com\"],df[\"y_com\"] = x_y_compenent(df[\"winddirection\"],df[\"windspeed\"]) #x ve y bileşenlerini veri setimize ekledik\n",
    "df.head() #veri setimizi gözlemledik"
   ],
   "metadata": {
    "collapsed": false,
    "ExecuteTime": {
     "end_time": "2023-09-16T11:20:04.225839500Z",
     "start_time": "2023-09-16T11:20:04.156737300Z"
    }
   },
   "id": "7367ad9cdaf849cd"
  },
  {
   "cell_type": "code",
   "execution_count": 190,
   "outputs": [
    {
     "data": {
      "text/plain": "                     windspeed  winddirection  PitchAngle  temperature  \\\ntimestamp                                                                \n2019-01-01 00:00:00        5.2     147.600006        -1.8          5.0   \n2019-01-01 00:10:00        5.4     138.600006        -2.1          5.0   \n2019-01-01 00:20:00        5.0     141.500000        -1.7          5.0   \n2019-01-01 00:30:00        3.5     132.000000         0.6          5.0   \n2019-01-01 00:40:00        3.8     136.899994         0.0          5.0   \n\n                     WindSpeedCube       power     x_com     y_com  Hour  \\\ntimestamp                                                                  \n2019-01-01 00:00:00        140.608  180.899994 -4.390506  2.786299     0   \n2019-01-01 00:10:00        157.464  213.300003 -4.050600  3.571084     0   \n2019-01-01 00:20:00        125.000  164.100006 -3.913041  3.112573     0   \n2019-01-01 00:30:00         42.875   21.799999 -2.341957  2.601007     0   \n2019-01-01 00:40:00         54.872   48.299999 -2.774616  2.596441     0   \n\n                     Month  DayOfWeek  \ntimestamp                              \n2019-01-01 00:00:00      1          1  \n2019-01-01 00:10:00      1          1  \n2019-01-01 00:20:00      1          1  \n2019-01-01 00:30:00      1          1  \n2019-01-01 00:40:00      1          1  ",
      "text/html": "<div>\n<style scoped>\n    .dataframe tbody tr th:only-of-type {\n        vertical-align: middle;\n    }\n\n    .dataframe tbody tr th {\n        vertical-align: top;\n    }\n\n    .dataframe thead th {\n        text-align: right;\n    }\n</style>\n<table border=\"1\" class=\"dataframe\">\n  <thead>\n    <tr style=\"text-align: right;\">\n      <th></th>\n      <th>windspeed</th>\n      <th>winddirection</th>\n      <th>PitchAngle</th>\n      <th>temperature</th>\n      <th>WindSpeedCube</th>\n      <th>power</th>\n      <th>x_com</th>\n      <th>y_com</th>\n      <th>Hour</th>\n      <th>Month</th>\n      <th>DayOfWeek</th>\n    </tr>\n    <tr>\n      <th>timestamp</th>\n      <th></th>\n      <th></th>\n      <th></th>\n      <th></th>\n      <th></th>\n      <th></th>\n      <th></th>\n      <th></th>\n      <th></th>\n      <th></th>\n      <th></th>\n    </tr>\n  </thead>\n  <tbody>\n    <tr>\n      <th>2019-01-01 00:00:00</th>\n      <td>5.2</td>\n      <td>147.600006</td>\n      <td>-1.8</td>\n      <td>5.0</td>\n      <td>140.608</td>\n      <td>180.899994</td>\n      <td>-4.390506</td>\n      <td>2.786299</td>\n      <td>0</td>\n      <td>1</td>\n      <td>1</td>\n    </tr>\n    <tr>\n      <th>2019-01-01 00:10:00</th>\n      <td>5.4</td>\n      <td>138.600006</td>\n      <td>-2.1</td>\n      <td>5.0</td>\n      <td>157.464</td>\n      <td>213.300003</td>\n      <td>-4.050600</td>\n      <td>3.571084</td>\n      <td>0</td>\n      <td>1</td>\n      <td>1</td>\n    </tr>\n    <tr>\n      <th>2019-01-01 00:20:00</th>\n      <td>5.0</td>\n      <td>141.500000</td>\n      <td>-1.7</td>\n      <td>5.0</td>\n      <td>125.000</td>\n      <td>164.100006</td>\n      <td>-3.913041</td>\n      <td>3.112573</td>\n      <td>0</td>\n      <td>1</td>\n      <td>1</td>\n    </tr>\n    <tr>\n      <th>2019-01-01 00:30:00</th>\n      <td>3.5</td>\n      <td>132.000000</td>\n      <td>0.6</td>\n      <td>5.0</td>\n      <td>42.875</td>\n      <td>21.799999</td>\n      <td>-2.341957</td>\n      <td>2.601007</td>\n      <td>0</td>\n      <td>1</td>\n      <td>1</td>\n    </tr>\n    <tr>\n      <th>2019-01-01 00:40:00</th>\n      <td>3.8</td>\n      <td>136.899994</td>\n      <td>0.0</td>\n      <td>5.0</td>\n      <td>54.872</td>\n      <td>48.299999</td>\n      <td>-2.774616</td>\n      <td>2.596441</td>\n      <td>0</td>\n      <td>1</td>\n      <td>1</td>\n    </tr>\n  </tbody>\n</table>\n</div>"
     },
     "execution_count": 190,
     "metadata": {},
     "output_type": "execute_result"
    }
   ],
   "source": [
    "df[\"Hour\"] = df.index.hour #saat bilgisini veri setimize ekledik\n",
    "df[\"Month\"] = df.index.month #ay bilgisini veri setimize ekledik\n",
    "df[\"DayOfWeek\"] = df.index.dayofweek #haftanın günü bilgisini veri setimize ekledik\n",
    "df.head() #veri setimizi gözlemledik"
   ],
   "metadata": {
    "collapsed": false,
    "ExecuteTime": {
     "end_time": "2023-09-16T11:20:04.225839500Z",
     "start_time": "2023-09-16T11:20:04.189996700Z"
    }
   },
   "id": "8d38e3aa1ea1632c"
  },
  {
   "cell_type": "code",
   "execution_count": 191,
   "outputs": [
    {
     "data": {
      "text/plain": "                     windspeed  winddirection  PitchAngle  temperature  \\\ntimestamp                                                                \n2019-01-01 00:00:00        5.2     147.600006        -1.8          5.0   \n2019-01-01 00:10:00        5.4     138.600006        -2.1          5.0   \n2019-01-01 00:20:00        5.0     141.500000        -1.7          5.0   \n2019-01-01 00:30:00        3.5     132.000000         0.6          5.0   \n2019-01-01 00:40:00        3.8     136.899994         0.0          5.0   \n\n                     WindSpeedCube       power     x_com     y_com  Hour  \\\ntimestamp                                                                  \n2019-01-01 00:00:00        140.608  180.899994 -4.390506  2.786299     0   \n2019-01-01 00:10:00        157.464  213.300003 -4.050600  3.571084     0   \n2019-01-01 00:20:00        125.000  164.100006 -3.913041  3.112573     0   \n2019-01-01 00:30:00         42.875   21.799999 -2.341957  2.601007     0   \n2019-01-01 00:40:00         54.872   48.299999 -2.774616  2.596441     0   \n\n                     Month  DayOfWeek  WindSpeedRollingMean  PowerRollingMean  \ntimestamp                                                                      \n2019-01-01 00:00:00      1          1                   NaN               NaN  \n2019-01-01 00:10:00      1          1                   NaN               NaN  \n2019-01-01 00:20:00      1          1                   NaN               NaN  \n2019-01-01 00:30:00      1          1                   NaN               NaN  \n2019-01-01 00:40:00      1          1                   NaN               NaN  ",
      "text/html": "<div>\n<style scoped>\n    .dataframe tbody tr th:only-of-type {\n        vertical-align: middle;\n    }\n\n    .dataframe tbody tr th {\n        vertical-align: top;\n    }\n\n    .dataframe thead th {\n        text-align: right;\n    }\n</style>\n<table border=\"1\" class=\"dataframe\">\n  <thead>\n    <tr style=\"text-align: right;\">\n      <th></th>\n      <th>windspeed</th>\n      <th>winddirection</th>\n      <th>PitchAngle</th>\n      <th>temperature</th>\n      <th>WindSpeedCube</th>\n      <th>power</th>\n      <th>x_com</th>\n      <th>y_com</th>\n      <th>Hour</th>\n      <th>Month</th>\n      <th>DayOfWeek</th>\n      <th>WindSpeedRollingMean</th>\n      <th>PowerRollingMean</th>\n    </tr>\n    <tr>\n      <th>timestamp</th>\n      <th></th>\n      <th></th>\n      <th></th>\n      <th></th>\n      <th></th>\n      <th></th>\n      <th></th>\n      <th></th>\n      <th></th>\n      <th></th>\n      <th></th>\n      <th></th>\n      <th></th>\n    </tr>\n  </thead>\n  <tbody>\n    <tr>\n      <th>2019-01-01 00:00:00</th>\n      <td>5.2</td>\n      <td>147.600006</td>\n      <td>-1.8</td>\n      <td>5.0</td>\n      <td>140.608</td>\n      <td>180.899994</td>\n      <td>-4.390506</td>\n      <td>2.786299</td>\n      <td>0</td>\n      <td>1</td>\n      <td>1</td>\n      <td>NaN</td>\n      <td>NaN</td>\n    </tr>\n    <tr>\n      <th>2019-01-01 00:10:00</th>\n      <td>5.4</td>\n      <td>138.600006</td>\n      <td>-2.1</td>\n      <td>5.0</td>\n      <td>157.464</td>\n      <td>213.300003</td>\n      <td>-4.050600</td>\n      <td>3.571084</td>\n      <td>0</td>\n      <td>1</td>\n      <td>1</td>\n      <td>NaN</td>\n      <td>NaN</td>\n    </tr>\n    <tr>\n      <th>2019-01-01 00:20:00</th>\n      <td>5.0</td>\n      <td>141.500000</td>\n      <td>-1.7</td>\n      <td>5.0</td>\n      <td>125.000</td>\n      <td>164.100006</td>\n      <td>-3.913041</td>\n      <td>3.112573</td>\n      <td>0</td>\n      <td>1</td>\n      <td>1</td>\n      <td>NaN</td>\n      <td>NaN</td>\n    </tr>\n    <tr>\n      <th>2019-01-01 00:30:00</th>\n      <td>3.5</td>\n      <td>132.000000</td>\n      <td>0.6</td>\n      <td>5.0</td>\n      <td>42.875</td>\n      <td>21.799999</td>\n      <td>-2.341957</td>\n      <td>2.601007</td>\n      <td>0</td>\n      <td>1</td>\n      <td>1</td>\n      <td>NaN</td>\n      <td>NaN</td>\n    </tr>\n    <tr>\n      <th>2019-01-01 00:40:00</th>\n      <td>3.8</td>\n      <td>136.899994</td>\n      <td>0.0</td>\n      <td>5.0</td>\n      <td>54.872</td>\n      <td>48.299999</td>\n      <td>-2.774616</td>\n      <td>2.596441</td>\n      <td>0</td>\n      <td>1</td>\n      <td>1</td>\n      <td>NaN</td>\n      <td>NaN</td>\n    </tr>\n  </tbody>\n</table>\n</div>"
     },
     "execution_count": 191,
     "metadata": {},
     "output_type": "execute_result"
    }
   ],
   "source": [
    "df[\"WindSpeedRollingMean\"] = df[\"windspeed\"].rolling(window=24).mean() #rüzgar hızının 24 saatlik hareketli ortalamasını aldık\n",
    "df[\"PowerRollingMean\"]=df[\"power\"].rolling(window=24).mean() #gücün 24 saatlik hareketli ortalamasını aldık\n",
    "df.head() #veri setimizi gözlemledik"
   ],
   "metadata": {
    "collapsed": false,
    "ExecuteTime": {
     "end_time": "2023-09-16T11:20:04.366206600Z",
     "start_time": "2023-09-16T11:20:04.225839500Z"
    }
   },
   "id": "1aad9bc07c2c81da"
  },
  {
   "cell_type": "code",
   "execution_count": 192,
   "outputs": [
    {
     "data": {
      "text/plain": "                     windspeed  winddirection  PitchAngle  temperature  \\\ntimestamp                                                                \n2019-01-01 00:00:00        5.2     147.600006        -1.8          5.0   \n2019-01-01 00:10:00        5.4     138.600006        -2.1          5.0   \n2019-01-01 00:20:00        5.0     141.500000        -1.7          5.0   \n2019-01-01 00:30:00        3.5     132.000000         0.6          5.0   \n2019-01-01 00:40:00        3.8     136.899994         0.0          5.0   \n\n                     WindSpeedCube       power     x_com     y_com  Hour  \\\ntimestamp                                                                  \n2019-01-01 00:00:00        140.608  180.899994 -4.390506  2.786299     0   \n2019-01-01 00:10:00        157.464  213.300003 -4.050600  3.571084     0   \n2019-01-01 00:20:00        125.000  164.100006 -3.913041  3.112573     0   \n2019-01-01 00:30:00         42.875   21.799999 -2.341957  2.601007     0   \n2019-01-01 00:40:00         54.872   48.299999 -2.774616  2.596441     0   \n\n                     Month  DayOfWeek  WindSpeedRollingMean  PowerRollingMean  \ntimestamp                                                                      \n2019-01-01 00:00:00      1          1                   0.0               0.0  \n2019-01-01 00:10:00      1          1                   0.0               0.0  \n2019-01-01 00:20:00      1          1                   0.0               0.0  \n2019-01-01 00:30:00      1          1                   0.0               0.0  \n2019-01-01 00:40:00      1          1                   0.0               0.0  ",
      "text/html": "<div>\n<style scoped>\n    .dataframe tbody tr th:only-of-type {\n        vertical-align: middle;\n    }\n\n    .dataframe tbody tr th {\n        vertical-align: top;\n    }\n\n    .dataframe thead th {\n        text-align: right;\n    }\n</style>\n<table border=\"1\" class=\"dataframe\">\n  <thead>\n    <tr style=\"text-align: right;\">\n      <th></th>\n      <th>windspeed</th>\n      <th>winddirection</th>\n      <th>PitchAngle</th>\n      <th>temperature</th>\n      <th>WindSpeedCube</th>\n      <th>power</th>\n      <th>x_com</th>\n      <th>y_com</th>\n      <th>Hour</th>\n      <th>Month</th>\n      <th>DayOfWeek</th>\n      <th>WindSpeedRollingMean</th>\n      <th>PowerRollingMean</th>\n    </tr>\n    <tr>\n      <th>timestamp</th>\n      <th></th>\n      <th></th>\n      <th></th>\n      <th></th>\n      <th></th>\n      <th></th>\n      <th></th>\n      <th></th>\n      <th></th>\n      <th></th>\n      <th></th>\n      <th></th>\n      <th></th>\n    </tr>\n  </thead>\n  <tbody>\n    <tr>\n      <th>2019-01-01 00:00:00</th>\n      <td>5.2</td>\n      <td>147.600006</td>\n      <td>-1.8</td>\n      <td>5.0</td>\n      <td>140.608</td>\n      <td>180.899994</td>\n      <td>-4.390506</td>\n      <td>2.786299</td>\n      <td>0</td>\n      <td>1</td>\n      <td>1</td>\n      <td>0.0</td>\n      <td>0.0</td>\n    </tr>\n    <tr>\n      <th>2019-01-01 00:10:00</th>\n      <td>5.4</td>\n      <td>138.600006</td>\n      <td>-2.1</td>\n      <td>5.0</td>\n      <td>157.464</td>\n      <td>213.300003</td>\n      <td>-4.050600</td>\n      <td>3.571084</td>\n      <td>0</td>\n      <td>1</td>\n      <td>1</td>\n      <td>0.0</td>\n      <td>0.0</td>\n    </tr>\n    <tr>\n      <th>2019-01-01 00:20:00</th>\n      <td>5.0</td>\n      <td>141.500000</td>\n      <td>-1.7</td>\n      <td>5.0</td>\n      <td>125.000</td>\n      <td>164.100006</td>\n      <td>-3.913041</td>\n      <td>3.112573</td>\n      <td>0</td>\n      <td>1</td>\n      <td>1</td>\n      <td>0.0</td>\n      <td>0.0</td>\n    </tr>\n    <tr>\n      <th>2019-01-01 00:30:00</th>\n      <td>3.5</td>\n      <td>132.000000</td>\n      <td>0.6</td>\n      <td>5.0</td>\n      <td>42.875</td>\n      <td>21.799999</td>\n      <td>-2.341957</td>\n      <td>2.601007</td>\n      <td>0</td>\n      <td>1</td>\n      <td>1</td>\n      <td>0.0</td>\n      <td>0.0</td>\n    </tr>\n    <tr>\n      <th>2019-01-01 00:40:00</th>\n      <td>3.8</td>\n      <td>136.899994</td>\n      <td>0.0</td>\n      <td>5.0</td>\n      <td>54.872</td>\n      <td>48.299999</td>\n      <td>-2.774616</td>\n      <td>2.596441</td>\n      <td>0</td>\n      <td>1</td>\n      <td>1</td>\n      <td>0.0</td>\n      <td>0.0</td>\n    </tr>\n  </tbody>\n</table>\n</div>"
     },
     "execution_count": 192,
     "metadata": {},
     "output_type": "execute_result"
    }
   ],
   "source": [
    "df = df.fillna(0) #eksik verileri 0 ile doldurduk\n",
    "df.isnull().sum() #eksik veri kontrolü yaptık\n",
    "\n",
    "df = df.apply(pd.to_numeric) #veri setimizdeki verileri sayısal (nümerik) değere çevirdik\n",
    "df.head() #veri setimizi gözlemledik"
   ],
   "metadata": {
    "collapsed": false,
    "ExecuteTime": {
     "end_time": "2023-09-16T11:20:04.366206600Z",
     "start_time": "2023-09-16T11:20:04.255976300Z"
    }
   },
   "id": "e0e261d054559f16"
  },
  {
   "cell_type": "code",
   "execution_count": 193,
   "outputs": [],
   "source": [
    "df[\"Hour\"]=df[\"Hour\"].astype(float) #saat bilgisini float'a çevirdik\n",
    "df[\"Month\"]=df[\"Month\"].astype(float) #ay bilgisini float'a çevirdik\n",
    "df[\"DayOfWeek\"]=df[\"DayOfWeek\"].astype(float) #haftanın günü bilgisini float'a çevirdik"
   ],
   "metadata": {
    "collapsed": false,
    "ExecuteTime": {
     "end_time": "2023-09-16T11:20:04.416076600Z",
     "start_time": "2023-09-16T11:20:04.316487200Z"
    }
   },
   "id": "2a2e4fbcd48d6c11"
  },
  {
   "cell_type": "code",
   "execution_count": 194,
   "outputs": [
    {
     "data": {
      "text/plain": "                     windspeed  winddirection  PitchAngle  temperature  \\\ntimestamp                                                                \n2019-01-01 00:00:00        5.2     147.600006        -1.8          5.0   \n2019-01-01 00:10:00        5.4     138.600006        -2.1          5.0   \n2019-01-01 00:20:00        5.0     141.500000        -1.7          5.0   \n2019-01-01 00:30:00        3.5     132.000000         0.6          5.0   \n2019-01-01 00:40:00        3.8     136.899994         0.0          5.0   \n\n                     WindSpeedCube       power     x_com     y_com  Hour  \\\ntimestamp                                                                  \n2019-01-01 00:00:00        140.608  180.899994 -4.390506  2.786299   0.0   \n2019-01-01 00:10:00        157.464  213.300003 -4.050600  3.571084   0.0   \n2019-01-01 00:20:00        125.000  164.100006 -3.913041  3.112573   0.0   \n2019-01-01 00:30:00         42.875   21.799999 -2.341957  2.601007   0.0   \n2019-01-01 00:40:00         54.872   48.299999 -2.774616  2.596441   0.0   \n\n                     Month  DayOfWeek  WindSpeedRollingMean  PowerRollingMean  \\\ntimestamp                                                                       \n2019-01-01 00:00:00    1.0        1.0                   0.0               0.0   \n2019-01-01 00:10:00    1.0        1.0                   0.0               0.0   \n2019-01-01 00:20:00    1.0        1.0                   0.0               0.0   \n2019-01-01 00:30:00    1.0        1.0                   0.0               0.0   \n2019-01-01 00:40:00    1.0        1.0                   0.0               0.0   \n\n                     DayOfWeekSin  DayOfWeekCos  MonthSin  MonthCos  HourSin  \\\ntimestamp                                                                      \n2019-01-01 00:00:00      0.781831       0.62349       0.0       1.0      0.0   \n2019-01-01 00:10:00      0.781831       0.62349       0.0       1.0      0.0   \n2019-01-01 00:20:00      0.781831       0.62349       0.0       1.0      0.0   \n2019-01-01 00:30:00      0.781831       0.62349       0.0       1.0      0.0   \n2019-01-01 00:40:00      0.781831       0.62349       0.0       1.0      0.0   \n\n                     HourCos  \ntimestamp                     \n2019-01-01 00:00:00      1.0  \n2019-01-01 00:10:00      1.0  \n2019-01-01 00:20:00      1.0  \n2019-01-01 00:30:00      1.0  \n2019-01-01 00:40:00      1.0  ",
      "text/html": "<div>\n<style scoped>\n    .dataframe tbody tr th:only-of-type {\n        vertical-align: middle;\n    }\n\n    .dataframe tbody tr th {\n        vertical-align: top;\n    }\n\n    .dataframe thead th {\n        text-align: right;\n    }\n</style>\n<table border=\"1\" class=\"dataframe\">\n  <thead>\n    <tr style=\"text-align: right;\">\n      <th></th>\n      <th>windspeed</th>\n      <th>winddirection</th>\n      <th>PitchAngle</th>\n      <th>temperature</th>\n      <th>WindSpeedCube</th>\n      <th>power</th>\n      <th>x_com</th>\n      <th>y_com</th>\n      <th>Hour</th>\n      <th>Month</th>\n      <th>DayOfWeek</th>\n      <th>WindSpeedRollingMean</th>\n      <th>PowerRollingMean</th>\n      <th>DayOfWeekSin</th>\n      <th>DayOfWeekCos</th>\n      <th>MonthSin</th>\n      <th>MonthCos</th>\n      <th>HourSin</th>\n      <th>HourCos</th>\n    </tr>\n    <tr>\n      <th>timestamp</th>\n      <th></th>\n      <th></th>\n      <th></th>\n      <th></th>\n      <th></th>\n      <th></th>\n      <th></th>\n      <th></th>\n      <th></th>\n      <th></th>\n      <th></th>\n      <th></th>\n      <th></th>\n      <th></th>\n      <th></th>\n      <th></th>\n      <th></th>\n      <th></th>\n      <th></th>\n    </tr>\n  </thead>\n  <tbody>\n    <tr>\n      <th>2019-01-01 00:00:00</th>\n      <td>5.2</td>\n      <td>147.600006</td>\n      <td>-1.8</td>\n      <td>5.0</td>\n      <td>140.608</td>\n      <td>180.899994</td>\n      <td>-4.390506</td>\n      <td>2.786299</td>\n      <td>0.0</td>\n      <td>1.0</td>\n      <td>1.0</td>\n      <td>0.0</td>\n      <td>0.0</td>\n      <td>0.781831</td>\n      <td>0.62349</td>\n      <td>0.0</td>\n      <td>1.0</td>\n      <td>0.0</td>\n      <td>1.0</td>\n    </tr>\n    <tr>\n      <th>2019-01-01 00:10:00</th>\n      <td>5.4</td>\n      <td>138.600006</td>\n      <td>-2.1</td>\n      <td>5.0</td>\n      <td>157.464</td>\n      <td>213.300003</td>\n      <td>-4.050600</td>\n      <td>3.571084</td>\n      <td>0.0</td>\n      <td>1.0</td>\n      <td>1.0</td>\n      <td>0.0</td>\n      <td>0.0</td>\n      <td>0.781831</td>\n      <td>0.62349</td>\n      <td>0.0</td>\n      <td>1.0</td>\n      <td>0.0</td>\n      <td>1.0</td>\n    </tr>\n    <tr>\n      <th>2019-01-01 00:20:00</th>\n      <td>5.0</td>\n      <td>141.500000</td>\n      <td>-1.7</td>\n      <td>5.0</td>\n      <td>125.000</td>\n      <td>164.100006</td>\n      <td>-3.913041</td>\n      <td>3.112573</td>\n      <td>0.0</td>\n      <td>1.0</td>\n      <td>1.0</td>\n      <td>0.0</td>\n      <td>0.0</td>\n      <td>0.781831</td>\n      <td>0.62349</td>\n      <td>0.0</td>\n      <td>1.0</td>\n      <td>0.0</td>\n      <td>1.0</td>\n    </tr>\n    <tr>\n      <th>2019-01-01 00:30:00</th>\n      <td>3.5</td>\n      <td>132.000000</td>\n      <td>0.6</td>\n      <td>5.0</td>\n      <td>42.875</td>\n      <td>21.799999</td>\n      <td>-2.341957</td>\n      <td>2.601007</td>\n      <td>0.0</td>\n      <td>1.0</td>\n      <td>1.0</td>\n      <td>0.0</td>\n      <td>0.0</td>\n      <td>0.781831</td>\n      <td>0.62349</td>\n      <td>0.0</td>\n      <td>1.0</td>\n      <td>0.0</td>\n      <td>1.0</td>\n    </tr>\n    <tr>\n      <th>2019-01-01 00:40:00</th>\n      <td>3.8</td>\n      <td>136.899994</td>\n      <td>0.0</td>\n      <td>5.0</td>\n      <td>54.872</td>\n      <td>48.299999</td>\n      <td>-2.774616</td>\n      <td>2.596441</td>\n      <td>0.0</td>\n      <td>1.0</td>\n      <td>1.0</td>\n      <td>0.0</td>\n      <td>0.0</td>\n      <td>0.781831</td>\n      <td>0.62349</td>\n      <td>0.0</td>\n      <td>1.0</td>\n      <td>0.0</td>\n      <td>1.0</td>\n    </tr>\n  </tbody>\n</table>\n</div>"
     },
     "execution_count": 194,
     "metadata": {},
     "output_type": "execute_result"
    }
   ],
   "source": [
    "df[\"DayOfWeekSin\"]= np.sin(df.DayOfWeek*(2.*np.pi/7)) #haftanın günü bilgisinin sinüsünü aldık\n",
    "df[\"DayOfWeekCos\"]= np.cos(df.DayOfWeek*(2.*np.pi/7)) #haftanın günü bilgisinin kosinüsünü aldık\n",
    "df[\"MonthSin\"]= np.sin((df.Month-1)*(2.*np.pi/12)) #ay bilgisinin sinüsünü aldık\n",
    "df[\"MonthCos\"]= np.cos((df.Month-1)*(2.*np.pi/12)) #ay bilgisinin kosinüsünü aldık\n",
    "df[\"HourSin\"]= np.sin(df.Hour*(2.*np.pi/24)) #saat bilgisinin sinüsünü aldık\n",
    "df[\"HourCos\"]= np.cos(df.Hour*(2.*np.pi/24)) #saat bilgisinin kosinüsünü aldık\n",
    "\n",
    "df.head() #veri setimizi gözlemledik"
   ],
   "metadata": {
    "collapsed": false,
    "ExecuteTime": {
     "end_time": "2023-09-16T11:20:04.575834800Z",
     "start_time": "2023-09-16T11:20:04.335982400Z"
    }
   },
   "id": "34f896c6daa9935"
  },
  {
   "cell_type": "code",
   "execution_count": 195,
   "outputs": [],
   "source": [
    "def create_lag(df: pd.core.frame.DataFrame, column: str, lags: list) -> pd.core.frame.DataFrame: #gecikmeli sütun oluşturan fonksiyon\n",
    "    \"\"\"\n",
    "    Verilen sütun için verilen gecikme değerlerine göre gecikmeli sütunlar oluşturur.\n",
    "    Parametreler\n",
    "    ----------\n",
    "    df : pd.core.frame.DataFrame\n",
    "        Gecikmeli sütunların ekleneceği veri seti\n",
    "    column : str\n",
    "        Gecikmeli sütunlar oluşturulacak sütunun adı\n",
    "    lags : list\n",
    "        Gecikme değerleri\n",
    "    Returns\n",
    "    -------\n",
    "    pd.core.frame.DataFrame\n",
    "        Gecikmeli sütunların eklendiği veri seti\n",
    "    \"\"\"\n",
    "    for lag in lags:\n",
    "        df[column + \"_lag_\" + str(lag)] = df[column].shift(periods=lag).astype(np.float16)\n",
    "    return df"
   ],
   "metadata": {
    "collapsed": false,
    "ExecuteTime": {
     "end_time": "2023-09-16T11:20:04.635914400Z",
     "start_time": "2023-09-16T11:20:04.377570700Z"
    }
   },
   "id": "8a7b153fe655c793"
  },
  {
   "cell_type": "code",
   "execution_count": 196,
   "outputs": [
    {
     "data": {
      "text/plain": "                     windspeed  winddirection  PitchAngle  temperature  \\\ntimestamp                                                                \n2019-01-01 00:00:00        5.2     147.600006        -1.8          5.0   \n2019-01-01 00:10:00        5.4     138.600006        -2.1          5.0   \n2019-01-01 00:20:00        5.0     141.500000        -1.7          5.0   \n2019-01-01 00:30:00        3.5     132.000000         0.6          5.0   \n2019-01-01 00:40:00        3.8     136.899994         0.0          5.0   \n\n                     WindSpeedCube       power     x_com     y_com  Hour  \\\ntimestamp                                                                  \n2019-01-01 00:00:00        140.608  180.899994 -4.390506  2.786299   0.0   \n2019-01-01 00:10:00        157.464  213.300003 -4.050600  3.571084   0.0   \n2019-01-01 00:20:00        125.000  164.100006 -3.913041  3.112573   0.0   \n2019-01-01 00:30:00         42.875   21.799999 -2.341957  2.601007   0.0   \n2019-01-01 00:40:00         54.872   48.299999 -2.774616  2.596441   0.0   \n\n                     Month  ...  x_com_lag_3  x_com_lag_6  y_com_lag_1  \\\ntimestamp                   ...                                          \n2019-01-01 00:00:00    1.0  ...          NaN          NaN          NaN   \n2019-01-01 00:10:00    1.0  ...          NaN          NaN     2.787109   \n2019-01-01 00:20:00    1.0  ...          NaN          NaN     3.570312   \n2019-01-01 00:30:00    1.0  ...    -4.390625          NaN     3.113281   \n2019-01-01 00:40:00    1.0  ...    -4.050781          NaN     2.601562   \n\n                     y_com_lag_2  y_com_lag_3  y_com_lag_6  temperature_lag_1  \\\ntimestamp                                                                       \n2019-01-01 00:00:00          NaN          NaN          NaN                NaN   \n2019-01-01 00:10:00          NaN          NaN          NaN                5.0   \n2019-01-01 00:20:00     2.787109          NaN          NaN                5.0   \n2019-01-01 00:30:00     3.570312     2.787109          NaN                5.0   \n2019-01-01 00:40:00     3.113281     3.570312          NaN                5.0   \n\n                     temperature_lag_2  temperature_lag_3  temperature_lag_6  \ntimestamp                                                                     \n2019-01-01 00:00:00                NaN                NaN                NaN  \n2019-01-01 00:10:00                NaN                NaN                NaN  \n2019-01-01 00:20:00                5.0                NaN                NaN  \n2019-01-01 00:30:00                5.0                5.0                NaN  \n2019-01-01 00:40:00                5.0                5.0                NaN  \n\n[5 rows x 47 columns]",
      "text/html": "<div>\n<style scoped>\n    .dataframe tbody tr th:only-of-type {\n        vertical-align: middle;\n    }\n\n    .dataframe tbody tr th {\n        vertical-align: top;\n    }\n\n    .dataframe thead th {\n        text-align: right;\n    }\n</style>\n<table border=\"1\" class=\"dataframe\">\n  <thead>\n    <tr style=\"text-align: right;\">\n      <th></th>\n      <th>windspeed</th>\n      <th>winddirection</th>\n      <th>PitchAngle</th>\n      <th>temperature</th>\n      <th>WindSpeedCube</th>\n      <th>power</th>\n      <th>x_com</th>\n      <th>y_com</th>\n      <th>Hour</th>\n      <th>Month</th>\n      <th>...</th>\n      <th>x_com_lag_3</th>\n      <th>x_com_lag_6</th>\n      <th>y_com_lag_1</th>\n      <th>y_com_lag_2</th>\n      <th>y_com_lag_3</th>\n      <th>y_com_lag_6</th>\n      <th>temperature_lag_1</th>\n      <th>temperature_lag_2</th>\n      <th>temperature_lag_3</th>\n      <th>temperature_lag_6</th>\n    </tr>\n    <tr>\n      <th>timestamp</th>\n      <th></th>\n      <th></th>\n      <th></th>\n      <th></th>\n      <th></th>\n      <th></th>\n      <th></th>\n      <th></th>\n      <th></th>\n      <th></th>\n      <th></th>\n      <th></th>\n      <th></th>\n      <th></th>\n      <th></th>\n      <th></th>\n      <th></th>\n      <th></th>\n      <th></th>\n      <th></th>\n      <th></th>\n    </tr>\n  </thead>\n  <tbody>\n    <tr>\n      <th>2019-01-01 00:00:00</th>\n      <td>5.2</td>\n      <td>147.600006</td>\n      <td>-1.8</td>\n      <td>5.0</td>\n      <td>140.608</td>\n      <td>180.899994</td>\n      <td>-4.390506</td>\n      <td>2.786299</td>\n      <td>0.0</td>\n      <td>1.0</td>\n      <td>...</td>\n      <td>NaN</td>\n      <td>NaN</td>\n      <td>NaN</td>\n      <td>NaN</td>\n      <td>NaN</td>\n      <td>NaN</td>\n      <td>NaN</td>\n      <td>NaN</td>\n      <td>NaN</td>\n      <td>NaN</td>\n    </tr>\n    <tr>\n      <th>2019-01-01 00:10:00</th>\n      <td>5.4</td>\n      <td>138.600006</td>\n      <td>-2.1</td>\n      <td>5.0</td>\n      <td>157.464</td>\n      <td>213.300003</td>\n      <td>-4.050600</td>\n      <td>3.571084</td>\n      <td>0.0</td>\n      <td>1.0</td>\n      <td>...</td>\n      <td>NaN</td>\n      <td>NaN</td>\n      <td>2.787109</td>\n      <td>NaN</td>\n      <td>NaN</td>\n      <td>NaN</td>\n      <td>5.0</td>\n      <td>NaN</td>\n      <td>NaN</td>\n      <td>NaN</td>\n    </tr>\n    <tr>\n      <th>2019-01-01 00:20:00</th>\n      <td>5.0</td>\n      <td>141.500000</td>\n      <td>-1.7</td>\n      <td>5.0</td>\n      <td>125.000</td>\n      <td>164.100006</td>\n      <td>-3.913041</td>\n      <td>3.112573</td>\n      <td>0.0</td>\n      <td>1.0</td>\n      <td>...</td>\n      <td>NaN</td>\n      <td>NaN</td>\n      <td>3.570312</td>\n      <td>2.787109</td>\n      <td>NaN</td>\n      <td>NaN</td>\n      <td>5.0</td>\n      <td>5.0</td>\n      <td>NaN</td>\n      <td>NaN</td>\n    </tr>\n    <tr>\n      <th>2019-01-01 00:30:00</th>\n      <td>3.5</td>\n      <td>132.000000</td>\n      <td>0.6</td>\n      <td>5.0</td>\n      <td>42.875</td>\n      <td>21.799999</td>\n      <td>-2.341957</td>\n      <td>2.601007</td>\n      <td>0.0</td>\n      <td>1.0</td>\n      <td>...</td>\n      <td>-4.390625</td>\n      <td>NaN</td>\n      <td>3.113281</td>\n      <td>3.570312</td>\n      <td>2.787109</td>\n      <td>NaN</td>\n      <td>5.0</td>\n      <td>5.0</td>\n      <td>5.0</td>\n      <td>NaN</td>\n    </tr>\n    <tr>\n      <th>2019-01-01 00:40:00</th>\n      <td>3.8</td>\n      <td>136.899994</td>\n      <td>0.0</td>\n      <td>5.0</td>\n      <td>54.872</td>\n      <td>48.299999</td>\n      <td>-2.774616</td>\n      <td>2.596441</td>\n      <td>0.0</td>\n      <td>1.0</td>\n      <td>...</td>\n      <td>-4.050781</td>\n      <td>NaN</td>\n      <td>2.601562</td>\n      <td>3.113281</td>\n      <td>3.570312</td>\n      <td>NaN</td>\n      <td>5.0</td>\n      <td>5.0</td>\n      <td>5.0</td>\n      <td>NaN</td>\n    </tr>\n  </tbody>\n</table>\n<p>5 rows × 47 columns</p>\n</div>"
     },
     "execution_count": 196,
     "metadata": {},
     "output_type": "execute_result"
    }
   ],
   "source": [
    "df = create_lag(df=df, column=\"windspeed\",lags=[1,2,3,6]) #rüzgar hızı için 1,2,3 ve 6 saatlik gecikmeli sütunlar oluşturduk\n",
    "df = create_lag(df=df, column=\"winddirection\",lags=[1,2,3,6]) #rüzgar yönü için 1,2,3 ve 6 saatlik gecikmeli sütunlar oluşturduk\n",
    "df = create_lag(df=df, column=\"PitchAngle\",lags=[1,2,3,6]) #pitch açısı için 1,2,3 ve 6 saatlik gecikmeli sütunlar oluşturduk\n",
    "df = create_lag(df=df, column=\"power\",lags=[1,2,3,6]) #güç için 1,2,3 ve 6 saatlik gecikmeli sütunlar oluşturduk\n",
    "df = create_lag(df=df,column=\"x_com\",lags=[1,2,3,6]) #x bileşeni için 1,2,3 ve 6 saatlik gecikmeli sütunlar oluşturduk\n",
    "df = create_lag(df=df,column=\"y_com\",lags=[1,2,3,6]) #y bileşeni için 1,2,3 ve 6 saatlik gecikmeli sütunlar oluşturduk\n",
    "df = create_lag(df=df,column=\"temperature\",lags=[1,2,3,6]) #sıcaklık için 1,2,3 ve 6 saatlik gecikmeli sütunlar oluşturduk\n",
    "\n",
    "df.head() #veri setinizi gözlemleyin"
   ],
   "metadata": {
    "collapsed": false,
    "ExecuteTime": {
     "end_time": "2023-09-16T11:20:04.825411Z",
     "start_time": "2023-09-16T11:20:04.396179200Z"
    }
   },
   "id": "4f0a510d59b59ca2"
  },
  {
   "cell_type": "code",
   "execution_count": 197,
   "outputs": [
    {
     "data": {
      "text/plain": "                     windspeed  winddirection  PitchAngle  temperature  \\\ntimestamp                                                                \n2019-01-01 00:00:00        5.2     147.600006        -1.8          5.0   \n2019-01-01 00:10:00        5.4     138.600006        -2.1          5.0   \n2019-01-01 00:20:00        5.0     141.500000        -1.7          5.0   \n2019-01-01 00:30:00        3.5     132.000000         0.6          5.0   \n2019-01-01 00:40:00        3.8     136.899994         0.0          5.0   \n\n                     WindSpeedCube       power     x_com     y_com  Hour  \\\ntimestamp                                                                  \n2019-01-01 00:00:00        140.608  180.899994 -4.390506  2.786299   0.0   \n2019-01-01 00:10:00        157.464  213.300003 -4.050600  3.571084   0.0   \n2019-01-01 00:20:00        125.000  164.100006 -3.913041  3.112573   0.0   \n2019-01-01 00:30:00         42.875   21.799999 -2.341957  2.601007   0.0   \n2019-01-01 00:40:00         54.872   48.299999 -2.774616  2.596441   0.0   \n\n                     Month  ...  power_lag_3  power_lag_6  x_com_lag_1  \\\ntimestamp                   ...                                          \n2019-01-01 00:00:00    1.0  ...          NaN          NaN          NaN   \n2019-01-01 00:10:00    1.0  ...          NaN          NaN    -4.390625   \n2019-01-01 00:20:00    1.0  ...          NaN          NaN    -4.050781   \n2019-01-01 00:30:00    1.0  ...      180.875          NaN    -3.912109   \n2019-01-01 00:40:00    1.0  ...      213.250          NaN    -2.341797   \n\n                     x_com_lag_2  x_com_lag_3  x_com_lag_6  y_com_lag_1  \\\ntimestamp                                                                 \n2019-01-01 00:00:00          NaN          NaN          NaN          NaN   \n2019-01-01 00:10:00          NaN          NaN          NaN     2.787109   \n2019-01-01 00:20:00    -4.390625          NaN          NaN     3.570312   \n2019-01-01 00:30:00    -4.050781    -4.390625          NaN     3.113281   \n2019-01-01 00:40:00    -3.912109    -4.050781          NaN     2.601562   \n\n                     y_com_lag_2  y_com_lag_3  y_com_lag_6  \ntimestamp                                                   \n2019-01-01 00:00:00          NaN          NaN          NaN  \n2019-01-01 00:10:00          NaN          NaN          NaN  \n2019-01-01 00:20:00     2.787109          NaN          NaN  \n2019-01-01 00:30:00     3.570312     2.787109          NaN  \n2019-01-01 00:40:00     3.113281     3.570312          NaN  \n\n[5 rows x 37 columns]",
      "text/html": "<div>\n<style scoped>\n    .dataframe tbody tr th:only-of-type {\n        vertical-align: middle;\n    }\n\n    .dataframe tbody tr th {\n        vertical-align: top;\n    }\n\n    .dataframe thead th {\n        text-align: right;\n    }\n</style>\n<table border=\"1\" class=\"dataframe\">\n  <thead>\n    <tr style=\"text-align: right;\">\n      <th></th>\n      <th>windspeed</th>\n      <th>winddirection</th>\n      <th>PitchAngle</th>\n      <th>temperature</th>\n      <th>WindSpeedCube</th>\n      <th>power</th>\n      <th>x_com</th>\n      <th>y_com</th>\n      <th>Hour</th>\n      <th>Month</th>\n      <th>...</th>\n      <th>power_lag_3</th>\n      <th>power_lag_6</th>\n      <th>x_com_lag_1</th>\n      <th>x_com_lag_2</th>\n      <th>x_com_lag_3</th>\n      <th>x_com_lag_6</th>\n      <th>y_com_lag_1</th>\n      <th>y_com_lag_2</th>\n      <th>y_com_lag_3</th>\n      <th>y_com_lag_6</th>\n    </tr>\n    <tr>\n      <th>timestamp</th>\n      <th></th>\n      <th></th>\n      <th></th>\n      <th></th>\n      <th></th>\n      <th></th>\n      <th></th>\n      <th></th>\n      <th></th>\n      <th></th>\n      <th></th>\n      <th></th>\n      <th></th>\n      <th></th>\n      <th></th>\n      <th></th>\n      <th></th>\n      <th></th>\n      <th></th>\n      <th></th>\n      <th></th>\n    </tr>\n  </thead>\n  <tbody>\n    <tr>\n      <th>2019-01-01 00:00:00</th>\n      <td>5.2</td>\n      <td>147.600006</td>\n      <td>-1.8</td>\n      <td>5.0</td>\n      <td>140.608</td>\n      <td>180.899994</td>\n      <td>-4.390506</td>\n      <td>2.786299</td>\n      <td>0.0</td>\n      <td>1.0</td>\n      <td>...</td>\n      <td>NaN</td>\n      <td>NaN</td>\n      <td>NaN</td>\n      <td>NaN</td>\n      <td>NaN</td>\n      <td>NaN</td>\n      <td>NaN</td>\n      <td>NaN</td>\n      <td>NaN</td>\n      <td>NaN</td>\n    </tr>\n    <tr>\n      <th>2019-01-01 00:10:00</th>\n      <td>5.4</td>\n      <td>138.600006</td>\n      <td>-2.1</td>\n      <td>5.0</td>\n      <td>157.464</td>\n      <td>213.300003</td>\n      <td>-4.050600</td>\n      <td>3.571084</td>\n      <td>0.0</td>\n      <td>1.0</td>\n      <td>...</td>\n      <td>NaN</td>\n      <td>NaN</td>\n      <td>-4.390625</td>\n      <td>NaN</td>\n      <td>NaN</td>\n      <td>NaN</td>\n      <td>2.787109</td>\n      <td>NaN</td>\n      <td>NaN</td>\n      <td>NaN</td>\n    </tr>\n    <tr>\n      <th>2019-01-01 00:20:00</th>\n      <td>5.0</td>\n      <td>141.500000</td>\n      <td>-1.7</td>\n      <td>5.0</td>\n      <td>125.000</td>\n      <td>164.100006</td>\n      <td>-3.913041</td>\n      <td>3.112573</td>\n      <td>0.0</td>\n      <td>1.0</td>\n      <td>...</td>\n      <td>NaN</td>\n      <td>NaN</td>\n      <td>-4.050781</td>\n      <td>-4.390625</td>\n      <td>NaN</td>\n      <td>NaN</td>\n      <td>3.570312</td>\n      <td>2.787109</td>\n      <td>NaN</td>\n      <td>NaN</td>\n    </tr>\n    <tr>\n      <th>2019-01-01 00:30:00</th>\n      <td>3.5</td>\n      <td>132.000000</td>\n      <td>0.6</td>\n      <td>5.0</td>\n      <td>42.875</td>\n      <td>21.799999</td>\n      <td>-2.341957</td>\n      <td>2.601007</td>\n      <td>0.0</td>\n      <td>1.0</td>\n      <td>...</td>\n      <td>180.875</td>\n      <td>NaN</td>\n      <td>-3.912109</td>\n      <td>-4.050781</td>\n      <td>-4.390625</td>\n      <td>NaN</td>\n      <td>3.113281</td>\n      <td>3.570312</td>\n      <td>2.787109</td>\n      <td>NaN</td>\n    </tr>\n    <tr>\n      <th>2019-01-01 00:40:00</th>\n      <td>3.8</td>\n      <td>136.899994</td>\n      <td>0.0</td>\n      <td>5.0</td>\n      <td>54.872</td>\n      <td>48.299999</td>\n      <td>-2.774616</td>\n      <td>2.596441</td>\n      <td>0.0</td>\n      <td>1.0</td>\n      <td>...</td>\n      <td>213.250</td>\n      <td>NaN</td>\n      <td>-2.341797</td>\n      <td>-3.912109</td>\n      <td>-4.050781</td>\n      <td>NaN</td>\n      <td>2.601562</td>\n      <td>3.113281</td>\n      <td>3.570312</td>\n      <td>NaN</td>\n    </tr>\n  </tbody>\n</table>\n<p>5 rows × 37 columns</p>\n</div>"
     },
     "execution_count": 197,
     "metadata": {},
     "output_type": "execute_result"
    }
   ],
   "source": [
    "df.drop(['temperature_lag_1','temperature_lag_2','temperature_lag_3','temperature_lag_6'],axis=1,inplace=True) #sıcaklık için 1,2,3 ve 6 saatlik gecikmeli sütunları sildik\n",
    "df.drop(['PitchAngle_lag_2','PitchAngle_lag_3','PitchAngle_lag_6'],axis=1,inplace=True) #pitch açısı için 2,3 ve 6 saatlik gecikmeli sütunları sildik\n",
    "df.drop(['winddirection_lag_1','winddirection_lag_2','winddirection_lag_6'],axis=1,inplace=True) #rüzgar yönü için 1,2,3 ve 6 saatlik gecikmeli sütunları sildik\n",
    "\n",
    "\"\"\"\n",
    "Bir kısmını bıraktık çünkü bu sütunlar için gecikmeli sütunlar oluştururken 1 saatlik gecikmeli sütunlar zaten var.\n",
    "\"\"\"\n",
    "\n",
    "df.head() #veri setimizi gözlemledik"
   ],
   "metadata": {
    "collapsed": false,
    "ExecuteTime": {
     "end_time": "2023-09-16T11:20:05.015874900Z",
     "start_time": "2023-09-16T11:20:04.490180900Z"
    }
   },
   "id": "b2135b54ae4ee0ce"
  },
  {
   "cell_type": "code",
   "execution_count": 198,
   "outputs": [
    {
     "data": {
      "text/plain": "windspeed               0\nwinddirection           0\nPitchAngle              0\ntemperature             0\nWindSpeedCube           0\npower                   0\nx_com                   0\ny_com                   0\nHour                    0\nMonth                   0\nDayOfWeek               0\nWindSpeedRollingMean    0\nPowerRollingMean        0\nDayOfWeekSin            0\nDayOfWeekCos            0\nMonthSin                0\nMonthCos                0\nHourSin                 0\nHourCos                 0\nwindspeed_lag_1         0\nwindspeed_lag_2         0\nwindspeed_lag_3         0\nwindspeed_lag_6         0\nwinddirection_lag_3     0\nPitchAngle_lag_1        0\npower_lag_1             0\npower_lag_2             0\npower_lag_3             0\npower_lag_6             0\nx_com_lag_1             0\nx_com_lag_2             0\nx_com_lag_3             0\nx_com_lag_6             0\ny_com_lag_1             0\ny_com_lag_2             0\ny_com_lag_3             0\ny_com_lag_6             0\ndtype: int64"
     },
     "execution_count": 198,
     "metadata": {},
     "output_type": "execute_result"
    }
   ],
   "source": [
    "df = df.fillna(0) #eksik verileri 0 ile doldurduk\n",
    "df.isnull().sum() #eksik veri kontrolü yaptık"
   ],
   "metadata": {
    "collapsed": false,
    "ExecuteTime": {
     "end_time": "2023-09-16T11:20:05.105671600Z",
     "start_time": "2023-09-16T11:20:04.571328300Z"
    }
   },
   "id": "1770d46624d3c09b"
  },
  {
   "cell_type": "code",
   "execution_count": 199,
   "outputs": [],
   "source": [
    "multivar_df = df.copy() #veri setimizin kopyasını oluşturduk"
   ],
   "metadata": {
    "collapsed": false,
    "ExecuteTime": {
     "end_time": "2023-09-16T11:20:05.145618400Z",
     "start_time": "2023-09-16T11:20:04.651194600Z"
    }
   },
   "id": "3865a9e0186dcf03"
  },
  {
   "cell_type": "markdown",
   "source": [
    "Eğitime Hazırlık"
   ],
   "metadata": {
    "collapsed": false
   },
   "id": "b2fadd294009bc5a"
  },
  {
   "cell_type": "code",
   "execution_count": 200,
   "outputs": [],
   "source": [
    "import pandas as pd #veri setimizi okumak için kullandığımız kütüphane\n",
    "import numpy as np #matematiksel işlemler için kullandığımız kütüphane\n",
    "import matplotlib.pyplot as plt #grafik çizdirmek için kullandığımız kütüphane\n",
    "import tensorflow as tf #makine öğrenmesi için kullandığımız kütüphane\n",
    "from sklearn.preprocessing import MinMaxScaler #verileri ölçeklendirmek için kullandığımız kütüphane"
   ],
   "metadata": {
    "collapsed": false,
    "ExecuteTime": {
     "end_time": "2023-09-16T11:20:05.145618400Z",
     "start_time": "2023-09-16T11:20:04.667096100Z"
    }
   },
   "id": "c4497b61bcb25e5f"
  },
  {
   "cell_type": "code",
   "execution_count": 201,
   "outputs": [],
   "source": [
    "def clean_data(series):\n",
    "    \"\"\"\n",
    "    Verilen serideki eksik verileri lineer olarak doldurur.\n",
    "     Parametreler:\n",
    "    ----------\n",
    "    series : pandas.core.series.Series\n",
    "        Eksik verileri doldurulacak seri\n",
    "    Returns:\n",
    "    -------\n",
    "    pandas.core.series.Series\n",
    "        Eksik verileri doldurulmuş seri\n",
    "    \"\"\"\n",
    "    \n",
    "    series_filled = series.interpolate(method='linear') #eksik verileri lineer olarak doldurduk\n",
    "    return series_filled #doldurulmuş verileri döndürdük"
   ],
   "metadata": {
    "collapsed": false,
    "ExecuteTime": {
     "end_time": "2023-09-16T11:20:05.145618400Z",
     "start_time": "2023-09-16T11:20:04.685816700Z"
    }
   },
   "id": "555b7a99f23a44eb"
  },
  {
   "cell_type": "code",
   "execution_count": 202,
   "outputs": [],
   "source": [
    "def min_max_scale(dataframe):\n",
    "    \n",
    "    \"\"\"\n",
    "    Verilen veri setini ölçeklendirir.\n",
    "    Parametreler:\n",
    "    ----------\n",
    "    dataframe : pandas.core.frame.DataFrame\n",
    "        Ölçeklendirilecek veri seti\n",
    "    Returns:\n",
    "    -------\n",
    "    pandas.core.frame.DataFrame\n",
    "        Ölçeklendirilmiş veri seti\n",
    "    \"\"\"\n",
    "    mm= MinMaxScaler() #verileri ölçeklendirmek için MinMaxScaler fonksiyonunu kullandık\n",
    "    return  mm.fit_transform(dataframe) #ölçeklendirilmiş verileri döndürdük"
   ],
   "metadata": {
    "collapsed": false,
    "ExecuteTime": {
     "end_time": "2023-09-16T11:20:05.145618400Z",
     "start_time": "2023-09-16T11:20:04.698638800Z"
    }
   },
   "id": "94b0fe34f17068e1"
  },
  {
   "cell_type": "code",
   "execution_count": 203,
   "outputs": [],
   "source": [
    "def split_data(series,train_fraq,test_len=25000):\n",
    "    \n",
    "    \"\"\"\n",
    "    Verilen seriyi eğitim, doğrulama ve test verilerine ayırır.\n",
    "    Parametreler:\n",
    "    ----------\n",
    "    series : pandas.core.series.Series\n",
    "        Ayırılacak seri\n",
    "    train_fraq : float\n",
    "        Eğitim verilerinin oranı\n",
    "    test_len : int\n",
    "        Test verilerinin boyutu\n",
    "    Returns:\n",
    "    -------\n",
    "    pandas.core.series.Series\n",
    "        Eğitim verileri\n",
    "    \"\"\"\n",
    "    \n",
    "    test_slice = len(series) - test_len #test verilerinin başlangıç noktasını belirledik\n",
    "    test_data = series[test_slice:] #test verilerini belirledik\n",
    "    train_val_data= series[:test_slice] #eğitim ve doğrulama verilerini belirledik\n",
    "    \n",
    "    train_size = int(len(train_val_data) * train_fraq) #eğitim verilerinin boyutunu belirledik\n",
    "    \n",
    "    train_data = train_val_data[:train_size] #eğitim verilerini belirledik\n",
    "    val_data = train_val_data[train_size:] #doğrulama verilerini belirledik\n",
    "    \n",
    "    return train_data,val_data,test_data #eğitim, doğrulama ve test verilerini döndürdük"
   ],
   "metadata": {
    "collapsed": false,
    "ExecuteTime": {
     "end_time": "2023-09-16T11:20:05.145618400Z",
     "start_time": "2023-09-16T11:20:04.715853900Z"
    }
   },
   "id": "261f97f95bd0d9db"
  },
  {
   "cell_type": "code",
   "execution_count": 204,
   "outputs": [
    {
     "name": "stdout",
     "output_type": "stream",
     "text": [
      "Multivarate Datasets\n",
      "Train Data Shape: (110644, 37)\n",
      "Validation Data Shape: (47419, 37)\n",
      "Test Data Shape: (19282, 37)\n",
      "Nulls In Train Data: False\n",
      "Nulls In Validation Data: False\n",
      "Nulls In Test Data: False\n"
     ]
    }
   ],
   "source": [
    "multivar_df = clean_data(multivar_df) #veri setimizdeki eksik verileri lineer olarak doldurduk\n",
    "\n",
    "multivar_df = min_max_scale(multivar_df) #veri setimizi ölçeklendirdik\n",
    "\n",
    "train_multi, val_multi , test_multi, = split_data(multivar_df,train_fraq=0.7,test_len=19282) #veri setimizi eğitim, doğrulama ve test verilerine ayırdık\n",
    "\"\"\"\n",
    "train_fraq=0.7 ile eğitim verilerinin %70'ini, test_len=19282 ile de test verilerinin boyutunu belirledik\n",
    "\"\"\"\n",
    "\n",
    "print(\"Multivarate Datasets\")\n",
    "print(\"Train Data Shape: {}\".format(train_multi.shape))\n",
    "print(\"Validation Data Shape: {}\".format(val_multi.shape))\n",
    "print(\"Test Data Shape: {}\".format(test_multi.shape))\n",
    "print(f\"Nulls In Train Data: {np.any(np.isnan(train_multi))}\")\n",
    "print(f\"Nulls In Validation Data: {np.any(np.isnan(val_multi))}\")\n",
    "print(f\"Nulls In Test Data: {np.any(np.isnan(test_multi))}\")"
   ],
   "metadata": {
    "collapsed": false,
    "ExecuteTime": {
     "end_time": "2023-09-16T11:20:05.145618400Z",
     "start_time": "2023-09-16T11:20:04.730122200Z"
    }
   },
   "id": "64bfef3bc7b8cdce"
  },
  {
   "cell_type": "code",
   "execution_count": 205,
   "outputs": [],
   "source": [
    "def window_dataset(data,n_steps,n_horizon,batch_size,shuffle_buffer,multi_var=False,expand_dims=False):\n",
    "        \"\"\"\n",
    "        Verilen veri setini pencereleyerek supervised learning problemi için hazırlar.\n",
    "        Parametreler:\n",
    "        ----------\n",
    "        data : numpy.ndarray\n",
    "            Pencerelemesi yapılacak veri seti\n",
    "        n_steps : int\n",
    "            Pencere boyutu\n",
    "        n_horizon : int\n",
    "            Hedef değişkenin konumu\n",
    "        batch_size : int\n",
    "            Batch boyutu\n",
    "        shuffle_buffer : int\n",
    "            Karıştırma boyutu\n",
    "        multi_var : bool\n",
    "            Çok değişkenli veri seti için True\n",
    "        expand_dims : bool\n",
    "            Veri setinin boyutunu genişletmek için True\n",
    "        Returns:\n",
    "        -------\n",
    "        tensorflow.python.data.ops.dataset_ops.BatchDataset\n",
    "            Pencerelemesi yapılmış veri seti\n",
    "      \n",
    "        \"\"\"\n",
    "        window = n_steps + n_horizon #pencere boyutunu belirledik\n",
    "        if expand_dims: #veri setimizin boyutunu genişlettik\n",
    "            ds = tf.expand_dims(data,axis=-1) #veri setimizin boyutunu genişlettik\n",
    "            ds = tf.data.Dataset.from_tensor_slices(ds) #veri setimizi tensöre çevirdik\n",
    "        else: #veri setimizin boyutunu genişletmedik\n",
    "            ds = tf.data.Dataset.from_tensor_slices(data) #veri setimizi tensöre çevirdik\n",
    "            \n",
    "        ds = ds.window(window,shift=n_horizon,drop_remainder=True) #veri setimizi pencereledik\n",
    "        ds = ds.flat_map(lambda x: x.batch(window)) #veri setimizi pencereledik\n",
    "        ds = ds.shuffle(shuffle_buffer) #veri setimizi karıştırdık\n",
    "        \n",
    "        # supervised learning problem için veri setimizi hazırladık\n",
    "        if multi_var: #çok değişkenli veri seti için\n",
    "            ds = ds.map(lambda x : (x[:-n_horizon], x[-n_horizon:, :1])) #veri setimizi pencereledik\n",
    "        else: #tek değişkenli veri seti için\n",
    "            ds = ds.map(lambda x : (x[:-n_horizon], x[-n_horizon:])) #veri setimizi pencereledik\n",
    "            \n",
    "        ds = ds.batch(batch_size).prefetch(1) #veri setimizi batch'ledik. Çünkü veri setimiz çok büyük olduğu için tek seferde yükleyemiyoruz.\n",
    "        \n",
    "        return ds #veri setimizi döndürdük"
   ],
   "metadata": {
    "collapsed": false,
    "ExecuteTime": {
     "end_time": "2023-09-16T11:20:05.145618400Z",
     "start_time": "2023-09-16T11:20:04.857449500Z"
    }
   },
   "id": "8f87dc78dbd0368b"
  },
  {
   "cell_type": "code",
   "execution_count": 206,
   "outputs": [
    {
     "name": "stdout",
     "output_type": "stream",
     "text": [
      "Exapmle sample shapes\n",
      "x=  (1, 720, 37)\n",
      "y=  (1, 6, 1)\n"
     ]
    }
   ],
   "source": [
    "tf.random.set_seed(42) #random seed değerini belirledik\n",
    "\n",
    "n_steps = 720 #pencere boyutunu belirledik\n",
    "n_horizon = 6 #hedef değişkenin konumunu belirledik\n",
    "batch_size = 1 #batch boyutunu belirledik\n",
    "shuffle_buffer = 100 #karıştırma boyutunu belirledik\n",
    "\n",
    "ds = window_dataset(train_multi,n_steps,n_horizon,batch_size,shuffle_buffer,multi_var=True) #eğitim verilerimizi pencereledik\n",
    "print(\"Exapmle sample shapes\") #örnek veri şekillerini gözlemledik\n",
    "for idx,(x,y) in enumerate(ds):\n",
    "    print(\"x= \",x.numpy().shape)\n",
    "    print(\"y= \",y.numpy().shape)\n",
    "    break"
   ],
   "metadata": {
    "collapsed": false,
    "ExecuteTime": {
     "end_time": "2023-09-16T11:20:05.173282500Z",
     "start_time": "2023-09-16T11:20:04.876030600Z"
    }
   },
   "id": "b73dec8fdfd38a7d"
  },
  {
   "cell_type": "code",
   "execution_count": 211,
   "outputs": [],
   "source": [
    "def build_dataset(train_fraq=0.7,n_steps=24*6*5,n_horizon=6,batch_size=256,shuffle_buffer=500,expand_dims=False,multi_var=False):\n",
    "    \"\"\"\n",
    "    Veri setini eğitim, doğrulama ve test verilerine ayırır ve pencereleyerek supervised learning problemi için hazırlar.\n",
    "    Parametreler:\n",
    "    ----------\n",
    "    train_fraq : float\n",
    "        Eğitim verilerinin oranı \n",
    "        If multi variate then first column is always the column from which the target is contstructed.( çok değişkenli veri seti için ilk sütun her zaman hedef değişkenin oluşturulduğu sütundur.)\n",
    "    \"\"\"\n",
    "    \n",
    "    tf.random.set_seed(23) #random seed değerini belirledik\n",
    "    \n",
    "    if multi_var:  #çok değişkenli veri seti için\n",
    "        data = multivar_df #çok değişkenli veri setimizi kullandık\n",
    "    else: #tek değişkenli veri seti için\n",
    "        data = multivar_df[\"power\"] #tek değişkenli veri setimizi kullandık\n",
    "    \n",
    "    if multi_var:\n",
    "        mm = MinMaxScaler() #verileri ölçeklendirmek için MinMaxScaler fonksiyonunu kullandık\n",
    "        data = mm.fit_transform(data) #verileri ölçeklendirdik\n",
    "        \n",
    "    train_data,val_data,test_data = split_data(data,train_fraq=train_fraq,test_len=8760) #veri setimizi eğitim, doğrulama ve test verilerine ayırdık\n",
    "    \n",
    "    train_ds = window_dataset(train_data,n_steps,n_horizon,batch_size,shuffle_buffer,multi_var=multi_var,expand_dims=expand_dims) #eğitim verilerimizi pencereledik\n",
    "    \n",
    "    val_ds = window_dataset(val_data,n_steps,n_horizon,batch_size,shuffle_buffer,multi_var=multi_var,expand_dims=expand_dims) #doğrulama verilerimizi pencereledik\n",
    "    \n",
    "    test_ds = window_dataset(test_data,n_steps,n_horizon,batch_size,shuffle_buffer,multi_var=multi_var,expand_dims=expand_dims) #test verilerimizi pencereledik\n",
    "    \n",
    "    \n",
    "    #veri setimizi gözlemledik\n",
    "    print(f\"Prediction lookback (n_steps): {n_steps}\") # öngörülen pencere boyutunu gözlemledik\n",
    "    print(f\"Prediction horizon (n_horizon): {n_horizon}\") #öngörülen hedef değişkenin konumunu gözlemledik\n",
    "    print(f\"Batch size: {batch_size}\") #batch boyutunu gözlemledik\n",
    "    print(\"Datasets: \") # veri setlerini gözlemledik\n",
    "    print(train_ds.element_spec) #eğitim verilerini gözlemledik\n",
    "    \n",
    "    return train_ds,val_ds,test_ds #eğitim, doğrulama ve test verilerini döndürdük"
   ],
   "metadata": {
    "collapsed": false,
    "ExecuteTime": {
     "end_time": "2023-09-16T11:21:44.758649600Z",
     "start_time": "2023-09-16T11:21:44.728650600Z"
    }
   },
   "id": "d8681676bc201f44"
  },
  {
   "cell_type": "code",
   "execution_count": 212,
   "outputs": [
    {
     "name": "stdout",
     "output_type": "stream",
     "text": [
      "Prediction lookback (n_steps): 720\n",
      "Prediction horizon (n_horizon): 6\n",
      "Batch size: 256\n",
      "Datasets: \n",
      "(TensorSpec(shape=(None, None, 37), dtype=tf.float64, name=None), TensorSpec(shape=(None, None, 1), dtype=tf.float64, name=None))\n"
     ]
    }
   ],
   "source": [
    "train_ds , val_ds , test_ds = build_dataset(multi_var=True) #veri setimizi eğitim, doğrulama ve test verilerine ayırdık ve pencereledik"
   ],
   "metadata": {
    "collapsed": false,
    "ExecuteTime": {
     "end_time": "2023-09-16T11:21:45.418268600Z",
     "start_time": "2023-09-16T11:21:45.248623200Z"
    }
   },
   "id": "a4d24de537b33fa8"
  },
  {
   "cell_type": "code",
   "execution_count": 213,
   "outputs": [],
   "source": [
    "def get_params(multivar=False):\n",
    "    \n",
    "    \"\"\"\n",
    "    Veri setinin özelliklerini döndürür.\n",
    "    Parametreler:\n",
    "    ----------\n",
    "    multivar : bool\n",
    "        Çok değişkenli veri seti için True\n",
    "    Returns:\n",
    "    -------\n",
    "    int\n",
    "        Özellik sayısı\n",
    "    int\n",
    "        Pencere boyutu\n",
    "    int\n",
    "        Hedef değişkenin konumu\n",
    "    float\n",
    "        Öğrenme oranı\n",
    "    \"\"\"\n",
    "    lr=3e-4 #öğrenme oranını belirledik\n",
    "    n_steps = 24*6*5 #pencere boyutunu belirledik\n",
    "    n_horizon = 6 #hedef değişkenin konumunu belirledik\n",
    "    \n",
    "    if multivar:\n",
    "        n_features = 37 #çok değişkenli veri seti için özellik sayısını belirledik\n",
    "    else:\n",
    "        n_features = 1 #tek değişkenli veri seti için özellik sayısını belirledik\n",
    "        \n",
    "    return n_steps,n_horizon,n_features ,lr #öğrenme oranı, pencere boyutu, hedef değişkenin konumu ve özellik sayısını döndürdük"
   ],
   "metadata": {
    "collapsed": false,
    "ExecuteTime": {
     "end_time": "2023-09-16T11:25:11.121874400Z",
     "start_time": "2023-09-16T11:25:11.065957300Z"
    }
   },
   "id": "cb143ce2b81e5e56"
  },
  {
   "cell_type": "markdown",
   "source": [
    "Model Ayarları"
   ],
   "metadata": {
    "collapsed": false
   },
   "id": "41a851e075b60c11"
  },
  {
   "cell_type": "code",
   "execution_count": 214,
   "outputs": [],
   "source": [
    "model_configs = dict() #model ayarlarını tutmak için bir sözlük oluşturduk"
   ],
   "metadata": {
    "collapsed": false,
    "ExecuteTime": {
     "end_time": "2023-09-16T11:26:53.932588400Z",
     "start_time": "2023-09-16T11:26:53.882456600Z"
    }
   },
   "id": "4d8f6c17ff62ef9f"
  },
  {
   "cell_type": "code",
   "execution_count": 215,
   "outputs": [],
   "source": [
    "def cfd_model_run(model,history,test_ds): #modeli çalıştıran fonksiyon\n",
    "    \"\"\"\n",
    "    Verilen modeli çalıştırır.\n",
    "    Parametreler:\n",
    "    ----------\n",
    "    model : tensorflow.python.keras.engine.sequential.Sequential\n",
    "        Çalıştırılacak model\n",
    "    history : tensorflow.python.keras.callbacks.History\n",
    "        Modelin geçmişi\n",
    "    test_ds : tensorflow.python.data.ops.dataset_ops.BatchDataset\n",
    "        Test verileri\n",
    "    Returns:\n",
    "    -------\n",
    "    dict\n",
    "        Model, geçmiş ve test verileri\n",
    "    \"\"\" \n",
    "    return {\"model\":model,\"history\":history,\"test_ds\":test_ds} #modeli, geçmişi ve test verilerini döndürdük"
   ],
   "metadata": {
    "collapsed": false,
    "ExecuteTime": {
     "end_time": "2023-09-16T11:28:37.832214900Z",
     "start_time": "2023-09-16T11:28:37.782079700Z"
    }
   },
   "id": "2492703937994f03"
  },
  {
   "cell_type": "code",
   "execution_count": 217,
   "outputs": [],
   "source": [
    "def run_model(model_name,model_func,model_configs,epoch):\n",
    "    n_steps,n_horizon,n_features,lr = get_params(multivar=True) #veri setinin özelliklerini aldık\n",
    "    \n",
    "    model = model_func(n_steps=n_steps,n_horizon=n_horizon,n_features=n_features,lr=lr) #modeli oluşturduk\n",
    "    \n",
    "    model_hist= model.fit(train_ds,epochs=epoch,validation_data=val_ds) #modeli eğittik\n",
    "    \n",
    "    model_configs[model_name] = cfd_model_run(model,model_hist,test_ds) #modeli çalıştırdık\n",
    "    \n",
    "    return test_ds #test verilerini döndürdük"
   ],
   "metadata": {
    "collapsed": false,
    "ExecuteTime": {
     "end_time": "2023-09-16T12:39:10.509609300Z",
     "start_time": "2023-09-16T12:39:10.494033400Z"
    }
   },
   "id": "94fc943d6a21ea74"
  },
  {
   "cell_type": "markdown",
   "source": [
    "# Model Türleri\n",
    "dnn,cnn,lstmlstm_cnn,lstm_cnn_skip modellerini oluşturmaya çalış!"
   ],
   "metadata": {
    "collapsed": false
   },
   "id": "412337ee066c799b"
  },
  {
   "cell_type": "markdown",
   "source": [
    "DNN Modeli"
   ],
   "metadata": {
    "collapsed": false
   },
   "id": "2da73495fd551873"
  },
  {
   "cell_type": "code",
   "execution_count": null,
   "outputs": [],
   "source": [
    "from tensorflow.keras.models import Sequential #model oluşturmak için kullandığımız kütüphane\n",
    "\n",
    "#DNN Modeli oluşturma\n",
    "\n",
    "\n",
    "def dnn_model():\n",
    "    pass\n"
   ],
   "metadata": {
    "collapsed": false
   },
   "id": "3a205e7a1c332c25"
  }
 ],
 "metadata": {
  "kernelspec": {
   "display_name": "Python 3",
   "language": "python",
   "name": "python3"
  },
  "language_info": {
   "codemirror_mode": {
    "name": "ipython",
    "version": 2
   },
   "file_extension": ".py",
   "mimetype": "text/x-python",
   "name": "python",
   "nbconvert_exporter": "python",
   "pygments_lexer": "ipython2",
   "version": "2.7.6"
  }
 },
 "nbformat": 4,
 "nbformat_minor": 5
}
